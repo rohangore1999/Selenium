{
 "cells": [
  {
   "cell_type": "code",
   "execution_count": 1,
   "id": "5d688ea7",
   "metadata": {},
   "outputs": [],
   "source": [
    "import time\n",
    "from selenium import webdriver\n",
    "from selenium.webdriver.common.keys import Keys\n",
    "from time import sleep\n",
    "import pandas as pd\n",
    "from selenium.webdriver.common.keys import Keys\n",
    "from selenium.common.exceptions import NoSuchElementException\n",
    "import pickle\n",
    "import numpy as np\n",
    "import json\n",
    "\n",
    "import re\n",
    "from collections import OrderedDict\n",
    "from time import strptime\n",
    "\n",
    "import sys"
   ]
  },
  {
   "cell_type": "code",
   "execution_count": 2,
   "id": "19e3ed47",
   "metadata": {},
   "outputs": [],
   "source": [
    "driver = webdriver.Chrome(executable_path=r\"chromedriver.exe\")"
   ]
  },
  {
   "cell_type": "code",
   "execution_count": 3,
   "id": "f3e67404",
   "metadata": {},
   "outputs": [],
   "source": [
    "driver.get('https://finance.yahoo.com/quote/%5EDJI')"
   ]
  },
  {
   "cell_type": "code",
   "execution_count": 21,
   "id": "34a71077",
   "metadata": {},
   "outputs": [
    {
     "data": {
      "text/plain": [
       "'Dow Jones Industrial Average (^DJI)'"
      ]
     },
     "execution_count": 21,
     "metadata": {},
     "output_type": "execute_result"
    }
   ],
   "source": [
    "name = driver.find_element_by_xpath('//*[@id=\"quote-header-info\"]/div[2]/div[1]/div[1]').text\n",
    "name"
   ]
  },
  {
   "cell_type": "code",
   "execution_count": 22,
   "id": "46da48f2",
   "metadata": {},
   "outputs": [
    {
     "data": {
      "text/plain": [
       "'36,821.08'"
      ]
     },
     "execution_count": 22,
     "metadata": {},
     "output_type": "execute_result"
    }
   ],
   "source": [
    "current = driver.find_element_by_xpath('//*[@id=\"quote-header-info\"]/div[3]/div[1]/div/fin-streamer[1]/span').text\n",
    "current"
   ]
  },
  {
   "cell_type": "code",
   "execution_count": 25,
   "id": "c8acba84",
   "metadata": {},
   "outputs": [
    {
     "data": {
      "text/plain": [
       "'+21.43'"
      ]
     },
     "execution_count": 25,
     "metadata": {},
     "output_type": "execute_result"
    }
   ],
   "source": [
    "change = driver.find_element_by_xpath('//*[@id=\"quote-header-info\"]/div[3]/div[1]/div/fin-streamer[2]/span').text\n",
    "change"
   ]
  },
  {
   "cell_type": "code",
   "execution_count": 88,
   "id": "c4912c0e",
   "metadata": {},
   "outputs": [
    {
     "data": {
      "text/plain": [
       "'+0.09%'"
      ]
     },
     "execution_count": 88,
     "metadata": {},
     "output_type": "execute_result"
    }
   ],
   "source": [
    "change_percentage = driver.find_element_by_xpath('//*[@id=\"quote-header-info\"]/div[3]/div[1]/div/fin-streamer[3]/span').text.replace('(','').replace(')','')\n",
    "change_percentage"
   ]
  },
  {
   "cell_type": "code",
   "execution_count": 27,
   "id": "0bff589a",
   "metadata": {},
   "outputs": [
    {
     "data": {
      "text/plain": [
       "'36,799.65'"
      ]
     },
     "execution_count": 27,
     "metadata": {},
     "output_type": "execute_result"
    }
   ],
   "source": [
    "previous_close = driver.find_element_by_xpath('//*[@id=\"quote-summary\"]/div[1]/table/tbody/tr[1]/td[2]').text\n",
    "previous_close"
   ]
  },
  {
   "cell_type": "code",
   "execution_count": 28,
   "id": "4d8bee34",
   "metadata": {},
   "outputs": [
    {
     "data": {
      "text/plain": [
       "'36,722.60'"
      ]
     },
     "execution_count": 28,
     "metadata": {},
     "output_type": "execute_result"
    }
   ],
   "source": [
    "Open = driver.find_element_by_xpath('//*[@id=\"quote-summary\"]/div[1]/table/tbody/tr[2]/td[2]').text\n",
    "Open"
   ]
  },
  {
   "cell_type": "code",
   "execution_count": 29,
   "id": "4e6b984d",
   "metadata": {},
   "outputs": [
    {
     "data": {
      "text/plain": [
       "'78,373,042'"
      ]
     },
     "execution_count": 29,
     "metadata": {},
     "output_type": "execute_result"
    }
   ],
   "source": [
    "volume = driver.find_element_by_xpath('//*[@id=\"quote-summary\"]/div[1]/table/tbody/tr[3]/td[2]').text\n",
    "volume"
   ]
  },
  {
   "cell_type": "code",
   "execution_count": 32,
   "id": "ee060efa",
   "metadata": {},
   "outputs": [
    {
     "data": {
      "text/plain": [
       "'36,722.60 '"
      ]
     },
     "execution_count": 32,
     "metadata": {},
     "output_type": "execute_result"
    }
   ],
   "source": [
    "day_range_min = driver.find_element_by_xpath('//*[@id=\"quote-summary\"]/div[2]/table/tbody/tr[1]/td[2]').text.split('-')[0]\n",
    "day_range_min"
   ]
  },
  {
   "cell_type": "code",
   "execution_count": 35,
   "id": "6fd79c8e",
   "metadata": {},
   "outputs": [
    {
     "data": {
      "text/plain": [
       "' 36,853.60'"
      ]
     },
     "execution_count": 35,
     "metadata": {},
     "output_type": "execute_result"
    }
   ],
   "source": [
    "day_range_max = driver.find_element_by_xpath('//*[@id=\"quote-summary\"]/div[2]/table/tbody/tr[1]/td[2]').text.split('-')[1]\n",
    "day_range_max"
   ]
  },
  {
   "cell_type": "code",
   "execution_count": 37,
   "id": "2c14c818",
   "metadata": {},
   "outputs": [
    {
     "data": {
      "text/plain": [
       "'29,856.30 '"
      ]
     },
     "execution_count": 37,
     "metadata": {},
     "output_type": "execute_result"
    }
   ],
   "source": [
    "_52_week_range_min = driver.find_element_by_xpath('//*[@id=\"quote-summary\"]/div[2]/table/tbody/tr[2]/td[2]').text.split('-')[0]\n",
    "_52_week_range_min"
   ]
  },
  {
   "cell_type": "code",
   "execution_count": 39,
   "id": "aa03b28a",
   "metadata": {},
   "outputs": [
    {
     "data": {
      "text/plain": [
       "' 36,934.84'"
      ]
     },
     "execution_count": 39,
     "metadata": {},
     "output_type": "execute_result"
    }
   ],
   "source": [
    "_52_week_range_max = driver.find_element_by_xpath('//*[@id=\"quote-summary\"]/div[2]/table/tbody/tr[2]/td[2]').text.split('-')[1]\n",
    "_52_week_range_max"
   ]
  },
  {
   "cell_type": "code",
   "execution_count": 40,
   "id": "45eec47f",
   "metadata": {},
   "outputs": [
    {
     "data": {
      "text/plain": [
       "'347,026,031'"
      ]
     },
     "execution_count": 40,
     "metadata": {},
     "output_type": "execute_result"
    }
   ],
   "source": [
    "avg_volume = driver.find_element_by_xpath('//*[@id=\"quote-summary\"]/div[2]/table/tbody/tr[3]/td[2]').text\n",
    "avg_volume"
   ]
  },
  {
   "cell_type": "code",
   "execution_count": null,
   "id": "5b43cb3c",
   "metadata": {},
   "outputs": [],
   "source": [
    "#symbol"
   ]
  },
  {
   "cell_type": "code",
   "execution_count": 44,
   "id": "040851de",
   "metadata": {},
   "outputs": [
    {
     "data": {
      "text/plain": [
       "datetime.datetime(2022, 1, 5, 20, 48, 40, 636243)"
      ]
     },
     "execution_count": 44,
     "metadata": {},
     "output_type": "execute_result"
    }
   ],
   "source": [
    "#timestamp\n",
    "import datetime;\n",
    "  \n",
    "# ct stores current time\n",
    "ct = datetime.datetime.now()\n",
    "ct"
   ]
  },
  {
   "cell_type": "code",
   "execution_count": null,
   "id": "bbc48750",
   "metadata": {},
   "outputs": [],
   "source": []
  },
  {
   "cell_type": "code",
   "execution_count": null,
   "id": "244f9a2a",
   "metadata": {},
   "outputs": [],
   "source": []
  },
  {
   "cell_type": "code",
   "execution_count": null,
   "id": "85e7a808",
   "metadata": {},
   "outputs": [],
   "source": []
  },
  {
   "cell_type": "code",
   "execution_count": null,
   "id": "a962ac70",
   "metadata": {},
   "outputs": [],
   "source": []
  },
  {
   "cell_type": "markdown",
   "id": "a4ddb5d3",
   "metadata": {},
   "source": [
    "### For Stock"
   ]
  },
  {
   "cell_type": "code",
   "execution_count": 45,
   "id": "9e86f1fe",
   "metadata": {},
   "outputs": [],
   "source": [
    "driver.get('https://finance.yahoo.com/quote/HSBC')"
   ]
  },
  {
   "cell_type": "code",
   "execution_count": 65,
   "id": "286d3196",
   "metadata": {},
   "outputs": [
    {
     "data": {
      "text/plain": [
       "'HSBC Holdings plc (HSBC)'"
      ]
     },
     "execution_count": 65,
     "metadata": {},
     "output_type": "execute_result"
    }
   ],
   "source": [
    "name = driver.find_element_by_xpath('//*[@id=\"quote-header-info\"]/div[2]/div[1]/div[1]/h1').text\n",
    "name"
   ]
  },
  {
   "cell_type": "code",
   "execution_count": 66,
   "id": "001236f5",
   "metadata": {},
   "outputs": [
    {
     "data": {
      "text/plain": [
       "'31.83'"
      ]
     },
     "execution_count": 66,
     "metadata": {},
     "output_type": "execute_result"
    }
   ],
   "source": [
    "current = driver.find_element_by_xpath('//*[@id=\"quote-header-info\"]/div[3]/div[1]/div/fin-streamer[1]/span').text\n",
    "current"
   ]
  },
  {
   "cell_type": "code",
   "execution_count": 67,
   "id": "5cc6256e",
   "metadata": {},
   "outputs": [
    {
     "data": {
      "text/plain": [
       "'+0.01'"
      ]
     },
     "execution_count": 67,
     "metadata": {},
     "output_type": "execute_result"
    }
   ],
   "source": [
    "change = driver.find_element_by_xpath('//*[@id=\"quote-header-info\"]/div[3]/div[1]/div/fin-streamer[2]/span').text\n",
    "change"
   ]
  },
  {
   "cell_type": "code",
   "execution_count": 87,
   "id": "42200549",
   "metadata": {},
   "outputs": [
    {
     "data": {
      "text/plain": [
       "'+0.08%'"
      ]
     },
     "execution_count": 87,
     "metadata": {},
     "output_type": "execute_result"
    }
   ],
   "source": [
    "change_percentage = driver.find_element_by_xpath('//*[@id=\"quote-header-info\"]/div[3]/div[1]/div/fin-streamer[3]/span').text.replace('(','').replace(')','')\n",
    "change_percentage"
   ]
  },
  {
   "cell_type": "code",
   "execution_count": 69,
   "id": "40a51597",
   "metadata": {},
   "outputs": [
    {
     "data": {
      "text/plain": [
       "'31.82'"
      ]
     },
     "execution_count": 69,
     "metadata": {},
     "output_type": "execute_result"
    }
   ],
   "source": [
    "previous_close = driver.find_element_by_xpath('//*[@id=\"quote-summary\"]/div[1]/table/tbody/tr[1]/td[2]').text\n",
    "previous_close"
   ]
  },
  {
   "cell_type": "code",
   "execution_count": 71,
   "id": "2d2f6f89",
   "metadata": {},
   "outputs": [
    {
     "data": {
      "text/plain": [
       "'31.69'"
      ]
     },
     "execution_count": 71,
     "metadata": {},
     "output_type": "execute_result"
    }
   ],
   "source": [
    "Open = driver.find_element_by_xpath('//*[@id=\"quote-summary\"]/div[1]/table/tbody/tr[2]/td[2]').text\n",
    "Open"
   ]
  },
  {
   "cell_type": "code",
   "execution_count": 73,
   "id": "df51c829",
   "metadata": {},
   "outputs": [
    {
     "data": {
      "text/plain": [
       "'31.69 '"
      ]
     },
     "execution_count": 73,
     "metadata": {},
     "output_type": "execute_result"
    }
   ],
   "source": [
    "day_range_min = driver.find_element_by_xpath('//*[@id=\"quote-summary\"]/div[1]/table/tbody/tr[5]/td[2]').text.split(\"-\")[0]\n",
    "day_range_min"
   ]
  },
  {
   "cell_type": "code",
   "execution_count": 74,
   "id": "4e843deb",
   "metadata": {},
   "outputs": [
    {
     "data": {
      "text/plain": [
       "' 31.84'"
      ]
     },
     "execution_count": 74,
     "metadata": {},
     "output_type": "execute_result"
    }
   ],
   "source": [
    "day_range_max = driver.find_element_by_xpath('//*[@id=\"quote-summary\"]/div[1]/table/tbody/tr[5]/td[2]').text.split(\"-\")[1]\n",
    "day_range_max"
   ]
  },
  {
   "cell_type": "code",
   "execution_count": 75,
   "id": "7e424d80",
   "metadata": {},
   "outputs": [
    {
     "data": {
      "text/plain": [
       "'24.31 '"
      ]
     },
     "execution_count": 75,
     "metadata": {},
     "output_type": "execute_result"
    }
   ],
   "source": [
    "_52_week_range_min = driver.find_element_by_xpath('//*[@id=\"quote-summary\"]/div[1]/table/tbody/tr[6]/td[2]').text.split(\"-\")[0]\n",
    "_52_week_range_min"
   ]
  },
  {
   "cell_type": "code",
   "execution_count": 76,
   "id": "bbe2003a",
   "metadata": {},
   "outputs": [
    {
     "data": {
      "text/plain": [
       "' 32.43'"
      ]
     },
     "execution_count": 76,
     "metadata": {},
     "output_type": "execute_result"
    }
   ],
   "source": [
    "_52_week_range_max = driver.find_element_by_xpath('//*[@id=\"quote-summary\"]/div[1]/table/tbody/tr[6]/td[2]').text.split(\"-\")[1]\n",
    "_52_week_range_max"
   ]
  },
  {
   "cell_type": "code",
   "execution_count": 77,
   "id": "b3cae92c",
   "metadata": {},
   "outputs": [
    {
     "data": {
      "text/plain": [
       "'855,408'"
      ]
     },
     "execution_count": 77,
     "metadata": {},
     "output_type": "execute_result"
    }
   ],
   "source": [
    "volume = driver.find_element_by_xpath('//*[@id=\"quote-summary\"]/div[1]/table/tbody/tr[7]/td[2]').text\n",
    "volume"
   ]
  },
  {
   "cell_type": "code",
   "execution_count": 78,
   "id": "e060f43c",
   "metadata": {},
   "outputs": [
    {
     "data": {
      "text/plain": [
       "'2,057,571'"
      ]
     },
     "execution_count": 78,
     "metadata": {},
     "output_type": "execute_result"
    }
   ],
   "source": [
    "average_volume = driver.find_element_by_xpath('//*[@id=\"quote-summary\"]/div[1]/table/tbody/tr[8]/td[2]').text\n",
    "average_volume"
   ]
  },
  {
   "cell_type": "code",
   "execution_count": 80,
   "id": "db39aeea",
   "metadata": {},
   "outputs": [
    {
     "data": {
      "text/plain": [
       "'129.283B'"
      ]
     },
     "execution_count": 80,
     "metadata": {},
     "output_type": "execute_result"
    }
   ],
   "source": [
    "market_cap = driver.find_element_by_xpath('//*[@id=\"quote-summary\"]/div[2]/table/tbody/tr[1]/td[2]').text\n",
    "market_cap"
   ]
  },
  {
   "cell_type": "code",
   "execution_count": 79,
   "id": "28671ced",
   "metadata": {},
   "outputs": [
    {
     "data": {
      "text/plain": [
       "'0.68'"
      ]
     },
     "execution_count": 79,
     "metadata": {},
     "output_type": "execute_result"
    }
   ],
   "source": [
    "beta = driver.find_element_by_xpath('//*[@id=\"quote-summary\"]/div[2]/table/tbody/tr[2]/td[2]').text\n",
    "beta"
   ]
  },
  {
   "cell_type": "code",
   "execution_count": 81,
   "id": "a4d23c0c",
   "metadata": {},
   "outputs": [
    {
     "data": {
      "text/plain": [
       "'11.58'"
      ]
     },
     "execution_count": 81,
     "metadata": {},
     "output_type": "execute_result"
    }
   ],
   "source": [
    "pe_ratio = driver.find_element_by_xpath('//*[@id=\"quote-summary\"]/div[2]/table/tbody/tr[3]/td[2]').text\n",
    "pe_ratio"
   ]
  },
  {
   "cell_type": "code",
   "execution_count": 82,
   "id": "39c72f42",
   "metadata": {},
   "outputs": [
    {
     "data": {
      "text/plain": [
       "'2.75'"
      ]
     },
     "execution_count": 82,
     "metadata": {},
     "output_type": "execute_result"
    }
   ],
   "source": [
    "eps = driver.find_element_by_xpath('//*[@id=\"quote-summary\"]/div[2]/table/tbody/tr[4]/td[2]').text\n",
    "eps "
   ]
  },
  {
   "cell_type": "code",
   "execution_count": 83,
   "id": "beec8533",
   "metadata": {},
   "outputs": [
    {
     "data": {
      "text/plain": [
       "'1.10'"
      ]
     },
     "execution_count": 83,
     "metadata": {},
     "output_type": "execute_result"
    }
   ],
   "source": [
    "forward_dividend = driver.find_element_by_xpath('//*[@id=\"quote-summary\"]/div[2]/table/tbody/tr[6]/td[2]').text.split(\" \")[0]\n",
    "forward_dividend"
   ]
  },
  {
   "cell_type": "code",
   "execution_count": 86,
   "id": "86a8133c",
   "metadata": {},
   "outputs": [
    {
     "data": {
      "text/plain": [
       "'3.61%'"
      ]
     },
     "execution_count": 86,
     "metadata": {},
     "output_type": "execute_result"
    }
   ],
   "source": [
    "Yield = driver.find_element_by_xpath('//*[@id=\"quote-summary\"]/div[2]/table/tbody/tr[6]/td[2]').text.split(\" \")[1].replace('(','').replace(')','')\n",
    "Yield"
   ]
  },
  {
   "cell_type": "code",
   "execution_count": null,
   "id": "8abfe56d",
   "metadata": {},
   "outputs": [],
   "source": []
  },
  {
   "cell_type": "code",
   "execution_count": null,
   "id": "b77a1535",
   "metadata": {},
   "outputs": [],
   "source": []
  },
  {
   "cell_type": "code",
   "execution_count": null,
   "id": "fc3c28cd",
   "metadata": {},
   "outputs": [],
   "source": []
  },
  {
   "cell_type": "code",
   "execution_count": 90,
   "id": "d5d052dd",
   "metadata": {},
   "outputs": [
    {
     "data": {
      "text/html": [
       "<div>\n",
       "<style scoped>\n",
       "    .dataframe tbody tr th:only-of-type {\n",
       "        vertical-align: middle;\n",
       "    }\n",
       "\n",
       "    .dataframe tbody tr th {\n",
       "        vertical-align: top;\n",
       "    }\n",
       "\n",
       "    .dataframe thead th {\n",
       "        text-align: right;\n",
       "    }\n",
       "</style>\n",
       "<table border=\"1\" class=\"dataframe\">\n",
       "  <thead>\n",
       "    <tr style=\"text-align: right;\">\n",
       "      <th></th>\n",
       "      <th>Symbol</th>\n",
       "    </tr>\n",
       "  </thead>\n",
       "  <tbody>\n",
       "    <tr>\n",
       "      <th>0</th>\n",
       "      <td>^DJI</td>\n",
       "    </tr>\n",
       "    <tr>\n",
       "      <th>1</th>\n",
       "      <td>HSBC</td>\n",
       "    </tr>\n",
       "    <tr>\n",
       "      <th>2</th>\n",
       "      <td>0005.HK</td>\n",
       "    </tr>\n",
       "    <tr>\n",
       "      <th>3</th>\n",
       "      <td>LFC</td>\n",
       "    </tr>\n",
       "    <tr>\n",
       "      <th>4</th>\n",
       "      <td>AAGIY</td>\n",
       "    </tr>\n",
       "    <tr>\n",
       "      <th>5</th>\n",
       "      <td>1299.HK</td>\n",
       "    </tr>\n",
       "    <tr>\n",
       "      <th>6</th>\n",
       "      <td>^HSI</td>\n",
       "    </tr>\n",
       "  </tbody>\n",
       "</table>\n",
       "</div>"
      ],
      "text/plain": [
       "    Symbol\n",
       "0     ^DJI\n",
       "1     HSBC\n",
       "2  0005.HK\n",
       "3      LFC\n",
       "4    AAGIY\n",
       "5  1299.HK\n",
       "6     ^HSI"
      ]
     },
     "execution_count": 90,
     "metadata": {},
     "output_type": "execute_result"
    }
   ],
   "source": [
    "symbol_lists = pd.read_csv('symbol_lists.csv')\n",
    "symbol_lists"
   ]
  },
  {
   "cell_type": "code",
   "execution_count": 94,
   "id": "0136bf51",
   "metadata": {},
   "outputs": [
    {
     "name": "stdout",
     "output_type": "stream",
     "text": [
      "\n",
      "yes\n",
      "\n",
      "\n",
      "yes\n",
      "\n"
     ]
    }
   ],
   "source": [
    "for symbol in symbol_lists['Symbol']:\n",
    "#     print(symbol)\n",
    "    if '^' in symbol:\n",
    "        print('\\nyes\\n')"
   ]
  },
  {
   "cell_type": "code",
   "execution_count": 9,
   "id": "532ea63b",
   "metadata": {},
   "outputs": [
    {
     "data": {
      "text/plain": [
       "'-0.06'"
      ]
     },
     "execution_count": 9,
     "metadata": {},
     "output_type": "execute_result"
    }
   ],
   "source": [
    "driver.find_element_by_xpath('//*[@id=\"quote-header-info\"]/div[3]/div[1]/div/fin-streamer[2]').text"
   ]
  },
  {
   "cell_type": "code",
   "execution_count": 12,
   "id": "d4ea2e0a",
   "metadata": {},
   "outputs": [
    {
     "data": {
      "text/plain": [
       "'36,860.99'"
      ]
     },
     "execution_count": 12,
     "metadata": {},
     "output_type": "execute_result"
    }
   ],
   "source": [
    "driver.find_element_by_xpath('//*[@id=\"quote-header-info\"]/div[3]/div[1]/div/fin-streamer[1]').text"
   ]
  },
  {
   "cell_type": "code",
   "execution_count": 13,
   "id": "1eadd8ae",
   "metadata": {},
   "outputs": [
    {
     "name": "stdout",
     "output_type": "stream",
     "text": [
      "\n",
      "SYMBOL \n",
      " ^DJI\n",
      "\n",
      " Its a INDEX \n",
      " ^DJI\n",
      "Making JSON\n",
      "Making csv\n",
      "\n",
      "SYMBOL \n",
      " HSBC\n",
      "\n",
      "Its a STOCK \n",
      " HSBC\n",
      "Making JSON\n",
      "Making csv\n",
      "\n",
      "SYMBOL \n",
      " 0005.HK\n",
      "\n",
      "Its a STOCK \n",
      " 0005.HK\n",
      "Making JSON\n",
      "Making csv\n",
      "\n",
      "SYMBOL \n",
      " LFC\n",
      "\n",
      "Its a STOCK \n",
      " LFC\n",
      "Making JSON\n",
      "Making csv\n",
      "\n",
      "SYMBOL \n",
      " AAGIY\n",
      "\n",
      "Its a STOCK \n",
      " AAGIY\n",
      "Making JSON\n",
      "Making csv\n",
      "\n",
      "SYMBOL \n",
      " 1299.HK\n",
      "\n",
      "Its a STOCK \n",
      " 1299.HK\n",
      "Making JSON\n",
      "Making csv\n",
      "\n",
      "SYMBOL \n",
      " ^HSI\n",
      "\n",
      " Its a INDEX \n",
      " ^HSI\n",
      "Making JSON\n",
      "Making csv\n"
     ]
    }
   ],
   "source": [
    "import time\n",
    "from selenium import webdriver\n",
    "from selenium.webdriver.common.keys import Keys\n",
    "from time import sleep\n",
    "import pandas as pd\n",
    "from selenium.webdriver.common.keys import Keys\n",
    "from selenium.common.exceptions import NoSuchElementException\n",
    "import pickle\n",
    "import numpy as np\n",
    "import json\n",
    "\n",
    "import re\n",
    "from collections import OrderedDict\n",
    "from time import strptime\n",
    "\n",
    "import sys\n",
    "\n",
    "import datetime;\n",
    "\n",
    "# list of dictionary\n",
    "main = []\n",
    "\n",
    "# Initializing data Frame\n",
    "df = pd.DataFrame()\n",
    "\n",
    "driver = webdriver.Chrome(executable_path=r\"chromedriver.exe\")\n",
    "driver.get('https://finance.yahoo.com/quote/%5EDJI')\n",
    "\n",
    "\n",
    "# reading csv\n",
    "symbol_lists = pd.read_csv('symbol_lists.csv')\n",
    "\n",
    "\n",
    "for symbol in symbol_lists['Symbol']:\n",
    "    print(\"\\nSYMBOL \\n\",symbol)\n",
    "    driver.get(f'https://finance.yahoo.com/quote/{symbol}')\n",
    "    \n",
    "    if '^' in symbol:\n",
    "        print(\"\\n Its a INDEX \\n\", symbol)\n",
    "        \n",
    "        #INDEX\n",
    "        try:\n",
    "            name = driver.find_element_by_xpath('//*[@id=\"quote-header-info\"]/div[2]/div[1]/div[1]').text\n",
    "        except:\n",
    "            name = 'none'\n",
    "\n",
    "        try:\n",
    "            current = driver.find_element_by_xpath('//*[@id=\"quote-header-info\"]/div[3]/div[1]/div/fin-streamer[1]').text\n",
    "        except:\n",
    "            current = 'none'\n",
    "\n",
    "        try:\n",
    "            change = driver.find_element_by_xpath('//*[@id=\"quote-header-info\"]/div[3]/div[1]/div/fin-streamer[2]/span').text\n",
    "        except:\n",
    "            change = 'none'\n",
    "\n",
    "        try:\n",
    "            change_percentage = driver.find_element_by_xpath('//*[@id=\"quote-header-info\"]/div[3]/div[1]/div/fin-streamer[3]/span').text.replace('(','').replace(')','')\n",
    "        except:\n",
    "            change_percentage = \"none\"\n",
    "\n",
    "        try:\n",
    "            previous_close = driver.find_element_by_xpath('//*[@id=\"quote-summary\"]/div[1]/table/tbody/tr[1]/td[2]').text\n",
    "        except:\n",
    "            previous_close = \"none\"\n",
    "\n",
    "        try:\n",
    "            Open = driver.find_element_by_xpath('//*[@id=\"quote-summary\"]/div[1]/table/tbody/tr[2]/td[2]').text\n",
    "        except:\n",
    "            Open = \"none\"\n",
    "\n",
    "        try:\n",
    "            volume = driver.find_element_by_xpath('//*[@id=\"quote-summary\"]/div[1]/table/tbody/tr[3]/td[2]').text\n",
    "        except:\n",
    "            volume = \"none\"\n",
    "\n",
    "        try:\n",
    "            day_range_min = driver.find_element_by_xpath('//*[@id=\"quote-summary\"]/div[2]/table/tbody/tr[1]/td[2]').text.split('-')[0]\n",
    "        except:\n",
    "            day_range_min = \"none\"\n",
    "\n",
    "        try:\n",
    "            day_range_max = driver.find_element_by_xpath('//*[@id=\"quote-summary\"]/div[2]/table/tbody/tr[1]/td[2]').text.split('-')[1]\n",
    "        except:\n",
    "            day_range_max = \"none\"\n",
    "\n",
    "        try:\n",
    "            _52_week_range_min = driver.find_element_by_xpath('//*[@id=\"quote-summary\"]/div[2]/table/tbody/tr[2]/td[2]').text.split('-')[0]\n",
    "        except:\n",
    "            _52_week_range_min = \"none\"\n",
    "\n",
    "        try:\n",
    "            _52_week_range_max = driver.find_element_by_xpath('//*[@id=\"quote-summary\"]/div[2]/table/tbody/tr[2]/td[2]').text.split('-')[1]\n",
    "        except:\n",
    "            _52_week_range_max = \"none\"\n",
    "\n",
    "        try:\n",
    "            avg_volume = driver.find_element_by_xpath('//*[@id=\"quote-summary\"]/div[2]/table/tbody/tr[3]/td[2]').text\n",
    "        except:\n",
    "            avg_volume = \"none\"\n",
    "\n",
    "        timestamp = datetime.datetime.now()\n",
    "\n",
    "\n",
    "        #making dictonary\n",
    "        data = {\n",
    "            'symbol':symbol,\n",
    "            'name':name,\n",
    "            'current':current.replace(\",\",\"\"),\n",
    "            'change':change,\n",
    "            'change_percentage': change_percentage,\n",
    "            'previous_close':previous_close.replace(\",\",\"\"),\n",
    "            'open':Open.replace(\",\",\"\"),\n",
    "            'volume':volume.replace(\",\",\"\"),\n",
    "            'day_range_min':day_range_min.replace(\",\",\"\"),\n",
    "            'day_range_max': day_range_max.replace(\",\",\"\"),\n",
    "            '52_week_range_min':_52_week_range_min.replace(\",\",\"\"),\n",
    "            '52_week_range_max': _52_week_range_max.replace(\",\",\"\"),\n",
    "            'avg_volume': avg_volume.replace(\",\",\"\"),\n",
    "            'timestamp':str(timestamp)\n",
    "         }\n",
    "\n",
    "\n",
    "        #append it to main data\n",
    "        main.append(data)\n",
    "        print(\"Making JSON\")\n",
    "        #Open and save in json file\n",
    "        with open(\"demo.json\", 'w', encoding=\"utf-8\") as f:\n",
    "                  json.dump(main, f,indent=4, ensure_ascii=False)\n",
    "\n",
    "\n",
    "        #creating dataframe\n",
    "        df = df.append({\n",
    "            'symbol':symbol,\n",
    "            'name':name,\n",
    "            'current':current.replace(\",\",\"\"),\n",
    "            'change':change,\n",
    "            'change_percentage': change_percentage,\n",
    "            'previous_close':previous_close.replace(\",\",\"\"),\n",
    "            'open':Open.replace(\",\",\"\"),\n",
    "            'volume':volume.replace(\",\",\"\"),\n",
    "            'day_range_min':day_range_min.replace(\",\",\"\"),\n",
    "            'day_range_max': day_range_max.replace(\",\",\"\"),\n",
    "            '52_week_range_min':_52_week_range_min.replace(\",\",\"\"),\n",
    "            '52_week_range_max': _52_week_range_max.replace(\",\",\"\"),\n",
    "            'avg_volume': avg_volume.replace(\",\",\"\"),\n",
    "            'timestamp':str(timestamp)\n",
    "         }, ignore_index=True)\n",
    "\n",
    "        print(\"Making csv\")\n",
    "        df.to_csv('input_dataframe.csv')  \n",
    "\n",
    "    else:\n",
    "        print(\"\\nIts a STOCK \\n\", symbol)\n",
    "\n",
    "\n",
    "        #Stocks\n",
    "        try:\n",
    "            name = driver.find_element_by_xpath('//*[@id=\"quote-header-info\"]/div[2]/div[1]/div[1]/h1').text\n",
    "        except:\n",
    "            name = \"none\"\n",
    "\n",
    "        try:\n",
    "            current = driver.find_element_by_xpath('//*[@id=\"quote-header-info\"]/div[3]/div[1]/div/fin-streamer[1]').text\n",
    "        except:\n",
    "            current = 'none'\n",
    "\n",
    "        try:\n",
    "            change = driver.find_element_by_xpath('//*[@id=\"quote-header-info\"]/div[3]/div[1]/div/fin-streamer[2]/span').text\n",
    "        except:\n",
    "            change = \"none\"\n",
    "\n",
    "        try:\n",
    "            change_percentage = driver.find_element_by_xpath('//*[@id=\"quote-header-info\"]/div[3]/div[1]/div/fin-streamer[3]/span').text.replace('(','').replace(')','')\n",
    "        except:\n",
    "            change_percentage=\"none\"\n",
    "\n",
    "        try:\n",
    "            previous_close = driver.find_element_by_xpath('//*[@id=\"quote-summary\"]/div[1]/table/tbody/tr[1]/td[2]').text\n",
    "        except:\n",
    "            previous_close = \"none\"\n",
    "\n",
    "        try:\n",
    "            Open = driver.find_element_by_xpath('//*[@id=\"quote-summary\"]/div[1]/table/tbody/tr[2]/td[2]').text\n",
    "        except:\n",
    "            Open = \"none\"\n",
    "\n",
    "        try:\n",
    "            day_range_min = driver.find_element_by_xpath('//*[@id=\"quote-summary\"]/div[1]/table/tbody/tr[5]/td[2]').text.split(\"-\")[0]\n",
    "        except:\n",
    "            day_range_min = \"none\"\n",
    "\n",
    "        try:\n",
    "            day_range_max = driver.find_element_by_xpath('//*[@id=\"quote-summary\"]/div[1]/table/tbody/tr[5]/td[2]').text.split(\"-\")[1]\n",
    "        except:\n",
    "            day_range_max = \"none\"\n",
    "\n",
    "        try:\n",
    "            _52_week_range_min = driver.find_element_by_xpath('//*[@id=\"quote-summary\"]/div[1]/table/tbody/tr[6]/td[2]').text.split(\"-\")[0]\n",
    "        except:\n",
    "            _52_week_range_min = \"none\"\n",
    "\n",
    "        try:\n",
    "            _52_week_range_max = driver.find_element_by_xpath('//*[@id=\"quote-summary\"]/div[1]/table/tbody/tr[6]/td[2]').text.split(\"-\")[1]\n",
    "        except:\n",
    "            _52_week_range_max = \"none\"\n",
    "\n",
    "        try:\n",
    "            volume = driver.find_element_by_xpath('//*[@id=\"quote-summary\"]/div[1]/table/tbody/tr[7]/td[2]').text\n",
    "        except:\n",
    "            volume = \"none\"\n",
    "\n",
    "        try:\n",
    "            average_volume = driver.find_element_by_xpath('//*[@id=\"quote-summary\"]/div[1]/table/tbody/tr[8]/td[2]').text\n",
    "        except:\n",
    "            average_volume = \"none\"\n",
    "\n",
    "        try:\n",
    "            market_cap = driver.find_element_by_xpath('//*[@id=\"quote-summary\"]/div[2]/table/tbody/tr[1]/td[2]').text\n",
    "        except:\n",
    "            market_cap = \"none\"\n",
    "\n",
    "        try:\n",
    "            beta = driver.find_element_by_xpath('//*[@id=\"quote-summary\"]/div[2]/table/tbody/tr[2]/td[2]').text\n",
    "        except:\n",
    "            beta = \"none\"\n",
    "\n",
    "        try:\n",
    "            pe_ratio = driver.find_element_by_xpath('//*[@id=\"quote-summary\"]/div[2]/table/tbody/tr[3]/td[2]').text\n",
    "        except:\n",
    "            pe_ratio = \"none\"\n",
    "\n",
    "        try:\n",
    "            eps = driver.find_element_by_xpath('//*[@id=\"quote-summary\"]/div[2]/table/tbody/tr[4]/td[2]').text\n",
    "        except:\n",
    "            eps = \"none\"\n",
    "\n",
    "        try:\n",
    "            forward_dividend = driver.find_element_by_xpath('//*[@id=\"quote-summary\"]/div[2]/table/tbody/tr[6]/td[2]').text.split(\" \")[0]\n",
    "        except:\n",
    "            forward_dividend = \"none\"\n",
    "\n",
    "        try:\n",
    "            Yield = driver.find_element_by_xpath('//*[@id=\"quote-summary\"]/div[2]/table/tbody/tr[6]/td[2]').text.split(\" \")[1].replace('(','').replace(')','')\n",
    "        except:\n",
    "            Yield = \"none\"\n",
    "\n",
    "        timestamp = datetime.datetime.now()\n",
    "\n",
    "\n",
    "        #making dictonary\n",
    "        data = {\n",
    "            'symbol':symbol,\n",
    "            'name':name,\n",
    "            'current':current.replace(\",\",\"\"),\n",
    "            'change':change,\n",
    "            'change_percentage': change_percentage,\n",
    "            'previous_close':previous_close.replace(\",\",\"\"),\n",
    "            'open':Open.replace(\",\",\"\"),\n",
    "            'volume':volume.replace(\",\",\"\"),\n",
    "            'day_range_min':day_range_min.replace(\",\",\"\"),\n",
    "            'day_range_max': day_range_max.replace(\",\",\"\"),\n",
    "            '52_week_range_min':_52_week_range_min.replace(\",\",\"\"),\n",
    "            '52_week_range_max': _52_week_range_max.replace(\",\",\"\"),\n",
    "            'avg_volume': avg_volume.replace(\",\",\"\"),\n",
    "            'market_cap':market_cap,\n",
    "            'beta':beta,\n",
    "            'pe_ratio':pe_ratio,\n",
    "            'eps':eps,\n",
    "            'forward_dividend':forward_dividend,\n",
    "            'yield':Yield,\n",
    "            'timestamp':str(timestamp)\n",
    "         }\n",
    "\n",
    "\n",
    "        #append it to main data\n",
    "        main.append(data)\n",
    "        print(\"Making JSON\")\n",
    "        #Open and save in json file\n",
    "        with open(\"demo.json\", 'w', encoding=\"utf-8\") as f:\n",
    "                  json.dump(main, f,indent=4, ensure_ascii=False)\n",
    "\n",
    "\n",
    "        #creating dataframe\n",
    "        df = df.append({\n",
    "            'symbol':symbol,\n",
    "            'name':name,\n",
    "            'current':current.replace(\",\",\"\"),\n",
    "            'change':change,\n",
    "            'change_percentage': change_percentage,\n",
    "            'previous_close':previous_close.replace(\",\",\"\"),\n",
    "            'open':Open.replace(\",\",\"\"),\n",
    "            'volume':volume.replace(\",\",\"\"),\n",
    "            'day_range_min':day_range_min.replace(\",\",\"\"),\n",
    "            'day_range_max': day_range_max.replace(\",\",\"\"),\n",
    "            '52_week_range_min':_52_week_range_min.replace(\",\",\"\"),\n",
    "            '52_week_range_max': _52_week_range_max.replace(\",\",\"\"),\n",
    "            'avg_volume': avg_volume.replace(\",\",\"\"),\n",
    "            'market_cap':market_cap,\n",
    "            'beta':beta,\n",
    "            'pe_ratio':pe_ratio,\n",
    "            'eps':eps,\n",
    "            'forward_dividend':forward_dividend,\n",
    "            'yield':Yield,\n",
    "            'timestamp':str(timestamp)\n",
    "         }, ignore_index=True)\n",
    "\n",
    "        print(\"Making csv\")\n",
    "        df.to_csv('input_dataframe.csv')  \n"
   ]
  },
  {
   "cell_type": "code",
   "execution_count": null,
   "id": "62a92899",
   "metadata": {},
   "outputs": [],
   "source": []
  }
 ],
 "metadata": {
  "kernelspec": {
   "display_name": "Python 3",
   "language": "python",
   "name": "python3"
  },
  "language_info": {
   "codemirror_mode": {
    "name": "ipython",
    "version": 3
   },
   "file_extension": ".py",
   "mimetype": "text/x-python",
   "name": "python",
   "nbconvert_exporter": "python",
   "pygments_lexer": "ipython3",
   "version": "3.6.2"
  }
 },
 "nbformat": 4,
 "nbformat_minor": 5
}
