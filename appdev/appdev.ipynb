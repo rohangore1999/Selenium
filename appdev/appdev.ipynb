{
 "cells": [
  {
   "cell_type": "code",
   "execution_count": 1,
   "id": "815d52b3",
   "metadata": {},
   "outputs": [],
   "source": [
    "import time\n",
    "from selenium import webdriver\n",
    "from selenium.webdriver.common.keys import Keys\n",
    "from time import sleep\n",
    "import pandas as pd\n",
    "from selenium.webdriver.common.keys import Keys\n",
    "from selenium.common.exceptions import NoSuchElementException\n",
    "import pickle\n",
    "import numpy as np\n",
    "import json\n",
    "\n",
    "import re\n",
    "from collections import OrderedDict\n",
    "from time import strptime\n",
    "\n",
    "import sys"
   ]
  },
  {
   "cell_type": "code",
   "execution_count": 2,
   "id": "b8d183e3",
   "metadata": {},
   "outputs": [],
   "source": [
    "file = open(\"input_links.txt\", \"r\")\n",
    "c = file.read()"
   ]
  },
  {
   "cell_type": "code",
   "execution_count": 6,
   "id": "748d904f",
   "metadata": {},
   "outputs": [],
   "source": [
    "c = c.replace('\\n',\"\").split(\",\")"
   ]
  },
  {
   "cell_type": "code",
   "execution_count": 7,
   "id": "fe40e2c0",
   "metadata": {},
   "outputs": [
    {
     "data": {
      "text/plain": [
       "['https://appdevelopmentcompanies.co/local-agencies/ch/3dcart/ecommerce-developers/bern',\n",
       " 'https://appdevelopmentcompanies.co/local-agencies/de/3dcart/ecommerce-developers/munich',\n",
       " 'https://appdevelopmentcompanies.co/local-agencies/ch/bigcommerce/ecommerce-developers/bern',\n",
       " 'https://appdevelopmentcompanies.co/local-agencies/de/bigcommerce/ecommerce-developers/munich',\n",
       " 'https://appdevelopmentcompanies.co/local-agencies/ch/cs-cart/ecommerce-developers/bern',\n",
       " 'https://appdevelopmentcompanies.co/local-agencies/de/cs-cart/ecommerce-developers/munich',\n",
       " 'https://appdevelopmentcompanies.co/local-agencies/de/magento/ecommerce-developers/munich',\n",
       " 'https://appdevelopmentcompanies.co/local-agencies/ch/shopify/ecommerce-developers/bern',\n",
       " 'https://appdevelopmentcompanies.co/local-agencies/de/shopify/ecommerce-developers/munich',\n",
       " 'https://appdevelopmentcompanies.co/local-agencies/ch/volusion/ecommerce-developers/bern',\n",
       " 'https://appdevelopmentcompanies.co/local-agencies/de/volusion/ecommerce-developers/munich',\n",
       " 'https://appdevelopmentcompanies.co/local-agencies/ch/woocommerce/ecommerce-developers/bern',\n",
       " 'https://appdevelopmentcompanies.co/local-agencies/de/woocommerce/ecommerce-developers/munich\\t']"
      ]
     },
     "execution_count": 7,
     "metadata": {},
     "output_type": "execute_result"
    }
   ],
   "source": [
    "c"
   ]
  },
  {
   "cell_type": "code",
   "execution_count": 4,
   "id": "7896d44a",
   "metadata": {},
   "outputs": [],
   "source": [
    "driver = webdriver.Chrome(executable_path=r\"chromedriver.exe\")"
   ]
  },
  {
   "cell_type": "code",
   "execution_count": 8,
   "id": "0bd22d9b",
   "metadata": {},
   "outputs": [],
   "source": [
    "driver.get(c[0])"
   ]
  },
  {
   "cell_type": "markdown",
   "id": "a416ab8a",
   "metadata": {},
   "source": [
    "Location\n",
    "Title\n",
    "Category\n",
    "Company Name\n",
    "Company Logo \n",
    "Website Link\n",
    "Founded\n",
    "Hourly rate\n",
    "Employee\n",
    "Contact\n",
    "Email\n",
    "Clutch rating\n",
    "Service line : must be comma separated"
   ]
  },
  {
   "cell_type": "markdown",
   "id": "1a941456",
   "metadata": {},
   "source": [
    "The List of Top 10+ Mobile App Development Companies In Indore | Top App Developers Indore October 2021 | Top Indore App Developers October 2021\n",
    "\n",
    "Before | you can consider as title \n",
    "\n",
    "And in that after IN is always location"
   ]
  },
  {
   "cell_type": "code",
   "execution_count": 10,
   "id": "053106fc",
   "metadata": {},
   "outputs": [
    {
     "data": {
      "text/plain": [
       "10"
      ]
     },
     "execution_count": 10,
     "metadata": {},
     "output_type": "execute_result"
    }
   ],
   "source": [
    "com_len = len(driver.find_element_by_class_name('company-listing').find_elements_by_class_name('list-item'))\n",
    "com_len"
   ]
  },
  {
   "cell_type": "code",
   "execution_count": 11,
   "id": "bb8948dd",
   "metadata": {},
   "outputs": [
    {
     "data": {
      "text/plain": [
       "'Hyperlink'"
      ]
     },
     "execution_count": 11,
     "metadata": {},
     "output_type": "execute_result"
    }
   ],
   "source": [
    "# company name\n",
    "driver.find_element_by_class_name('company-listing').find_elements_by_class_name('list-item')[0].find_element_by_tag_name('h3').text.split(\" \")[1]"
   ]
  },
  {
   "cell_type": "code",
   "execution_count": 12,
   "id": "1dcd42bb",
   "metadata": {},
   "outputs": [
    {
     "data": {
      "text/plain": [
       "'https://appdevelopmentcompanies.co/front_assets/img/company-logo/hyperlink-infosystem.jpg'"
      ]
     },
     "execution_count": 12,
     "metadata": {},
     "output_type": "execute_result"
    }
   ],
   "source": [
    "# company logo\n",
    "driver.find_element_by_class_name('company-listing').find_elements_by_class_name('list-item')[0].find_element_by_class_name('image').find_element_by_tag_name('img').get_attribute('src')"
   ]
  },
  {
   "cell_type": "code",
   "execution_count": 13,
   "id": "7d6eff9e",
   "metadata": {},
   "outputs": [
    {
     "data": {
      "text/plain": [
       "'https://www.hyperlinkinfosystem.com/'"
      ]
     },
     "execution_count": 13,
     "metadata": {},
     "output_type": "execute_result"
    }
   ],
   "source": [
    "# Website Link\n",
    "driver.find_element_by_class_name('company-listing').find_elements_by_class_name('list-item')[0].find_element_by_tag_name('h3').find_element_by_tag_name('a').get_attribute('href')"
   ]
  },
  {
   "cell_type": "code",
   "execution_count": 14,
   "id": "5d1d4b20",
   "metadata": {},
   "outputs": [
    {
     "data": {
      "text/plain": [
       "' 2011'"
      ]
     },
     "execution_count": 14,
     "metadata": {},
     "output_type": "execute_result"
    }
   ],
   "source": [
    "# founded\n",
    "driver.find_element_by_class_name('company-listing').find_elements_by_class_name('list-item')[0].find_element_by_class_name('details').find_element_by_class_name('feature-list').find_elements_by_tag_name('tr')[0].text.split(\":\")[1]"
   ]
  },
  {
   "cell_type": "code",
   "execution_count": 15,
   "id": "25b80040",
   "metadata": {},
   "outputs": [
    {
     "data": {
      "text/plain": [
       "' < $25'"
      ]
     },
     "execution_count": 15,
     "metadata": {},
     "output_type": "execute_result"
    }
   ],
   "source": [
    "# horuly rate\n",
    "driver.find_element_by_class_name('company-listing').find_elements_by_class_name('list-item')[0].find_element_by_class_name('details').find_element_by_class_name('feature-list').find_elements_by_tag_name('tr')[1].text.split(\":\")[1]"
   ]
  },
  {
   "cell_type": "code",
   "execution_count": 16,
   "id": "cf80c143",
   "metadata": {},
   "outputs": [
    {
     "data": {
      "text/plain": [
       "' 50 - 249'"
      ]
     },
     "execution_count": 16,
     "metadata": {},
     "output_type": "execute_result"
    }
   ],
   "source": [
    "# employee\n",
    "driver.find_element_by_class_name('company-listing').find_elements_by_class_name('list-item')[0].find_element_by_class_name('details').find_elements_by_class_name('feature-list')[0].find_elements_by_tag_name('tr')[2].text.split(\":\")[1]"
   ]
  },
  {
   "cell_type": "code",
   "execution_count": 17,
   "id": "6f11cd24",
   "metadata": {},
   "outputs": [
    {
     "data": {
      "text/plain": [
       "' +13097914105'"
      ]
     },
     "execution_count": 17,
     "metadata": {},
     "output_type": "execute_result"
    }
   ],
   "source": [
    "# contact\n",
    "driver.find_element_by_class_name('company-listing').find_elements_by_class_name('list-item')[0].find_element_by_class_name('details').find_elements_by_class_name('feature-list')[1].find_elements_by_tag_name('tr')[0].text.split(\":\")[1]"
   ]
  },
  {
   "cell_type": "code",
   "execution_count": 18,
   "id": "b298c36d",
   "metadata": {},
   "outputs": [
    {
     "data": {
      "text/plain": [
       "' info@hyperlinkinfosystem.com'"
      ]
     },
     "execution_count": 18,
     "metadata": {},
     "output_type": "execute_result"
    }
   ],
   "source": [
    "# email\n",
    "driver.find_element_by_class_name('company-listing').find_elements_by_class_name('list-item')[0].find_element_by_class_name('details').find_elements_by_class_name('feature-list')[1].find_elements_by_tag_name('tr')[1].text.split(\":\")[1]"
   ]
  },
  {
   "cell_type": "code",
   "execution_count": 19,
   "id": "a8113b68",
   "metadata": {},
   "outputs": [
    {
     "data": {
      "text/plain": [
       "' 4.9'"
      ]
     },
     "execution_count": 19,
     "metadata": {},
     "output_type": "execute_result"
    }
   ],
   "source": [
    "# Clutch rating\n",
    "driver.find_element_by_class_name('company-listing').find_elements_by_class_name('list-item')[0].find_element_by_class_name('details').find_elements_by_class_name('feature-list')[1].find_elements_by_tag_name('tr')[2].text.split(\":\")[1]"
   ]
  },
  {
   "cell_type": "code",
   "execution_count": 20,
   "id": "d7cfa82e",
   "metadata": {},
   "outputs": [
    {
     "data": {
      "text/plain": [
       "12"
      ]
     },
     "execution_count": 20,
     "metadata": {},
     "output_type": "execute_result"
    }
   ],
   "source": [
    "# service length\n",
    "ser_len = len(driver.find_element_by_class_name('company-listing').find_elements_by_class_name('list-item')[0].find_element_by_class_name('details').find_element_by_class_name('service-line').find_elements_by_class_name('owl-item'))\n",
    "ser_len"
   ]
  },
  {
   "cell_type": "code",
   "execution_count": 21,
   "id": "2160be45",
   "metadata": {},
   "outputs": [
    {
     "name": "stdout",
     "output_type": "stream",
     "text": [
      "0\n",
      "1\n",
      "2\n",
      "3\n",
      "4\n",
      "5\n",
      "6\n",
      "7\n",
      "8\n",
      "9\n",
      "10\n",
      "11\n"
     ]
    }
   ],
   "source": [
    "services = []\n",
    "for s in range(ser_len):\n",
    "    print(s)\n",
    "    services.append(driver.find_element_by_class_name('company-listing').find_elements_by_class_name('list-item')[0].find_element_by_class_name('details').find_element_by_class_name('service-line').find_elements_by_class_name('owl-item')[s].find_element_by_tag_name('img').get_attribute('alt'))"
   ]
  },
  {
   "cell_type": "code",
   "execution_count": 22,
   "id": "1e23b44c",
   "metadata": {},
   "outputs": [
    {
     "data": {
      "text/plain": [
       "['web-development',\n",
       " 'web-design',\n",
       " 'php-development',\n",
       " 'wordpress-development',\n",
       " 'angularjs-development',\n",
       " 'nodejs-development',\n",
       " 'e-commerce',\n",
       " 'mobile-app-development',\n",
       " 'ar-app-development',\n",
       " 'vr-app-development',\n",
       " 'cms-development',\n",
       " 'ruby-on-rails']"
      ]
     },
     "execution_count": 22,
     "metadata": {},
     "output_type": "execute_result"
    }
   ],
   "source": [
    "services"
   ]
  },
  {
   "cell_type": "code",
   "execution_count": 94,
   "id": "c1b941f3",
   "metadata": {},
   "outputs": [],
   "source": [
    "title = driver.find_element_by_class_name('company-details').text.split(\"|\")[0]"
   ]
  },
  {
   "cell_type": "code",
   "execution_count": 98,
   "id": "1740af14",
   "metadata": {},
   "outputs": [],
   "source": [
    "location = driver.find_element_by_class_name('company-details').text.split(\"|\")[0].split('in')[1]"
   ]
  },
  {
   "cell_type": "code",
   "execution_count": null,
   "id": "59d4a7ed",
   "metadata": {},
   "outputs": [],
   "source": []
  },
  {
   "cell_type": "code",
   "execution_count": 113,
   "id": "77f7fffc",
   "metadata": {},
   "outputs": [],
   "source": [
    "file = open(\"input_links.txt\", \"r\")\n",
    "links = file.read()\n",
    "links = links.replace('\\n',\"\").split(\",\")"
   ]
  },
  {
   "cell_type": "code",
   "execution_count": 114,
   "id": "f83ff590",
   "metadata": {},
   "outputs": [
    {
     "data": {
      "text/plain": [
       "['https://appdevelopmentcompanies.co/local-agencies/in/app-developers/indore',\n",
       " 'https://appdevelopmentcompanies.co/local-agencies/in/app-developers/indore']"
      ]
     },
     "execution_count": 114,
     "metadata": {},
     "output_type": "execute_result"
    }
   ],
   "source": [
    "links"
   ]
  },
  {
   "cell_type": "code",
   "execution_count": 31,
   "id": "a92210ee",
   "metadata": {
    "scrolled": true
   },
   "outputs": [
    {
     "name": "stdout",
     "output_type": "stream",
     "text": [
      "Link =>  https://appdevelopmentcompanies.co/local-agencies/ch/3dcart/ecommerce-developers/bern\n",
      "Company Name =>  Hyperlink\n",
      "Making JSON\n",
      "Making csv\n",
      "Company Name =>  BeDjango\n",
      "Making JSON\n",
      "Making csv\n",
      "Company Name =>  Skywell\n",
      "Making JSON\n",
      "Making csv\n",
      "Company Name =>  Tapptic\n",
      "Making JSON\n",
      "Making csv\n",
      "Company Name =>  ESGROUP\n",
      "Making JSON\n",
      "Making csv\n",
      "Company Name =>  Bytebrand\n",
      "Making JSON\n",
      "Making csv\n",
      "Company Name =>  La\n",
      "Making JSON\n",
      "Making csv\n",
      "Company Name =>  Q\n",
      "Making JSON\n",
      "Making csv\n",
      "Company Name =>  Innovecs\n",
      "Making JSON\n",
      "Making csv\n",
      "Company Name =>  Django\n",
      "Making JSON\n",
      "Making csv\n",
      "Link =>  https://appdevelopmentcompanies.co/local-agencies/de/3dcart/ecommerce-developers/munich\n",
      "Company Name =>  Hyperlink\n",
      "Making JSON\n",
      "Making csv\n",
      "Company Name =>  International\n",
      "Making JSON\n",
      "Making csv\n",
      "Company Name =>  Inpsyde\n",
      "Making JSON\n",
      "Making csv\n",
      "Company Name =>  SoftServe\n",
      "Making JSON\n",
      "Making csv\n",
      "Company Name =>  EdgeCase\n",
      "Making JSON\n",
      "Making csv\n",
      "Company Name =>  IT\n",
      "Making JSON\n",
      "Making csv\n",
      "Company Name =>  X1\n",
      "Making JSON\n",
      "Making csv\n",
      "Company Name =>  Radish\n",
      "Making JSON\n",
      "Making csv\n",
      "Company Name =>  SaM\n",
      "Making JSON\n",
      "Making csv\n",
      "Company Name =>  iteo\n",
      "Making JSON\n",
      "Making csv\n",
      "Link =>  https://appdevelopmentcompanies.co/local-agencies/ch/bigcommerce/ecommerce-developers/bern\n",
      "Company Name =>  Hyperlink\n",
      "Making JSON\n",
      "Making csv\n",
      "Company Name =>  Positive\n",
      "Making JSON\n",
      "Making csv\n",
      "Company Name =>  ESGROUP\n",
      "Making JSON\n",
      "Making csv\n",
      "Company Name =>  Nephila\n",
      "Making JSON\n",
      "Making csv\n",
      "Company Name =>  Bytebrand\n",
      "Making JSON\n",
      "Making csv\n",
      "Company Name =>  Tapptic\n",
      "Making JSON\n",
      "Making csv\n",
      "Company Name =>  Innovecs\n",
      "Making JSON\n",
      "Making csv\n",
      "Company Name =>  Incode\n",
      "Making JSON\n",
      "Making csv\n",
      "Company Name =>  ICON\n",
      "Making JSON\n",
      "Making csv\n",
      "Company Name =>  Q\n",
      "Making JSON\n",
      "Making csv\n",
      "Link =>  https://appdevelopmentcompanies.co/local-agencies/de/bigcommerce/ecommerce-developers/munich\n",
      "Company Name =>  Hyperlink\n",
      "Making JSON\n",
      "Making csv\n",
      "Company Name =>  Ingenious\n",
      "Making JSON\n",
      "Making csv\n",
      "Company Name =>  Inpsyde\n",
      "Making JSON\n",
      "Making csv\n",
      "Company Name =>  Radish\n",
      "Making JSON\n",
      "Making csv\n",
      "Company Name =>  MVP\n",
      "Making JSON\n",
      "Making csv\n",
      "Company Name =>  Mobiteam\n",
      "Making JSON\n",
      "Making csv\n",
      "Company Name =>  EdgeCase\n",
      "Making JSON\n",
      "Making csv\n",
      "Company Name =>  X1\n",
      "Making JSON\n",
      "Making csv\n",
      "Company Name =>  iteo\n",
      "Making JSON\n",
      "Making csv\n",
      "Company Name =>  SoftServe\n",
      "Making JSON\n",
      "Making csv\n",
      "Link =>  https://appdevelopmentcompanies.co/local-agencies/ch/cs-cart/ecommerce-developers/bern\n",
      "Company Name =>  Hyperlink\n",
      "Making JSON\n",
      "Making csv\n",
      "Company Name =>  Wide\n",
      "Making JSON\n",
      "Making csv\n",
      "Company Name =>  Q\n",
      "Making JSON\n",
      "Making csv\n",
      "Company Name =>  Netguru\n",
      "Making JSON\n",
      "Making csv\n",
      "Company Name =>  SoftwareHut\n",
      "Making JSON\n",
      "Making csv\n",
      "Company Name =>  Nephila\n",
      "Making JSON\n",
      "Making csv\n",
      "Company Name =>  BeDjango\n",
      "Making JSON\n",
      "Making csv\n",
      "Company Name =>  Divio\n",
      "Making JSON\n",
      "Making csv\n",
      "Company Name =>  Bytebrand\n",
      "Making JSON\n",
      "Making csv\n",
      "Company Name =>  ESGROUP\n",
      "Making JSON\n",
      "Making csv\n",
      "Link =>  https://appdevelopmentcompanies.co/local-agencies/de/cs-cart/ecommerce-developers/munich\n",
      "Company Name =>  Hyperlink\n",
      "Making JSON\n",
      "Making csv\n",
      "Company Name =>  Modelate\n",
      "Making JSON\n",
      "Making csv\n",
      "Company Name =>  EdgeCase\n",
      "Making JSON\n",
      "Making csv\n",
      "Company Name =>  Altitude\n",
      "Making JSON\n",
      "Making csv\n",
      "Company Name =>  SoftServe\n",
      "Making JSON\n",
      "Making csv\n",
      "Company Name =>  Innovation\n",
      "Making JSON\n",
      "Making csv\n",
      "Company Name =>  Radish\n",
      "Making JSON\n",
      "Making csv\n",
      "Company Name =>  Hyperlink\n",
      "Making JSON\n",
      "Making csv\n",
      "Company Name =>  MVP\n",
      "Making JSON\n",
      "Making csv\n",
      "Company Name =>  Inpsyde\n",
      "Making JSON\n",
      "Making csv\n",
      "Link =>  https://appdevelopmentcompanies.co/local-agencies/de/magento/ecommerce-developers/munich\n",
      "Company Name =>  Hyperlink\n",
      "Making JSON\n",
      "Making csv\n",
      "Company Name =>  Radish\n",
      "Making JSON\n",
      "Making csv\n",
      "Company Name =>  X1\n",
      "Making JSON\n",
      "Making csv\n",
      "Company Name =>  Modelate\n",
      "Making JSON\n",
      "Making csv\n",
      "Company Name =>  EdgeCase\n",
      "Making JSON\n",
      "Making csv\n",
      "Company Name =>  SoftServe\n",
      "Making JSON\n",
      "Making csv\n",
      "Company Name =>  iteo\n",
      "Making JSON\n",
      "Making csv\n",
      "Company Name =>  IT\n",
      "Making JSON\n",
      "Making csv\n",
      "Company Name =>  MVP\n",
      "Making JSON\n",
      "Making csv\n",
      "Company Name =>  Appify\n",
      "Making JSON\n",
      "Making csv\n",
      "Link =>  https://appdevelopmentcompanies.co/local-agencies/ch/shopify/ecommerce-developers/bern\n",
      "Company Name =>  Hyperlink\n",
      "Making JSON\n",
      "Making csv\n",
      "Company Name =>  Nephila\n",
      "Making JSON\n",
      "Making csv\n",
      "Company Name =>  Django\n",
      "Making JSON\n",
      "Making csv\n",
      "Company Name =>  Tapptic\n",
      "Making JSON\n",
      "Making csv\n",
      "Company Name =>  La\n",
      "Making JSON\n",
      "Making csv\n",
      "Company Name =>  Skywell\n",
      "Making JSON\n",
      "Making csv\n",
      "Company Name =>  Cocomore\n",
      "Making JSON\n",
      "Making csv\n",
      "Company Name =>  Graffino\n",
      "Making JSON\n",
      "Making csv\n",
      "Company Name =>  ICON\n",
      "Making JSON\n",
      "Making csv\n",
      "Company Name =>  SoftwareHut\n",
      "Making JSON\n",
      "Making csv\n",
      "Link =>  https://appdevelopmentcompanies.co/local-agencies/de/shopify/ecommerce-developers/munich\n",
      "Company Name =>  Hyperlink\n",
      "Making JSON\n",
      "Making csv\n",
      "Company Name =>  SaM\n",
      "Making JSON\n",
      "Making csv\n",
      "Company Name =>  Radish\n",
      "Making JSON\n",
      "Making csv\n",
      "Company Name =>  MVP\n",
      "Making JSON\n",
      "Making csv\n",
      "Company Name =>  Modelate\n",
      "Making JSON\n",
      "Making csv\n",
      "Company Name =>  iteo\n",
      "Making JSON\n",
      "Making csv\n",
      "Company Name =>  Inpsyde\n",
      "Making JSON\n",
      "Making csv\n",
      "Company Name =>  Mobiteam\n",
      "Making JSON\n",
      "Making csv\n",
      "Company Name =>  IT\n",
      "Making JSON\n",
      "Making csv\n",
      "Company Name =>  X1\n",
      "Making JSON\n",
      "Making csv\n",
      "Link =>  https://appdevelopmentcompanies.co/local-agencies/ch/volusion/ecommerce-developers/bern\n",
      "Company Name =>  Hyperlink\n",
      "Making JSON\n",
      "Making csv\n",
      "Company Name =>  Divio\n",
      "Making JSON\n",
      "Making csv\n",
      "Company Name =>  SoftwareHut\n",
      "Making JSON\n",
      "Making csv\n",
      "Company Name =>  Positive\n",
      "Making JSON\n",
      "Making csv\n",
      "Company Name =>  Nephila\n",
      "Making JSON\n",
      "Making csv\n",
      "Company Name =>  BeDjango\n",
      "Making JSON\n",
      "Making csv\n",
      "Company Name =>  Vanksen\n",
      "Making JSON\n",
      "Making csv\n",
      "Company Name =>  Q\n",
      "Making JSON\n",
      "Making csv\n",
      "Company Name =>  ESGROUP\n",
      "Making JSON\n",
      "Making csv\n",
      "Company Name =>  ICON\n",
      "Making JSON\n",
      "Making csv\n",
      "Link =>  https://appdevelopmentcompanies.co/local-agencies/de/volusion/ecommerce-developers/munich\n",
      "Company Name =>  Hyperlink\n",
      "Making JSON\n",
      "Making csv\n",
      "Company Name =>  IT\n",
      "Making JSON\n",
      "Making csv\n",
      "Company Name =>  AnvilEight\n",
      "Making JSON\n",
      "Making csv\n",
      "Company Name =>  Inpsyde\n",
      "Making JSON\n",
      "Making csv\n",
      "Company Name =>  SoftServe\n",
      "Making JSON\n",
      "Making csv\n",
      "Company Name =>  MVP\n",
      "Making JSON\n",
      "Making csv\n",
      "Company Name =>  EdgeCase\n",
      "Making JSON\n",
      "Making csv\n",
      "Company Name =>  SaM\n",
      "Making JSON\n",
      "Making csv\n",
      "Company Name =>  Radish\n",
      "Making JSON\n",
      "Making csv\n",
      "Company Name =>  Xibis\n",
      "Making JSON\n",
      "Making csv\n",
      "Link =>  https://appdevelopmentcompanies.co/local-agencies/ch/woocommerce/ecommerce-developers/bern\n",
      "Company Name =>  Hyperlink\n",
      "Making JSON\n",
      "Making csv\n",
      "Company Name =>  Positive\n",
      "Making JSON\n",
      "Making csv\n",
      "Company Name =>  Wide\n",
      "Making JSON\n",
      "Making csv\n",
      "Company Name =>  Cocomore\n",
      "Making JSON\n",
      "Making csv\n",
      "Company Name =>  ESGROUP\n",
      "Making JSON\n",
      "Making csv\n",
      "Company Name =>  La\n",
      "Making JSON\n",
      "Making csv\n",
      "Company Name =>  Skywell\n",
      "Making JSON\n",
      "Making csv\n",
      "Company Name =>  Innovecs\n",
      "Making JSON\n",
      "Making csv\n",
      "Company Name =>  BeDjango\n",
      "Making JSON\n",
      "Making csv\n",
      "Company Name =>  Dream\n",
      "Making JSON\n",
      "Making csv\n",
      "Link =>  https://appdevelopmentcompanies.co/local-agencies/de/woocommerce/ecommerce-developers/munich\t\n",
      "Company Name =>  Hyperlink\n",
      "Making JSON\n",
      "Making csv\n",
      "Company Name =>  iteo\n",
      "Making JSON\n",
      "Making csv\n",
      "Company Name =>  Lateral\n",
      "Making JSON\n",
      "Making csv\n",
      "Company Name =>  EdgeCase\n",
      "Making JSON\n",
      "Making csv\n",
      "Company Name =>  Radish\n",
      "Making JSON\n",
      "Making csv\n",
      "Company Name =>  X1\n",
      "Making JSON\n",
      "Making csv\n",
      "Company Name =>  Inpsyde\n",
      "Making JSON\n",
      "Making csv\n",
      "Company Name =>  Mobiteam\n",
      "Making JSON\n",
      "Making csv\n",
      "Company Name =>  SoftServe\n",
      "Making JSON\n",
      "Making csv\n",
      "Company Name =>  MVP\n",
      "Making JSON\n",
      "Making csv\n"
     ]
    }
   ],
   "source": [
    "import time\n",
    "from selenium import webdriver\n",
    "from selenium.webdriver.common.keys import Keys\n",
    "from time import sleep\n",
    "import pandas as pd\n",
    "from selenium.webdriver.common.keys import Keys\n",
    "from selenium.common.exceptions import NoSuchElementException\n",
    "import pickle\n",
    "import numpy as np\n",
    "import json\n",
    "\n",
    "import re\n",
    "from collections import OrderedDict\n",
    "from time import strptime\n",
    "\n",
    "import sys\n",
    "\n",
    "\n",
    "# list of dictionary\n",
    "main = []\n",
    "\n",
    "# Initializing data Frame\n",
    "df = pd.DataFrame()\n",
    "\n",
    "\n",
    "def cap_each(string):\n",
    "    list_of_words = string.split(\" \")\n",
    "\n",
    "    for word in list_of_words:\n",
    "        list_of_words[list_of_words.index(word)] = word.capitalize()\n",
    "\n",
    "    return \" \".join(list_of_words)\n",
    "\n",
    "\n",
    "driver = webdriver.Chrome(executable_path=r\"chromedriver.exe\")\n",
    "# driver.get(\"https://appdevelopmentcompanies.co/local-agencies/in/app-developers/indore\")\n",
    "file = open(\"input_links.txt\", \"r\")\n",
    "links = file.read()\n",
    "links = links.replace('\\n',\"\").split(\",\")\n",
    "\n",
    "for link in links:\n",
    "\n",
    "    print(\"Link => \",link)\n",
    "    driver.get(link)\n",
    "\n",
    "    com_len = len(driver.find_element_by_class_name('company-listing').find_elements_by_class_name('list-item'))\n",
    "\n",
    "    #title\n",
    "    title = driver.find_element_by_class_name('company-details').text.split(\"|\")[0]\n",
    "\n",
    "    #location\n",
    "    if 'in' in title:\n",
    "        location = driver.find_element_by_class_name('company-details').text.split(\"|\")[0].split('in')[1]\n",
    "    else:\n",
    "        location = driver.find_element_by_class_name('company-details').text.split(\"|\")[0].split('In')[1]\n",
    "    \n",
    "    for c in range(com_len):\n",
    "        try:\n",
    "            # companyname\n",
    "            try:\n",
    "                companyname = driver.find_element_by_class_name('company-listing').find_elements_by_class_name('list-item')[c].find_element_by_tag_name('h3').text.split(\" \")[1]\n",
    "                print(\"Company Name => \", companyname)\n",
    "            except:\n",
    "                companyname = \"na\"\n",
    "\n",
    "            # companylogo\n",
    "            try:\n",
    "                companylogo = driver.find_element_by_class_name('company-listing').find_elements_by_class_name('list-item')[c].find_element_by_class_name('image').find_element_by_tag_name('img').get_attribute('src')\n",
    "            except:\n",
    "                companylogo = \"na\"\n",
    "\n",
    "            # websitelink\n",
    "            try:\n",
    "                websitelink = driver.find_element_by_class_name('company-listing').find_elements_by_class_name('list-item')[c].find_element_by_tag_name('h3').find_element_by_tag_name('a').get_attribute('href')\n",
    "            except:\n",
    "                websitelink = 'na'\n",
    "\n",
    "            # founded\n",
    "            try:\n",
    "                founded = driver.find_element_by_class_name('company-listing').find_elements_by_class_name('list-item')[c].find_element_by_class_name('details').find_element_by_class_name('feature-list').find_elements_by_tag_name('tr')[0].text.split(\":\")[1]\n",
    "            except:\n",
    "                founded = 'na'\n",
    "\n",
    "            # horulyrate\n",
    "            try:\n",
    "                horulyrate = driver.find_element_by_class_name('company-listing').find_elements_by_class_name('list-item')[c].find_element_by_class_name('details').find_element_by_class_name('feature-list').find_elements_by_tag_name('tr')[1].text.split(\":\")[1]\n",
    "            except:\n",
    "                horulyrate = 'na'\n",
    "\n",
    "            # employee\n",
    "            try:\n",
    "                employee = driver.find_element_by_class_name('company-listing').find_elements_by_class_name('list-item')[c].find_element_by_class_name('details').find_elements_by_class_name('feature-list')[0].find_elements_by_tag_name('tr')[2].text.split(\":\")[1]\n",
    "            except:\n",
    "                employee = 'na'\n",
    "\n",
    "            # contact\n",
    "            try:\n",
    "                contact = driver.find_element_by_class_name('company-listing').find_elements_by_class_name('list-item')[c].find_element_by_class_name('details').find_elements_by_class_name('feature-list')[1].find_elements_by_tag_name('tr')[0].text.split(\":\")[1]\n",
    "            except:\n",
    "                contact = 'na'\n",
    "\n",
    "            # email\n",
    "            try:\n",
    "                email = driver.find_element_by_class_name('company-listing').find_elements_by_class_name('list-item')[c].find_element_by_class_name('details').find_elements_by_class_name('feature-list')[1].find_elements_by_tag_name('tr')[1].text.split(\":\")[1]\n",
    "            except:\n",
    "                email = 'na'\n",
    "\n",
    "            # clutchrating\n",
    "            try:\n",
    "                clutchrating = driver.find_element_by_class_name('company-listing').find_elements_by_class_name('list-item')[c].find_element_by_class_name('details').find_elements_by_class_name('feature-list')[1].find_elements_by_tag_name('tr')[2].text.split(\":\")[1]\n",
    "            except:\n",
    "                clutchrating = 'na'\n",
    "\n",
    "            # servicelength\n",
    "            try:\n",
    "                ser_len = len(driver.find_element_by_class_name('company-listing').find_elements_by_class_name('list-item')[c].find_element_by_class_name('details').find_element_by_class_name('service-line').find_elements_by_class_name('owl-item'))\n",
    "\n",
    "                services = []\n",
    "                for s in range(ser_len):\n",
    "                    service = driver.find_element_by_class_name('company-listing').find_elements_by_class_name('list-item')[c].find_element_by_class_name('details').find_element_by_class_name('service-line').find_elements_by_class_name('owl-item')[s].find_element_by_tag_name('img').get_attribute('alt')\n",
    "                    service = service.replace('-',' ')\n",
    "                    service = cap_each(service)\n",
    "                    services.append(service)\n",
    "\n",
    "                services = ','.join(services)\n",
    "            except:\n",
    "                serveces = 'na'\n",
    "\n",
    "            #making dictonary\n",
    "            data ={\n",
    "                'title':title,\n",
    "                'location':location,\n",
    "                'companyname': companyname,\n",
    "                'companylogo':companylogo,\n",
    "                'websitelink':websitelink,\n",
    "                'founded':founded,\n",
    "                'employee':employee,\n",
    "                'contact': contact,\n",
    "                'email':email,\n",
    "                'clutchrating': clutchrating,\n",
    "                'services': services\n",
    "             }\n",
    "\n",
    "\n",
    "            #append it to main data\n",
    "            main.append(data)\n",
    "            print(\"Making JSON\")\n",
    "            #Open and save in json file\n",
    "            with open(\"demo.json\", 'w', encoding=\"utf-8\") as f:\n",
    "                      json.dump(main, f,indent=4, ensure_ascii=False)\n",
    "\n",
    "            #creating dataframe\n",
    "            df = df.append({\n",
    "                'title':title,\n",
    "                'location':location,\n",
    "                'companyname': companyname,\n",
    "                'companylogo':companylogo,\n",
    "                'websitelink':websitelink,\n",
    "                'founded':founded,\n",
    "                'employee':employee,\n",
    "                'contact': contact,\n",
    "                'email':email,\n",
    "                'clutchrating': clutchrating,\n",
    "                'services': services\n",
    "             }, ignore_index=True)\n",
    "\n",
    "            print(\"Making csv\")\n",
    "            df.to_csv('input_dataframe.csv')    \n",
    "\n",
    "        except:\n",
    "            pass\n",
    "        \n"
   ]
  },
  {
   "cell_type": "code",
   "execution_count": 30,
   "id": "f3325d2f",
   "metadata": {},
   "outputs": [
    {
     "data": {
      "text/plain": [
       "'Top 10+ 3dCart Development Companies In Bern '"
      ]
     },
     "execution_count": 30,
     "metadata": {},
     "output_type": "execute_result"
    }
   ],
   "source": [
    "title"
   ]
  },
  {
   "cell_type": "code",
   "execution_count": 29,
   "id": "10294937",
   "metadata": {},
   "outputs": [
    {
     "data": {
      "text/plain": [
       "'Top 10+ 3dCart Development Companies In Bern '"
      ]
     },
     "execution_count": 29,
     "metadata": {},
     "output_type": "execute_result"
    }
   ],
   "source": [
    "driver.find_element_by_class_name('company-details').text.split(\"|\")[0]"
   ]
  },
  {
   "cell_type": "code",
   "execution_count": 27,
   "id": "b975895c",
   "metadata": {},
   "outputs": [
    {
     "ename": "NameError",
     "evalue": "name 'location' is not defined",
     "output_type": "error",
     "traceback": [
      "\u001b[1;31m---------------------------------------------------------------------------\u001b[0m",
      "\u001b[1;31mNameError\u001b[0m                                 Traceback (most recent call last)",
      "\u001b[1;32m<ipython-input-27-3093cc981a1b>\u001b[0m in \u001b[0;36m<module>\u001b[1;34m\u001b[0m\n\u001b[1;32m----> 1\u001b[1;33m \u001b[0mlocation\u001b[0m\u001b[1;33m\u001b[0m\u001b[0m\n\u001b[0m",
      "\u001b[1;31mNameError\u001b[0m: name 'location' is not defined"
     ]
    }
   ],
   "source": [
    "location"
   ]
  },
  {
   "cell_type": "code",
   "execution_count": 26,
   "id": "ad6d8332",
   "metadata": {},
   "outputs": [
    {
     "data": {
      "text/plain": [
       "10"
      ]
     },
     "execution_count": 26,
     "metadata": {},
     "output_type": "execute_result"
    }
   ],
   "source": [
    "com_len"
   ]
  },
  {
   "cell_type": "code",
   "execution_count": 24,
   "id": "49cde2e4",
   "metadata": {},
   "outputs": [
    {
     "data": {
      "text/plain": [
       "'Top 10+ WooCommerce Development Companies In Munich '"
      ]
     },
     "execution_count": 24,
     "metadata": {},
     "output_type": "execute_result"
    }
   ],
   "source": [
    "title"
   ]
  },
  {
   "cell_type": "code",
   "execution_count": 25,
   "id": "bcf3eddc",
   "metadata": {},
   "outputs": [
    {
     "ename": "NameError",
     "evalue": "name 'location' is not defined",
     "output_type": "error",
     "traceback": [
      "\u001b[1;31m---------------------------------------------------------------------------\u001b[0m",
      "\u001b[1;31mNameError\u001b[0m                                 Traceback (most recent call last)",
      "\u001b[1;32m<ipython-input-25-3093cc981a1b>\u001b[0m in \u001b[0;36m<module>\u001b[1;34m\u001b[0m\n\u001b[1;32m----> 1\u001b[1;33m \u001b[0mlocation\u001b[0m\u001b[1;33m\u001b[0m\u001b[0m\n\u001b[0m",
      "\u001b[1;31mNameError\u001b[0m: name 'location' is not defined"
     ]
    }
   ],
   "source": [
    "location"
   ]
  },
  {
   "cell_type": "code",
   "execution_count": null,
   "id": "458bff70",
   "metadata": {},
   "outputs": [],
   "source": [
    "'title':title,\n",
    "                    'location':location,\n",
    "                    'companyname': companyname,\n",
    "                    'companylogo':companylogo,\n",
    "                    'websitelink':websitelink,\n",
    "                    'founded':founded,\n",
    "                    'employee':employee,\n",
    "                    'contact': contact,\n",
    "                    'email':email,\n",
    "                    'clutchrating': clutchrating,\n",
    "                    'services': services"
   ]
  },
  {
   "cell_type": "code",
   "execution_count": 7,
   "id": "e9a662ac",
   "metadata": {},
   "outputs": [],
   "source": [
    "s = 'rohan gore'"
   ]
  },
  {
   "cell_type": "code",
   "execution_count": 3,
   "id": "9d6efe13",
   "metadata": {},
   "outputs": [
    {
     "data": {
      "text/plain": [
       "'Rohan gore'"
      ]
     },
     "execution_count": 3,
     "metadata": {},
     "output_type": "execute_result"
    }
   ],
   "source": [
    "s.capitalize()"
   ]
  },
  {
   "cell_type": "code",
   "execution_count": 5,
   "id": "9aa6bcf7",
   "metadata": {},
   "outputs": [],
   "source": [
    "def cap_each(string):\n",
    "    list_of_words = string.split(\" \")\n",
    "\n",
    "    for word in list_of_words:\n",
    "        list_of_words[list_of_words.index(word)] = word.capitalize()\n",
    "\n",
    "    return \" \".join(list_of_words)"
   ]
  },
  {
   "cell_type": "code",
   "execution_count": 8,
   "id": "b6cc291e",
   "metadata": {},
   "outputs": [
    {
     "data": {
      "text/plain": [
       "'Rohan Gore'"
      ]
     },
     "execution_count": 8,
     "metadata": {},
     "output_type": "execute_result"
    }
   ],
   "source": [
    "cap_each(s)"
   ]
  },
  {
   "cell_type": "code",
   "execution_count": null,
   "id": "d5fab8fe",
   "metadata": {},
   "outputs": [],
   "source": []
  }
 ],
 "metadata": {
  "kernelspec": {
   "display_name": "Python 3",
   "language": "python",
   "name": "python3"
  },
  "language_info": {
   "codemirror_mode": {
    "name": "ipython",
    "version": 3
   },
   "file_extension": ".py",
   "mimetype": "text/x-python",
   "name": "python",
   "nbconvert_exporter": "python",
   "pygments_lexer": "ipython3",
   "version": "3.6.2"
  }
 },
 "nbformat": 4,
 "nbformat_minor": 5
}
