{
 "cells": [
  {
   "cell_type": "code",
   "execution_count": 43,
   "id": "b3604848",
   "metadata": {},
   "outputs": [],
   "source": [
    "import time\n",
    "from selenium import webdriver\n",
    "from selenium.webdriver.common.keys import Keys\n",
    "from time import sleep\n",
    "import pandas as pd\n",
    "from selenium.webdriver.common.keys import Keys\n",
    "from selenium.common.exceptions import NoSuchElementException\n",
    "import pickle\n",
    "import numpy as np\n",
    "import json\n",
    "\n",
    "import re\n",
    "from collections import OrderedDict\n",
    "from time import strptime\n",
    "\n",
    "import sys"
   ]
  },
  {
   "cell_type": "code",
   "execution_count": 44,
   "id": "5f755fe2",
   "metadata": {},
   "outputs": [],
   "source": [
    "driver = webdriver.Chrome(executable_path=r\"chromedriver.exe\")"
   ]
  },
  {
   "cell_type": "code",
   "execution_count": 45,
   "id": "4e66f25f",
   "metadata": {},
   "outputs": [],
   "source": [
    "driver.get('https://www.ecjobsonline.com/search-results-jobs/?searchId=1639064028.6211&action=search&page=1&listings_per_page=20&view=list')"
   ]
  },
  {
   "cell_type": "code",
   "execution_count": 17,
   "id": "54447ce9",
   "metadata": {},
   "outputs": [
    {
     "data": {
      "text/plain": [
       "'侍應/接待員/餐面助理 (兼職)\\nOutback Steakhouse (Citygate Branch) New Territories - Tung Chung\\nNot specified 時薪$70起 2021-12-09'"
      ]
     },
     "execution_count": 17,
     "metadata": {},
     "output_type": "execute_result"
    }
   ],
   "source": [
    "driver.find_element_by_class_name('job-list').find_elements_by_tag_name('tr')[-1].text"
   ]
  },
  {
   "cell_type": "code",
   "execution_count": 32,
   "id": "054ba453",
   "metadata": {},
   "outputs": [
    {
     "data": {
      "text/plain": [
       "'茶理史誠意招聘! (全職/兼職)調茶師/店務員\\n茶理史'"
      ]
     },
     "execution_count": 32,
     "metadata": {},
     "output_type": "execute_result"
    }
   ],
   "source": [
    "# Job title\n",
    "job_title = driver.find_element_by_class_name('job-list').find_elements_by_tag_name('tr')[0].find_element_by_class_name('joblist_col_0').text\n",
    "job_title"
   ]
  },
  {
   "cell_type": "code",
   "execution_count": 41,
   "id": "5e6f82be",
   "metadata": {},
   "outputs": [
    {
     "data": {
      "text/plain": [
       "'Anywhere in Hong Kong -'"
      ]
     },
     "execution_count": 41,
     "metadata": {},
     "output_type": "execute_result"
    }
   ],
   "source": [
    "# location\n",
    "location = driver.find_element_by_class_name('job-list').find_elements_by_tag_name('tr')[0].find_element_by_class_name('joblist_col_2').text\n",
    "location"
   ]
  },
  {
   "cell_type": "code",
   "execution_count": 42,
   "id": "d0e44539",
   "metadata": {},
   "outputs": [
    {
     "data": {
      "text/plain": [
       "'Not specified'"
      ]
     },
     "execution_count": 42,
     "metadata": {},
     "output_type": "execute_result"
    }
   ],
   "source": [
    "# qualification\n",
    "qualification = driver.find_element_by_class_name('job-list').find_elements_by_tag_name('tr')[0].find_element_by_class_name('joblist_col_3').text\n",
    "qualification"
   ]
  },
  {
   "cell_type": "code",
   "execution_count": 43,
   "id": "33fdca29",
   "metadata": {},
   "outputs": [
    {
     "data": {
      "text/plain": [
       "'$55 - $60起 / $14,000 - $16,000起 +勤工獎, 年終花紅, 員工獎金'"
      ]
     },
     "execution_count": 43,
     "metadata": {},
     "output_type": "execute_result"
    }
   ],
   "source": [
    "# salary\n",
    "salary = driver.find_element_by_class_name('job-list').find_elements_by_tag_name('tr')[0].find_element_by_class_name('joblist_col_4').text\n",
    "salary"
   ]
  },
  {
   "cell_type": "code",
   "execution_count": 44,
   "id": "faeb86d6",
   "metadata": {},
   "outputs": [
    {
     "data": {
      "text/plain": [
       "'2021-12-09'"
      ]
     },
     "execution_count": 44,
     "metadata": {},
     "output_type": "execute_result"
    }
   ],
   "source": [
    "# date\n",
    "date = driver.find_element_by_class_name('job-list').find_elements_by_tag_name('tr')[0].find_element_by_class_name('joblist_col_5').text\n",
    "date"
   ]
  },
  {
   "cell_type": "code",
   "execution_count": null,
   "id": "b57989ac",
   "metadata": {},
   "outputs": [],
   "source": []
  },
  {
   "cell_type": "code",
   "execution_count": 51,
   "id": "584f71e8",
   "metadata": {},
   "outputs": [
    {
     "data": {
      "text/plain": [
       "'https://www.ecjobsonline.com/display-job/45998/肉類分割員--初級肉類分割員.html?searchId=1639064028.6211&page=1'"
      ]
     },
     "execution_count": 51,
     "metadata": {},
     "output_type": "execute_result"
    }
   ],
   "source": [
    "# getting links\n",
    "driver.find_element_by_class_name('job-list').find_elements_by_tag_name('tr')[1].get_attribute('onclick').split('\"')[1]"
   ]
  },
  {
   "cell_type": "code",
   "execution_count": null,
   "id": "5ec18bec",
   "metadata": {},
   "outputs": [],
   "source": []
  },
  {
   "cell_type": "code",
   "execution_count": 59,
   "id": "a2d06b03",
   "metadata": {},
   "outputs": [
    {
     "data": {
      "text/plain": [
       "'◀'"
      ]
     },
     "execution_count": 59,
     "metadata": {},
     "output_type": "execute_result"
    }
   ],
   "source": [
    "#changing the page based on pink arrow\n",
    "driver.find_elements_by_class_name('pink_arrows')[-1].text"
   ]
  },
  {
   "cell_type": "code",
   "execution_count": 58,
   "id": "885500eb",
   "metadata": {},
   "outputs": [],
   "source": [
    "if '◀' in driver.find_elements_by_class_name('pink_arrows')[-1].text:\n",
    "    #break"
   ]
  },
  {
   "cell_type": "code",
   "execution_count": null,
   "id": "ee860687",
   "metadata": {},
   "outputs": [],
   "source": []
  },
  {
   "cell_type": "code",
   "execution_count": 63,
   "id": "ea7b92af",
   "metadata": {
    "scrolled": true
   },
   "outputs": [
    {
     "name": "stdout",
     "output_type": "stream",
     "text": [
      "https://www.ecjobsonline.com/display-job/46112/Assistant-Project-Coordinator(Ref--EC20012APC).html?searchId=1639064028.6211&page=1\n",
      "https://www.ecjobsonline.com/display-job/46111/Assistant-Quantity-Surveyor(Ref--EC20012AQS).html?searchId=1639064028.6211&page=1\n",
      "https://www.ecjobsonline.com/display-job/46110/食品制作員(APM-Food-Court招聘日).html?searchId=1639064028.6211&page=1\n",
      "https://www.ecjobsonline.com/display-job/46108/水吧(APM-Food-Court招聘日).html?searchId=1639064028.6211&page=1\n",
      "https://www.ecjobsonline.com/display-job/46107/潔淨員(APM-Food-Court招聘日).html?searchId=1639064028.6211&page=1\n",
      "https://www.ecjobsonline.com/display-job/46105/烘焙大使(APM-Food-Court招聘日).html?searchId=1639064028.6211&page=1\n",
      "https://www.ecjobsonline.com/display-job/46104/店務員(APM-Food-Court招聘日).html?searchId=1639064028.6211&page=1\n",
      "https://www.ecjobsonline.com/display-job/46103/各級廚師(APM-Food-Court招聘日).html?searchId=1639064028.6211&page=1\n",
      "https://www.ecjobsonline.com/display-job/46102/APM-Food-Court招聘日(12月16-17日).html?searchId=1639064028.6211&page=1\n",
      "https://www.ecjobsonline.com/display-job/46101/教育中心接待員-Education-Centre-Receptionist.html?searchId=1639064028.6211&page=1\n",
      "https://www.ecjobsonline.com/display-job/46100/初級店務員.html?searchId=1639064028.6211&page=1\n",
      "https://www.ecjobsonline.com/display-job/46099/聖誕短期合約職位(時薪可達-72).html?searchId=1639064028.6211&page=1\n",
      "https://www.ecjobsonline.com/display-job/46098/化妝品店務員.html?searchId=1639064028.6211&page=1\n",
      "https://www.ecjobsonline.com/display-job/46097/LOG-ON招聘日(12月13-17日)-另聘聖誕短期合約職位.html?searchId=1639064028.6211&page=1\n",
      "https://www.ecjobsonline.com/display-job/46096/全職數學補習導師-Full-Time-Maths-Tutor---Mathematics-Teacher.html?searchId=1639064028.6211&page=1\n",
      "https://www.ecjobsonline.com/display-job/46095/西日式經驗廚師.html?searchId=1639064028.6211&page=1\n",
      "https://www.ecjobsonline.com/display-job/46094/西日式廚房助理.html?searchId=1639064028.6211&page=1\n",
      "https://www.ecjobsonline.com/display-job/46093/店舖收貨員.html?searchId=1639064028.6211&page=1\n",
      "https://www.ecjobsonline.com/display-job/46092/禮物包裝員.html?searchId=1639064028.6211&page=1\n",
      "https://www.ecjobsonline.com/display-job/46091/食品部店務員(麵包-日式甜品部-西日式食品).html?searchId=1639064028.6211&page=1\n",
      "Making JSON\n",
      "Making csv\n",
      "Making JSON\n",
      "Making csv\n",
      "Making JSON\n",
      "Making csv\n",
      "Making JSON\n",
      "Making csv\n",
      "Making JSON\n",
      "Making csv\n",
      "Making JSON\n",
      "Making csv\n",
      "Making JSON\n",
      "Making csv\n",
      "Making JSON\n",
      "Making csv\n",
      "Making JSON\n",
      "Making csv\n",
      "Making JSON\n",
      "Making csv\n",
      "Making JSON\n",
      "Making csv\n",
      "Making JSON\n",
      "Making csv\n",
      "Making JSON\n",
      "Making csv\n",
      "Making JSON\n",
      "Making csv\n",
      "Making JSON\n",
      "Making csv\n",
      "Making JSON\n",
      "Making csv\n",
      "Making JSON\n",
      "Making csv\n",
      "Making JSON\n",
      "Making csv\n",
      "Making JSON\n",
      "Making csv\n",
      "Making JSON\n",
      "Making csv\n"
     ]
    }
   ],
   "source": [
    "# list of dictionary\n",
    "main = []\n",
    "\n",
    "# Initializing data Frame\n",
    "df = pd.DataFrame()\n",
    "\n",
    "driver = webdriver.Chrome(executable_path=r\"chromedriver.exe\")\n",
    "driver.get('https://www.ecjobsonline.com/search-results-jobs/?searchId=1639064028.6211&action=search&page=1&listings_per_page=20&view=list')\n",
    "\n",
    "\n",
    "links = []\n",
    "\n",
    "# pages\n",
    "for pg in range(1, 2):\n",
    "    if '◀' in driver.find_elements_by_class_name('pink_arrows')[-1].text:\n",
    "        break\n",
    "    else:\n",
    "        #visitng each page\n",
    "        driver.get(f'https://www.ecjobsonline.com/search-results-jobs/?searchId=1639064028.6211&action=search&page={pg}&listings_per_page=20&view=list')\n",
    "        \n",
    "        #getting each link from each page\n",
    "        for ep in range(20):\n",
    "            try:\n",
    "                # getting links\n",
    "                link = driver.find_element_by_class_name('job-list').find_elements_by_tag_name('tr')[ep].get_attribute('onclick').split('\"')[1]\n",
    "                print(link)\n",
    "                links.append(link)\n",
    "            except exception as e:\n",
    "                print(e)\n",
    "                pass\n",
    "\n",
    "# for each link from list\n",
    "for el in range(len(links)):\n",
    "    \n",
    "    driver.get(links[el])\n",
    "    \n",
    "    # job title and company\n",
    "    try:\n",
    "        job_title_company = driver.find_element_by_xpath('//*[@id=\"listingsResults\"]/div/div[3]/h2/span').text\n",
    "    except:\n",
    "        job_title_company='na'\n",
    "        \n",
    "    try:\n",
    "        job_name = driver.find_element_by_xpath('//*[@id=\"listingsResults\"]/div/div[3]/h3').text\n",
    "    except:\n",
    "        job_name ='na'\n",
    "        \n",
    "    try:\n",
    "        company_pic_url = driver.find_element_by_xpath('//*[@id=\"listingsResults\"]/div/img').get_attribute('src')\n",
    "    except:\n",
    "        company_pic_url = 'na'\n",
    "    \n",
    "    try:\n",
    "        secondary_name = driver.find_element_by_xpath('//*[@id=\"listingsResults\"]/div/div[3]/span[1]/div[1]/h2').text\n",
    "    except:\n",
    "        secondary_name = 'na'\n",
    "\n",
    "    try:\n",
    "        jobdescription = driver.find_element_by_xpath('//*[@id=\"listingsResults\"]/div/div[3]/span[2]').get_attribute('innerHTML')\n",
    "    except:\n",
    "        jobdescription = 'na'\n",
    "\n",
    "    # job info\n",
    "    try:\n",
    "        job_info = driver.find_element_by_xpath('//*[@id=\"displayListing\"]/div[3]/div[5]/div[2]').text.replace('\\n',' ').split(\": \")[-1]\n",
    "    except:\n",
    "        job_info = 'na'\n",
    "\n",
    "    # email\n",
    "    try:\n",
    "        email = driver.find_element_by_xpath('//*[@id=\"displayListing\"]/div[3]/div[7]/div[2]/span[2]').text\n",
    "    except:\n",
    "        email=\"na\"\n",
    "\n",
    "    #contact\n",
    "    try:\n",
    "        contact = driver.find_element_by_xpath('//*[@id=\"displayListing\"]/div[3]/div[7]/div[2]/span[4]').text\n",
    "    except:\n",
    "        contact = 'na'\n",
    "    \n",
    "\n",
    "    # whatsapp\n",
    "    try:\n",
    "        whatsapp = driver.find_element_by_xpath('//*[@id=\"displayListing\"]/div[3]/div[7]/div[2]/span[6]').text\n",
    "    except:\n",
    "        whatsapp = 'na'\n",
    "\n",
    "    #website\n",
    "    try:\n",
    "        website = driver.find_element_by_xpath('//*[@id=\"displayListing\"]/div[3]/div[7]/div[2]/span[8]').text\n",
    "    except:\n",
    "        website = 'na'\n",
    "\n",
    "    # salary\n",
    "    try:\n",
    "        salary = driver.find_element_by_xpath('//*[@id=\"displayListing\"]/div[3]/div[9]/div[2]/span[2]').text\n",
    "    except:\n",
    "        salary = 'na'\n",
    "\n",
    "    #workinglocation\n",
    "    try:\n",
    "        workinglocation = driver.find_element_by_xpath('//*[@id=\"displayListing\"]/div[3]/div[9]/div[2]/span[4]').text\n",
    "    except:\n",
    "        workinglocation = 'na'\n",
    "\n",
    "    # jobfuncion\n",
    "    try:\n",
    "        jobfunction = driver.find_element_by_xpath('//*[@id=\"displayListing\"]/div[3]/div[9]/div[2]/span[6]').text\n",
    "    except:\n",
    "        jobfunction = 'na'\n",
    "\n",
    "    #industry\n",
    "    try:\n",
    "        industry = driver.find_element_by_xpath('//*[@id=\"displayListing\"]/div[3]/div[9]/div[2]/span[8]').text\n",
    "    except:\n",
    "        industry = 'na'\n",
    "\n",
    "    #employmentterm\n",
    "    try:\n",
    "        employmentterm = driver.find_element_by_xpath('//*[@id=\"displayListing\"]/div[3]/div[9]/div[2]/span[10]').text\n",
    "    except:\n",
    "        employmentterm = 'na'\n",
    "\n",
    "\n",
    "    # experience\n",
    "    try:\n",
    "        experience = driver.find_element_by_xpath('//*[@id=\"displayListing\"]/div[3]/div[9]/div[2]/span[12]').text\n",
    "    except:\n",
    "        experience = 'na'\n",
    "\n",
    "\n",
    "    # educationlevel\n",
    "    try:\n",
    "        educationlevel = driver.find_element_by_xpath('//*[@id=\"displayListing\"]/div[3]/div[9]/div[2]/span[14]').text\n",
    "    except:\n",
    "        educationlevel = 'na'\n",
    "\n",
    "\n",
    "    # careerlevel\n",
    "    try:\n",
    "        careerlevel = driver.find_element_by_xpath('//*[@id=\"displayListing\"]/div[3]/div[9]/div[2]/span[16]').text\n",
    "    except:\n",
    "        careerlevel = 'na'\n",
    "\n",
    "\n",
    "    # benefit\n",
    "    try:\n",
    "        benefit = driver.find_element_by_xpath('//*[@id=\"displayListing\"]/div[3]/div[9]/div[2]/span[18]').text.replace('\\n',', ')\n",
    "    except:\n",
    "        benefit = 'na'\n",
    "    \n",
    "    \n",
    "    \n",
    "    #making dictonary\n",
    "    data ={\n",
    "        'job_post_url':driver.current_url,\n",
    "        'company_pic_url':company_pic_url,\n",
    "        'job_title_company':job_title_company,\n",
    "        'first_name':secondary_name,\n",
    "        'jobdescription': jobdescription,\n",
    "        'job_info':job_info,\n",
    "        'email':email,\n",
    "        'whatsapp':whatsapp,\n",
    "        'website':website,\n",
    "        'salary': salary,\n",
    "        'workinglocation':workinglocation,\n",
    "        'employmentterm': employmentterm,\n",
    "        'experience': experience,\n",
    "        'educationlevel':educationlevel,\n",
    "        'careerlevel':careerlevel,\n",
    "        'benefit':benefit,\n",
    "        'jobfunction':jobfunction,\n",
    "        'industry':industry,\n",
    "        'contact':contact,\n",
    "        'jobfunction':jobfunction,\n",
    "        'job_name':job_name\n",
    "        \n",
    "     }\n",
    "\n",
    "\n",
    "    #append it to main data\n",
    "    main.append(data)\n",
    "    print(\"Making JSON\")\n",
    "    #Open and save in json file\n",
    "    with open(\"demo.json\", 'w', encoding=\"utf-8\") as f:\n",
    "              json.dump(main, f,indent=4, ensure_ascii=False)\n",
    "\n",
    "    #creating dataframe\n",
    "    df = df.append({\n",
    "        'job_post_url':driver.current_url,\n",
    "        'company_pic_url':company_pic_url,\n",
    "        'job_title_company':job_title_company,\n",
    "        'first_name':secondary_name,\n",
    "        'jobdescription': jobdescription,\n",
    "        'job_info':job_info,\n",
    "        'email':email,\n",
    "        'whatsapp':whatsapp,\n",
    "        'website':website,\n",
    "        'salary': salary,\n",
    "        'workinglocation':workinglocation,\n",
    "        'employmentterm': employmentterm,\n",
    "        'experience': experience,\n",
    "        'educationlevel':educationlevel,\n",
    "        'careerlevel':careerlevel,\n",
    "        'benefit':benefit,\n",
    "        'jobfunction':jobfunction,\n",
    "        'industry':industry,\n",
    "        'contact':contact,\n",
    "        'jobfunction':jobfunction,\n",
    "        'job_name':job_name\n",
    "        \n",
    "     }, ignore_index=True)\n",
    "\n",
    "    print(\"Making csv\")\n",
    "    df.to_csv('input_dataframe.csv')    "
   ]
  },
  {
   "cell_type": "code",
   "execution_count": 51,
   "id": "3078857d",
   "metadata": {},
   "outputs": [],
   "source": [
    "company_pic_url = driver.find_element_by_xpath('//*[@id=\"listingsResults\"]/div/img').get_attribute('src')"
   ]
  },
  {
   "cell_type": "code",
   "execution_count": 52,
   "id": "a3da4a55",
   "metadata": {},
   "outputs": [
    {
     "data": {
      "text/plain": [
       "'https://www.ecjobsonline.com/display-job/46112/Assistant-Project-Coordinator(Ref--EC20012APC).html?searchId=1639064028.6211&page=1'"
      ]
     },
     "execution_count": 52,
     "metadata": {},
     "output_type": "execute_result"
    }
   ],
   "source": [
    "driver.current_url"
   ]
  },
  {
   "cell_type": "code",
   "execution_count": 53,
   "id": "a420a5c8",
   "metadata": {},
   "outputs": [
    {
     "data": {
      "text/plain": [
       "'13個月糧, 酌情性花紅, 進修津貼, 強積金, 晉升機會'"
      ]
     },
     "execution_count": 53,
     "metadata": {},
     "output_type": "execute_result"
    }
   ],
   "source": [
    "driver.find_element_by_xpath('//*[@id=\"displayListing\"]/div[3]/div[9]/div[2]/span[18]').text.replace('\\n',', ')"
   ]
  },
  {
   "cell_type": "code",
   "execution_count": 34,
   "id": "e345bb75",
   "metadata": {},
   "outputs": [
    {
     "data": {
      "text/plain": [
       "'歡迎親臨招聘日（無須預約） 日期:  12月13-17日(逢星期一至五) 時間:  14:30 - 17:00  地址:  尖沙咀廣東道7號海港城九倉電訊中心9樓911室  合約期：即日起至1月初,表現良好者有機會轉全職 工作時間：每週工作4-5天，每天工作8.5小時，須輪班輪休 時薪：$65-$75  招聘職位空缺  店舖職位: 顧客服務主任 收銀助理 / 收銀員(須有收銀經驗並略懂英語國語) 新鮮食品部店務員(海鮮/肉/芝士/蔬果/刺身及壽司) 店務員(乾貨/家品/朱古力/酒窖部/LOG-ON) 食品部店務員(麵包/日式甜品部/西日式食品) 禮物包裝員 店舖收貨員 西日式廚房助理 廚務職位 (葵涌工場): 西日式經驗廚師(需於聖誕期間通宵工作)  工作時間：每週工作6天，每天工作8.5小時，須輪班輪休  工作地點：中環 / 銅鑼灣 / 尖沙咀 / 沙田 / 太古  面試預約方法： Ｗhatsapp:  6603 6163 郭小姐 / 9308 8903 陳小姐 / 5145 4767 張小姐  *所收集的個人資料絕對保密及只作招聘之用途  '"
      ]
     },
     "execution_count": 34,
     "metadata": {},
     "output_type": "execute_result"
    }
   ],
   "source": [
    "driver.find_element_by_xpath('//*[@id=\"listingsResults\"]/div/div[3]/span[2]').text.replace('\\n',' ')"
   ]
  },
  {
   "cell_type": "code",
   "execution_count": 5,
   "id": "7831b5dc",
   "metadata": {},
   "outputs": [],
   "source": [
    "driver = webdriver.Chrome(executable_path=r\"chromedriver.exe\")\n",
    "driver.get(links[1])"
   ]
  },
  {
   "cell_type": "code",
   "execution_count": 54,
   "id": "46b6de5e",
   "metadata": {},
   "outputs": [
    {
     "data": {
      "text/plain": [
       "'Riseship Construction Company Ltd'"
      ]
     },
     "execution_count": 54,
     "metadata": {},
     "output_type": "execute_result"
    }
   ],
   "source": [
    "# job title and company\n",
    "job_title_company = driver.find_element_by_xpath('//*[@id=\"listingsResults\"]/div/div[3]/h2/span').text\n",
    "job_title_company"
   ]
  },
  {
   "cell_type": "code",
   "execution_count": 55,
   "id": "ccfbe7b9",
   "metadata": {},
   "outputs": [
    {
     "ename": "NoSuchElementException",
     "evalue": "Message: no such element: Unable to locate element: {\"method\":\"xpath\",\"selector\":\"//*[@id=\"listingsResults\"]/div/div[3]/span[1]/div[1]/h2\"}\n  (Session info: chrome=96.0.4664.93)\n",
     "output_type": "error",
     "traceback": [
      "\u001b[1;31m---------------------------------------------------------------------------\u001b[0m",
      "\u001b[1;31mNoSuchElementException\u001b[0m                    Traceback (most recent call last)",
      "\u001b[1;32m<ipython-input-55-2fb4c591f30f>\u001b[0m in \u001b[0;36m<module>\u001b[1;34m\u001b[0m\n\u001b[1;32m----> 1\u001b[1;33m \u001b[0msecondary_name\u001b[0m \u001b[1;33m=\u001b[0m \u001b[0mdriver\u001b[0m\u001b[1;33m.\u001b[0m\u001b[0mfind_element_by_xpath\u001b[0m\u001b[1;33m(\u001b[0m\u001b[1;34m'//*[@id=\"listingsResults\"]/div/div[3]/span[1]/div[1]/h2'\u001b[0m\u001b[1;33m)\u001b[0m\u001b[1;33m.\u001b[0m\u001b[0mtext\u001b[0m\u001b[1;33m\u001b[0m\u001b[0m\n\u001b[0m\u001b[0;32m      2\u001b[0m \u001b[0msecondary_name\u001b[0m\u001b[1;33m\u001b[0m\u001b[0m\n",
      "\u001b[1;32mc:\\users\\gorer\\appdata\\local\\programs\\python\\python36\\lib\\site-packages\\selenium\\webdriver\\remote\\webdriver.py\u001b[0m in \u001b[0;36mfind_element_by_xpath\u001b[1;34m(self, xpath)\u001b[0m\n\u001b[0;32m    392\u001b[0m             \u001b[0melement\u001b[0m \u001b[1;33m=\u001b[0m \u001b[0mdriver\u001b[0m\u001b[1;33m.\u001b[0m\u001b[0mfind_element_by_xpath\u001b[0m\u001b[1;33m(\u001b[0m\u001b[1;34m'//div/td[1]'\u001b[0m\u001b[1;33m)\u001b[0m\u001b[1;33m\u001b[0m\u001b[0m\n\u001b[0;32m    393\u001b[0m         \"\"\"\n\u001b[1;32m--> 394\u001b[1;33m         \u001b[1;32mreturn\u001b[0m \u001b[0mself\u001b[0m\u001b[1;33m.\u001b[0m\u001b[0mfind_element\u001b[0m\u001b[1;33m(\u001b[0m\u001b[0mby\u001b[0m\u001b[1;33m=\u001b[0m\u001b[0mBy\u001b[0m\u001b[1;33m.\u001b[0m\u001b[0mXPATH\u001b[0m\u001b[1;33m,\u001b[0m \u001b[0mvalue\u001b[0m\u001b[1;33m=\u001b[0m\u001b[0mxpath\u001b[0m\u001b[1;33m)\u001b[0m\u001b[1;33m\u001b[0m\u001b[0m\n\u001b[0m\u001b[0;32m    395\u001b[0m \u001b[1;33m\u001b[0m\u001b[0m\n\u001b[0;32m    396\u001b[0m     \u001b[1;32mdef\u001b[0m \u001b[0mfind_elements_by_xpath\u001b[0m\u001b[1;33m(\u001b[0m\u001b[0mself\u001b[0m\u001b[1;33m,\u001b[0m \u001b[0mxpath\u001b[0m\u001b[1;33m)\u001b[0m\u001b[1;33m:\u001b[0m\u001b[1;33m\u001b[0m\u001b[0m\n",
      "\u001b[1;32mc:\\users\\gorer\\appdata\\local\\programs\\python\\python36\\lib\\site-packages\\selenium\\webdriver\\remote\\webdriver.py\u001b[0m in \u001b[0;36mfind_element\u001b[1;34m(self, by, value)\u001b[0m\n\u001b[0;32m    976\u001b[0m         return self.execute(Command.FIND_ELEMENT, {\n\u001b[0;32m    977\u001b[0m             \u001b[1;34m'using'\u001b[0m\u001b[1;33m:\u001b[0m \u001b[0mby\u001b[0m\u001b[1;33m,\u001b[0m\u001b[1;33m\u001b[0m\u001b[0m\n\u001b[1;32m--> 978\u001b[1;33m             'value': value})['value']\n\u001b[0m\u001b[0;32m    979\u001b[0m \u001b[1;33m\u001b[0m\u001b[0m\n\u001b[0;32m    980\u001b[0m     \u001b[1;32mdef\u001b[0m \u001b[0mfind_elements\u001b[0m\u001b[1;33m(\u001b[0m\u001b[0mself\u001b[0m\u001b[1;33m,\u001b[0m \u001b[0mby\u001b[0m\u001b[1;33m=\u001b[0m\u001b[0mBy\u001b[0m\u001b[1;33m.\u001b[0m\u001b[0mID\u001b[0m\u001b[1;33m,\u001b[0m \u001b[0mvalue\u001b[0m\u001b[1;33m=\u001b[0m\u001b[1;32mNone\u001b[0m\u001b[1;33m)\u001b[0m\u001b[1;33m:\u001b[0m\u001b[1;33m\u001b[0m\u001b[0m\n",
      "\u001b[1;32mc:\\users\\gorer\\appdata\\local\\programs\\python\\python36\\lib\\site-packages\\selenium\\webdriver\\remote\\webdriver.py\u001b[0m in \u001b[0;36mexecute\u001b[1;34m(self, driver_command, params)\u001b[0m\n\u001b[0;32m    319\u001b[0m         \u001b[0mresponse\u001b[0m \u001b[1;33m=\u001b[0m \u001b[0mself\u001b[0m\u001b[1;33m.\u001b[0m\u001b[0mcommand_executor\u001b[0m\u001b[1;33m.\u001b[0m\u001b[0mexecute\u001b[0m\u001b[1;33m(\u001b[0m\u001b[0mdriver_command\u001b[0m\u001b[1;33m,\u001b[0m \u001b[0mparams\u001b[0m\u001b[1;33m)\u001b[0m\u001b[1;33m\u001b[0m\u001b[0m\n\u001b[0;32m    320\u001b[0m         \u001b[1;32mif\u001b[0m \u001b[0mresponse\u001b[0m\u001b[1;33m:\u001b[0m\u001b[1;33m\u001b[0m\u001b[0m\n\u001b[1;32m--> 321\u001b[1;33m             \u001b[0mself\u001b[0m\u001b[1;33m.\u001b[0m\u001b[0merror_handler\u001b[0m\u001b[1;33m.\u001b[0m\u001b[0mcheck_response\u001b[0m\u001b[1;33m(\u001b[0m\u001b[0mresponse\u001b[0m\u001b[1;33m)\u001b[0m\u001b[1;33m\u001b[0m\u001b[0m\n\u001b[0m\u001b[0;32m    322\u001b[0m             response['value'] = self._unwrap_value(\n\u001b[0;32m    323\u001b[0m                 response.get('value', None))\n",
      "\u001b[1;32mc:\\users\\gorer\\appdata\\local\\programs\\python\\python36\\lib\\site-packages\\selenium\\webdriver\\remote\\errorhandler.py\u001b[0m in \u001b[0;36mcheck_response\u001b[1;34m(self, response)\u001b[0m\n\u001b[0;32m    240\u001b[0m                 \u001b[0malert_text\u001b[0m \u001b[1;33m=\u001b[0m \u001b[0mvalue\u001b[0m\u001b[1;33m[\u001b[0m\u001b[1;34m'alert'\u001b[0m\u001b[1;33m]\u001b[0m\u001b[1;33m.\u001b[0m\u001b[0mget\u001b[0m\u001b[1;33m(\u001b[0m\u001b[1;34m'text'\u001b[0m\u001b[1;33m)\u001b[0m\u001b[1;33m\u001b[0m\u001b[0m\n\u001b[0;32m    241\u001b[0m             \u001b[1;32mraise\u001b[0m \u001b[0mexception_class\u001b[0m\u001b[1;33m(\u001b[0m\u001b[0mmessage\u001b[0m\u001b[1;33m,\u001b[0m \u001b[0mscreen\u001b[0m\u001b[1;33m,\u001b[0m \u001b[0mstacktrace\u001b[0m\u001b[1;33m,\u001b[0m \u001b[0malert_text\u001b[0m\u001b[1;33m)\u001b[0m\u001b[1;33m\u001b[0m\u001b[0m\n\u001b[1;32m--> 242\u001b[1;33m         \u001b[1;32mraise\u001b[0m \u001b[0mexception_class\u001b[0m\u001b[1;33m(\u001b[0m\u001b[0mmessage\u001b[0m\u001b[1;33m,\u001b[0m \u001b[0mscreen\u001b[0m\u001b[1;33m,\u001b[0m \u001b[0mstacktrace\u001b[0m\u001b[1;33m)\u001b[0m\u001b[1;33m\u001b[0m\u001b[0m\n\u001b[0m\u001b[0;32m    243\u001b[0m \u001b[1;33m\u001b[0m\u001b[0m\n\u001b[0;32m    244\u001b[0m     \u001b[1;32mdef\u001b[0m \u001b[0m_value_or_default\u001b[0m\u001b[1;33m(\u001b[0m\u001b[0mself\u001b[0m\u001b[1;33m,\u001b[0m \u001b[0mobj\u001b[0m\u001b[1;33m,\u001b[0m \u001b[0mkey\u001b[0m\u001b[1;33m,\u001b[0m \u001b[0mdefault\u001b[0m\u001b[1;33m)\u001b[0m\u001b[1;33m:\u001b[0m\u001b[1;33m\u001b[0m\u001b[0m\n",
      "\u001b[1;31mNoSuchElementException\u001b[0m: Message: no such element: Unable to locate element: {\"method\":\"xpath\",\"selector\":\"//*[@id=\"listingsResults\"]/div/div[3]/span[1]/div[1]/h2\"}\n  (Session info: chrome=96.0.4664.93)\n"
     ]
    }
   ],
   "source": [
    "secondary_name = driver.find_element_by_xpath('//*[@id=\"listingsResults\"]/div/div[3]/span[1]/div[1]/h2').text\n",
    "secondary_name"
   ]
  },
  {
   "cell_type": "code",
   "execution_count": 62,
   "id": "d0f05894",
   "metadata": {
    "scrolled": false
   },
   "outputs": [
    {
     "data": {
      "text/plain": [
       "'\\n<strong>Job Level</strong> Entry<br><br><strong>Education</strong> Diploma / Certificate<br><br><strong>Industry</strong> Building / Construction / Engineering<br><br><strong>Job Function</strong> Construction / Property - Building &amp; Construction<br><br><strong>Skill</strong> Proficiency in MS Applications, Knowledge on AutoCAD is a bonus<br><br><strong>Language</strong> Chinese - Cantonese, English<br><br><strong>Location</strong> Eastern District / Sai Wan Ho<br><br><strong>Employment</strong> <strong>Type</strong> Full Time<br><br><strong>Benefits</strong> 13-month pay, Alternate Saturday, Discretionary bonus, Education subsidies<br><br><strong>Ref: EC20012APC<br><br><u>Responsibilities</u></strong><ul><li>Project supports including word processing for BD submission, recording project condition, conducting on-site measurement and communicating with relevant parties to assist in the project.</li><li>Communication with the project team to assist day-to-day project tasks</li><li>Perform ad hoc task as required</li><li>Site Coordination</li><li>Able to handle multi-tasks under pressure and deadline</li></ul><u><strong>Job Requirements</strong></u>\\n<ul><li>Team-player who is willing to learn, independent, self-motivated, organized and hardworking is preferred</li><li>Detailed-minded, well-organized, able to prioritize and manage workload under pressure</li></ul><u><strong>Working Hours</strong></u>\\n<ul><li>Working Hours is fixed at 5 days or 5.5 days per week:</li><li>Monday to Friday from 9 am to 5:30 pm</li><li>Saturday from 9 am to 12 noon (Alternative Week)</li></ul>Interested parties please send your Full Resume, Present &amp; Expected Salary to Riseship quoting the appropriate reference number “<strong>EC20012APC</strong>” via an email to&nbsp;<a href=\"mailto:bobo.chong@riseship.com.hk\"><strong>bobo.chong@riseship.com.hk</strong></a>&nbsp;or contact <strong>2578 1679</strong> for further information.<br><br><span style=\"font-size: 10px;\">Personal data collected will be treated in the strictest confidence and handled confidentially by authorized personnel for recruitment related purposes within the company. Applicants not hearing from us within 4 weeks from the date of advertisement may consider their application unsuccessful</span><br><br>&nbsp;\\n'"
      ]
     },
     "execution_count": 62,
     "metadata": {},
     "output_type": "execute_result"
    }
   ],
   "source": [
    "details = driver.find_element_by_xpath('//*[@id=\"listingsResults\"]/div/div[3]/span[2]').get_attribute('innerHTML')\n",
    "details"
   ]
  },
  {
   "cell_type": "code",
   "execution_count": 66,
   "id": "db1efd79",
   "metadata": {},
   "outputs": [
    {
     "data": {
      "text/plain": [
       "'<ul><li>Working Hours is fixed at 5 days or 5.5 days per week:</li><li>Monday to Friday from 9 am to 5:30 pm</li><li>Saturday from 9 am to 12 noon (Alternative Week)</li></ul>Interested parties please send your Full Resume, Present &amp; Expected Salary to Riseship quoting the appropriate reference number “<strong>EC20012APC</strong>” via an email to&nbsp;<a href=\"mailto:bobo.chong@riseship.com.hk\"><strong>bobo.chong@riseship.com.hk</strong></a>&nbsp;or contact <strong>2578 1679</strong> for further information.<br><br><span style=\"font-size: 10px;\">Personal data collected will be treated in the strictest confidence and handled confidentially by authorized personnel for recruitment related purposes within the company. Applicants not hearing from us within 4 weeks from the date of advertisement may consider their application unsuccessful</span><br><br>&nbsp;'"
      ]
     },
     "execution_count": 66,
     "metadata": {},
     "output_type": "execute_result"
    }
   ],
   "source": [
    "details.split('\\n')[-2]"
   ]
  },
  {
   "cell_type": "code",
   "execution_count": 104,
   "id": "b1ecfc47",
   "metadata": {},
   "outputs": [
    {
     "data": {
      "text/plain": [
       "'Post date: 2021-12-09'"
      ]
     },
     "execution_count": 104,
     "metadata": {},
     "output_type": "execute_result"
    }
   ],
   "source": [
    "# job info\n",
    "job_info = driver.find_element_by_xpath('//*[@id=\"displayListing\"]/div[3]/div[5]/div[2]').text.replace('\\n',' ')\n",
    "job_info"
   ]
  },
  {
   "cell_type": "code",
   "execution_count": 8,
   "id": "08e9c8a4",
   "metadata": {},
   "outputs": [
    {
     "data": {
      "text/plain": [
       "'bobo.chong@riseship.com.hk'"
      ]
     },
     "execution_count": 8,
     "metadata": {},
     "output_type": "execute_result"
    }
   ],
   "source": [
    "# email\n",
    "email = driver.find_element_by_xpath('//*[@id=\"displayListing\"]/div[3]/div[7]/div[2]/span[2]').text\n",
    "email"
   ]
  },
  {
   "cell_type": "code",
   "execution_count": 9,
   "id": "27a94c34",
   "metadata": {},
   "outputs": [
    {
     "data": {
      "text/plain": [
       "'2578 1679'"
      ]
     },
     "execution_count": 9,
     "metadata": {},
     "output_type": "execute_result"
    }
   ],
   "source": [
    "#contact\n",
    "contact = driver.find_element_by_xpath('//*[@id=\"displayListing\"]/div[3]/div[7]/div[2]/span[4]').text\n",
    "contact"
   ]
  },
  {
   "cell_type": "code",
   "execution_count": 11,
   "id": "8260a006",
   "metadata": {},
   "outputs": [
    {
     "data": {
      "text/plain": [
       "''"
      ]
     },
     "execution_count": 11,
     "metadata": {},
     "output_type": "execute_result"
    }
   ],
   "source": [
    "# whatsapp\n",
    "whatsapp = driver.find_element_by_xpath('//*[@id=\"displayListing\"]/div[3]/div[7]/div[2]/span[6]').text\n",
    "whatsapp"
   ]
  },
  {
   "cell_type": "code",
   "execution_count": 12,
   "id": "06cd8a5c",
   "metadata": {},
   "outputs": [
    {
     "data": {
      "text/plain": [
       "''"
      ]
     },
     "execution_count": 12,
     "metadata": {},
     "output_type": "execute_result"
    }
   ],
   "source": [
    "#website\n",
    "website = driver.find_element_by_xpath('//*[@id=\"displayListing\"]/div[3]/div[7]/div[2]/span[8]').text\n",
    "website"
   ]
  },
  {
   "cell_type": "code",
   "execution_count": null,
   "id": "b2b4205f",
   "metadata": {},
   "outputs": [],
   "source": []
  },
  {
   "cell_type": "code",
   "execution_count": 13,
   "id": "03810d89",
   "metadata": {},
   "outputs": [
    {
     "data": {
      "text/plain": [
       "'面議'"
      ]
     },
     "execution_count": 13,
     "metadata": {},
     "output_type": "execute_result"
    }
   ],
   "source": [
    "# salary\n",
    "salary = driver.find_element_by_xpath('//*[@id=\"displayListing\"]/div[3]/div[9]/div[2]/span[2]').text\n",
    "salary"
   ]
  },
  {
   "cell_type": "code",
   "execution_count": 14,
   "id": "c65fb79e",
   "metadata": {},
   "outputs": [
    {
     "data": {
      "text/plain": [
       "'Hong Kong Island - Central and Western District ,Sai Wan Ho'"
      ]
     },
     "execution_count": 14,
     "metadata": {},
     "output_type": "execute_result"
    }
   ],
   "source": [
    "#workinglocation\n",
    "workinglocation = driver.find_element_by_xpath('//*[@id=\"displayListing\"]/div[3]/div[9]/div[2]/span[4]').text\n",
    "workinglocation"
   ]
  },
  {
   "cell_type": "code",
   "execution_count": 16,
   "id": "a5e5961b",
   "metadata": {},
   "outputs": [
    {
     "data": {
      "text/plain": [
       "'Building / Architectural - Architectural ,Surveying ,Others\\nConstruction / Property / Estate - Architect\\nDesign - Others\\nEngineering - Others'"
      ]
     },
     "execution_count": 16,
     "metadata": {},
     "output_type": "execute_result"
    }
   ],
   "source": [
    "# jobfuncion\n",
    "jobfuncion = driver.find_element_by_xpath('//*[@id=\"displayListing\"]/div[3]/div[9]/div[2]/span[6]').text\n",
    "jobfuncion"
   ]
  },
  {
   "cell_type": "code",
   "execution_count": 17,
   "id": "879f0f5d",
   "metadata": {},
   "outputs": [
    {
     "data": {
      "text/plain": [
       "'Accounting / Auditing / Taxation ,Building / Architectural ,Construction / Property / Estate ,Engineering ,Quality Assurance / Control'"
      ]
     },
     "execution_count": 17,
     "metadata": {},
     "output_type": "execute_result"
    }
   ],
   "source": [
    "#industry\n",
    "industry = driver.find_element_by_xpath('//*[@id=\"displayListing\"]/div[3]/div[9]/div[2]/span[8]').text\n",
    "industry"
   ]
  },
  {
   "cell_type": "code",
   "execution_count": 18,
   "id": "1f92d4e7",
   "metadata": {},
   "outputs": [
    {
     "data": {
      "text/plain": [
       "'Full time ,Permanent'"
      ]
     },
     "execution_count": 18,
     "metadata": {},
     "output_type": "execute_result"
    }
   ],
   "source": [
    "#employmentterm\n",
    "employmentterm = driver.find_element_by_xpath('//*[@id=\"displayListing\"]/div[3]/div[9]/div[2]/span[10]').text\n",
    "employmentterm"
   ]
  },
  {
   "cell_type": "code",
   "execution_count": 19,
   "id": "b9bd2067",
   "metadata": {},
   "outputs": [
    {
     "data": {
      "text/plain": [
       "'1 year or above'"
      ]
     },
     "execution_count": 19,
     "metadata": {},
     "output_type": "execute_result"
    }
   ],
   "source": [
    "# experience\n",
    "experience = driver.find_element_by_xpath('//*[@id=\"displayListing\"]/div[3]/div[9]/div[2]/span[12]').text\n",
    "experience"
   ]
  },
  {
   "cell_type": "code",
   "execution_count": 21,
   "id": "1a613c77",
   "metadata": {},
   "outputs": [
    {
     "data": {
      "text/plain": [
       "'Diploma'"
      ]
     },
     "execution_count": 21,
     "metadata": {},
     "output_type": "execute_result"
    }
   ],
   "source": [
    "# educationlevel\n",
    "educationlevel = driver.find_element_by_xpath('//*[@id=\"displayListing\"]/div[3]/div[9]/div[2]/span[14]').text\n",
    "educationlevel"
   ]
  },
  {
   "cell_type": "code",
   "execution_count": 23,
   "id": "62e73de9",
   "metadata": {},
   "outputs": [
    {
     "data": {
      "text/plain": [
       "'Not Specified'"
      ]
     },
     "execution_count": 23,
     "metadata": {},
     "output_type": "execute_result"
    }
   ],
   "source": [
    "# careerlevel\n",
    "careerlevel = driver.find_element_by_xpath('//*[@id=\"displayListing\"]/div[3]/div[9]/div[2]/span[16]').text\n",
    "careerlevel"
   ]
  },
  {
   "cell_type": "code",
   "execution_count": 26,
   "id": "8cface8f",
   "metadata": {},
   "outputs": [
    {
     "data": {
      "text/plain": [
       "'13-month Pay, Discretionary Bonus, Education Subsidies, Paid Annual Leave, MPF, Promotion'"
      ]
     },
     "execution_count": 26,
     "metadata": {},
     "output_type": "execute_result"
    }
   ],
   "source": [
    "# benefit\n",
    "benefit = driver.find_element_by_xpath('//*[@id=\"displayListing\"]/div[3]/div[9]/div[2]/span[18]').text.replace('\\n',', ')"
   ]
  },
  {
   "cell_type": "code",
   "execution_count": null,
   "id": "945cecb3",
   "metadata": {},
   "outputs": [],
   "source": []
  },
  {
   "cell_type": "code",
   "execution_count": 68,
   "id": "89cfa17f",
   "metadata": {},
   "outputs": [
    {
     "data": {
      "text/plain": [
       "'2021-12-10'"
      ]
     },
     "execution_count": 68,
     "metadata": {},
     "output_type": "execute_result"
    }
   ],
   "source": [
    "job_info.split(\": \")[-1]"
   ]
  },
  {
   "cell_type": "code",
   "execution_count": null,
   "id": "3d3830a3",
   "metadata": {},
   "outputs": [],
   "source": [
    "driver = webdriver.Chrome(executable_path=r\"chromedriver.exe\")\n",
    "driver.get(links[1])\n",
    "\n",
    "# job title and company\n",
    "job_title_company = driver.find_element_by_xpath('//*[@id=\"listingsResults\"]/div/div[3]/h2/span').text\n",
    "\n",
    "secondary_name = driver.find_element_by_xpath('//*[@id=\"listingsResults\"]/div/div[3]/span[1]/div[1]/h2').text\n",
    "\n",
    "\n",
    "details = driver.find_element_by_xpath('//*[@id=\"listingsResults\"]/div/div[3]/span[1]/div[2]').text.replace('\\n',' ')\n",
    "\n",
    "# job info\n",
    "job_info = driver.find_element_by_xpath('//*[@id=\"displayListing\"]/div[3]/div[5]/div[2]').text.replace('\\n',' ')\n",
    "\n",
    "# email\n",
    "email = driver.find_element_by_xpath('//*[@id=\"displayListing\"]/div[3]/div[7]/div[2]/span[2]').text\n",
    "\n",
    "#contact\n",
    "contact = driver.find_element_by_xpath('//*[@id=\"displayListing\"]/div[3]/div[7]/div[2]/span[4]').text\n",
    "\n",
    "# whatsapp\n",
    "whatsapp = driver.find_element_by_xpath('//*[@id=\"displayListing\"]/div[3]/div[7]/div[2]/span[6]').text\n",
    "\n",
    "#website\n",
    "website = driver.find_element_by_xpath('//*[@id=\"displayListing\"]/div[3]/div[7]/div[2]/span[8]').text\n",
    "\n",
    "# salary\n",
    "salary = driver.find_element_by_xpath('//*[@id=\"displayListing\"]/div[3]/div[9]/div[2]/span[2]').text\n",
    "\n",
    "#workinglocation\n",
    "workinglocation = driver.find_element_by_xpath('//*[@id=\"displayListing\"]/div[3]/div[9]/div[2]/span[4]').text\n",
    "\n",
    "# jobfuncion\n",
    "jobfuncion = driver.find_element_by_xpath('//*[@id=\"displayListing\"]/div[3]/div[9]/div[2]/span[6]').text\n",
    "\n",
    "#industry\n",
    "industry = driver.find_element_by_xpath('//*[@id=\"displayListing\"]/div[3]/div[9]/div[2]/span[8]').text\n",
    "\n",
    "#employmentterm\n",
    "employmentterm = driver.find_element_by_xpath('//*[@id=\"displayListing\"]/div[3]/div[9]/div[2]/span[10]').text\n",
    "\n",
    "\n",
    "# experience\n",
    "experience = driver.find_element_by_xpath('//*[@id=\"displayListing\"]/div[3]/div[9]/div[2]/span[12]').text\n",
    "\n",
    "\n",
    "# educationlevel\n",
    "educationlevel = driver.find_element_by_xpath('//*[@id=\"displayListing\"]/div[3]/div[9]/div[2]/span[14]').text\n",
    "\n",
    "\n",
    "# careerlevel\n",
    "careerlevel = driver.find_element_by_xpath('//*[@id=\"displayListing\"]/div[3]/div[9]/div[2]/span[16]').text\n",
    "\n",
    "\n",
    "# benefit\n",
    "benefit = driver.find_element_by_xpath('//*[@id=\"displayListing\"]/div[3]/div[9]/div[2]/span[18]').text.replace('\\n',', ')"
   ]
  },
  {
   "cell_type": "code",
   "execution_count": null,
   "id": "cbb3a9d0",
   "metadata": {},
   "outputs": [],
   "source": []
  },
  {
   "cell_type": "code",
   "execution_count": null,
   "id": "f344d02e",
   "metadata": {},
   "outputs": [],
   "source": []
  },
  {
   "cell_type": "code",
   "execution_count": null,
   "id": "1507859e",
   "metadata": {},
   "outputs": [],
   "source": []
  },
  {
   "cell_type": "code",
   "execution_count": 7,
   "id": "a9ee587c",
   "metadata": {},
   "outputs": [
    {
     "name": "stdout",
     "output_type": "stream",
     "text": [
      "\n",
      " GETTING ONLY LINKS from page no: >>>> \n",
      " 1\n",
      "https://www.ecjobsonline.com/display-job/46368/百萬年薪,地產致富-(東九龍-藍田-匯景花園).html?searchId=1639064028.6211&page=1\n",
      "https://www.ecjobsonline.com/display-job/46365/日式拉麵連鎖店-–-中環,-荃灣,-屯門店急聘全職樓面(-16K---17K).html?searchId=1639064028.6211&page=1\n",
      "\n",
      " ALL LINKS SCRAPED, NOW VISIT EACH LINKS >>>> \n",
      "\n",
      "\n",
      " LINK >>>> \n",
      " https://www.ecjobsonline.com/display-job/46368/百萬年薪,地產致富-(東九龍-藍田-匯景花園).html?searchId=1639064028.6211&page=1\n",
      "Making JSON\n",
      "Making csv\n",
      "\n",
      " LINK >>>> \n",
      " https://www.ecjobsonline.com/display-job/46365/日式拉麵連鎖店-–-中環,-荃灣,-屯門店急聘全職樓面(-16K---17K).html?searchId=1639064028.6211&page=1\n",
      "Making JSON\n",
      "Making csv\n"
     ]
    }
   ],
   "source": [
    "import time\n",
    "from selenium import webdriver\n",
    "from selenium.webdriver.common.keys import Keys\n",
    "from time import sleep\n",
    "import pandas as pd\n",
    "from selenium.common.exceptions import NoSuchElementException\n",
    "import numpy as np\n",
    "import json\n",
    "import requests\n",
    "import re\n",
    "from collections import OrderedDict\n",
    "from time import strptime\n",
    "\n",
    "import sys\n",
    "\n",
    "\n",
    "# list of dictionary\n",
    "main = []\n",
    "\n",
    "# Initializing data Frame\n",
    "df = pd.DataFrame()\n",
    "\n",
    "driver = webdriver.Chrome(executable_path=r\"chromedriver.exe\")\n",
    "driver.get('https://www.ecjobsonline.com/search-results-jobs/?searchId=1639064028.6211&action=search&page=1&listings_per_page=20&view=list')\n",
    "\n",
    "\n",
    "links = []\n",
    "\n",
    "# pages\n",
    "for pg in range(1, 2):\n",
    "    print(\"\\n GETTING ONLY LINKS from page no: >>>> \\n\", pg)\n",
    "    if '◀' in driver.find_elements_by_class_name('pink_arrows')[-1].text:\n",
    "        break\n",
    "    else:\n",
    "        #visitng each page\n",
    "        driver.get(f'https://www.ecjobsonline.com/search-results-jobs/?searchId=1639064028.6211&action=search&page={pg}&listings_per_page=20&view=list')\n",
    "        \n",
    "        #getting each link from each page\n",
    "        for ep in range(2):\n",
    "            try:\n",
    "                # getting links\n",
    "                link = driver.find_element_by_class_name('job-list').find_elements_by_tag_name('tr')[ep].get_attribute('onclick').split('\"')[1]\n",
    "                print(link)\n",
    "                links.append(link)\n",
    "            except exception as e:\n",
    "                print(e)\n",
    "                pass\n",
    "\n",
    "print(\"\\n ALL LINKS SCRAPED, NOW VISIT EACH LINKS >>>> \\n\")\n",
    "\n",
    "# for each link from list\n",
    "for el in range(len(links)):\n",
    "    print(\"\\n LINK >>>> \\n\", links[el])\n",
    "    driver.get(links[el])\n",
    "    \n",
    "    # job title and company\n",
    "    try:\n",
    "        job_title_company = driver.find_element_by_xpath('//*[@id=\"listingsResults\"]/div/div[3]/h2/span').text\n",
    "    except:\n",
    "        job_title_company='na'\n",
    "        \n",
    "    try:\n",
    "        job_name = driver.find_element_by_xpath('//*[@id=\"listingsResults\"]/div/div[3]/h3').text\n",
    "    except:\n",
    "        job_name ='na'\n",
    "        \n",
    "    try:\n",
    "        company_pic_url = driver.find_element_by_xpath('//*[@id=\"listingsResults\"]/div/img').get_attribute('src')\n",
    "        response = requests.get(company_pic_url)\n",
    "        \n",
    "        try:\n",
    "            fnme = job_title_company.split(\" \")[0]\n",
    "        except:\n",
    "            fnme = job_title_company\n",
    "            pass\n",
    "        \n",
    "        file = open(f\"imgs/{fnme}.png\", \"wb\")\n",
    "        file.write(response.content)\n",
    "        file.close()\n",
    "    except:\n",
    "        company_pic_url = 'na'\n",
    "    \n",
    "    try:\n",
    "        secondary_name = driver.find_element_by_xpath('//*[@id=\"listingsResults\"]/div/div[3]/span[1]/div[1]/h2').text\n",
    "    except:\n",
    "        secondary_name = 'na'\n",
    "\n",
    "    try:\n",
    "        jobdescription = driver.find_element_by_xpath('//*[@id=\"listingsResults\"]/div/div[3]/span[2]').get_attribute('innerHTML')\n",
    "    except:\n",
    "        jobdescription = 'na'\n",
    "\n",
    "    # job info\n",
    "    try:\n",
    "        job_info = driver.find_element_by_xpath('//*[@id=\"displayListing\"]/div[3]/div[5]/div[2]').text.replace('\\n',' ').split(\": \")[-1]\n",
    "    except:\n",
    "        job_info = 'na'\n",
    "\n",
    "    # email\n",
    "    try:\n",
    "        email = driver.find_element_by_xpath('//*[@id=\"displayListing\"]/div[3]/div[7]/div[2]/span[2]').text\n",
    "    except:\n",
    "        email=\"na\"\n",
    "\n",
    "    #contact\n",
    "    try:\n",
    "        contact = driver.find_element_by_xpath('//*[@id=\"displayListing\"]/div[3]/div[7]/div[2]/span[4]').text\n",
    "    except:\n",
    "        contact = 'na'\n",
    "    \n",
    "\n",
    "    # whatsapp\n",
    "    try:\n",
    "        whatsapp = driver.find_element_by_xpath('//*[@id=\"displayListing\"]/div[3]/div[7]/div[2]/span[6]').text\n",
    "    except:\n",
    "        whatsapp = 'na'\n",
    "\n",
    "    #website\n",
    "    try:\n",
    "        website = driver.find_element_by_xpath('//*[@id=\"displayListing\"]/div[3]/div[7]/div[2]/span[8]').text\n",
    "    except:\n",
    "        website = 'na'\n",
    "\n",
    "    # salary\n",
    "    try:\n",
    "        salary = driver.find_element_by_xpath('//*[@id=\"displayListing\"]/div[3]/div[9]/div[2]/span[2]').text\n",
    "    except:\n",
    "        salary = 'na'\n",
    "\n",
    "    #workinglocation\n",
    "    try:\n",
    "        workinglocation = driver.find_element_by_xpath('//*[@id=\"displayListing\"]/div[3]/div[9]/div[2]/span[4]').text\n",
    "    except:\n",
    "        workinglocation = 'na'\n",
    "\n",
    "    # jobfuncion\n",
    "    try:\n",
    "        jobfunction = driver.find_element_by_xpath('//*[@id=\"displayListing\"]/div[3]/div[9]/div[2]/span[6]').text\n",
    "    except:\n",
    "        jobfunction = 'na'\n",
    "\n",
    "    #industry\n",
    "    try:\n",
    "        industry = driver.find_element_by_xpath('//*[@id=\"displayListing\"]/div[3]/div[9]/div[2]/span[8]').text\n",
    "    except:\n",
    "        industry = 'na'\n",
    "\n",
    "    #employmentterm\n",
    "    try:\n",
    "        employmentterm = driver.find_element_by_xpath('//*[@id=\"displayListing\"]/div[3]/div[9]/div[2]/span[10]').text\n",
    "    except:\n",
    "        employmentterm = 'na'\n",
    "\n",
    "\n",
    "    # experience\n",
    "    try:\n",
    "        experience = driver.find_element_by_xpath('//*[@id=\"displayListing\"]/div[3]/div[9]/div[2]/span[12]').text\n",
    "    except:\n",
    "        experience = 'na'\n",
    "\n",
    "\n",
    "    # educationlevel\n",
    "    try:\n",
    "        educationlevel = driver.find_element_by_xpath('//*[@id=\"displayListing\"]/div[3]/div[9]/div[2]/span[14]').text\n",
    "    except:\n",
    "        educationlevel = 'na'\n",
    "\n",
    "\n",
    "    # careerlevel\n",
    "    try:\n",
    "        careerlevel = driver.find_element_by_xpath('//*[@id=\"displayListing\"]/div[3]/div[9]/div[2]/span[16]').text\n",
    "    except:\n",
    "        careerlevel = 'na'\n",
    "\n",
    "\n",
    "    # benefit\n",
    "    try:\n",
    "        benefit = driver.find_element_by_xpath('//*[@id=\"displayListing\"]/div[3]/div[9]/div[2]/span[18]').text.replace('\\n',', ')\n",
    "    except:\n",
    "        benefit = 'na'\n",
    "    \n",
    "    \n",
    "    \n",
    "    #making dictonary\n",
    "    data ={\n",
    "        'job_post_url':driver.current_url,\n",
    "        'company_pic_url':company_pic_url,\n",
    "        'job_title_company':job_title_company,\n",
    "        'first_name':secondary_name,\n",
    "        'jobdescription': jobdescription,\n",
    "        'job_info':job_info,\n",
    "        'email':email,\n",
    "        'whatsapp':whatsapp,\n",
    "        'website':website,\n",
    "        'salary': salary,\n",
    "        'workinglocation':workinglocation,\n",
    "        'employmentterm': employmentterm,\n",
    "        'experience': experience,\n",
    "        'educationlevel':educationlevel,\n",
    "        'careerlevel':careerlevel,\n",
    "        'benefit':benefit,\n",
    "        'jobfunction':jobfunction,\n",
    "        'industry':industry,\n",
    "        'contact':contact,\n",
    "        'jobfunction':jobfunction,\n",
    "        'job_name':job_name\n",
    "        \n",
    "     }\n",
    "\n",
    "\n",
    "    #append it to main data\n",
    "    main.append(data)\n",
    "    print(\"Making JSON\")\n",
    "    #Open and save in json file\n",
    "    with open(\"demo.json\", 'w', encoding=\"utf-8\") as f:\n",
    "              json.dump(main, f,indent=4, ensure_ascii=False)\n",
    "\n",
    "    #creating dataframe\n",
    "    df = df.append({\n",
    "        'job_post_url':driver.current_url,\n",
    "        'company_pic_url':company_pic_url,\n",
    "        'job_title_company':job_title_company,\n",
    "        'first_name':secondary_name,\n",
    "        'jobdescription': jobdescription,\n",
    "        'job_info':job_info,\n",
    "        'email':email,\n",
    "        'whatsapp':whatsapp,\n",
    "        'website':website,\n",
    "        'salary': salary,\n",
    "        'workinglocation':workinglocation,\n",
    "        'employmentterm': employmentterm,\n",
    "        'experience': experience,\n",
    "        'educationlevel':educationlevel,\n",
    "        'careerlevel':careerlevel,\n",
    "        'benefit':benefit,\n",
    "        'jobfunction':jobfunction,\n",
    "        'industry':industry,\n",
    "        'contact':contact,\n",
    "        'jobfunction':jobfunction,\n",
    "        'job_name':job_name\n",
    "        \n",
    "     }, ignore_index=True)\n",
    "\n",
    "    print(\"Making csv\")\n",
    "    df.to_csv('input_dataframe.csv')    "
   ]
  },
  {
   "cell_type": "code",
   "execution_count": null,
   "id": "d4d341f1",
   "metadata": {},
   "outputs": [],
   "source": []
  },
  {
   "cell_type": "code",
   "execution_count": 2,
   "id": "cfcee925",
   "metadata": {},
   "outputs": [],
   "source": [
    "import requests"
   ]
  },
  {
   "cell_type": "code",
   "execution_count": 5,
   "id": "0ba67285",
   "metadata": {},
   "outputs": [],
   "source": [
    "response = requests.get(\"https://i.imgur.com/ExdKOOz.png\")\n",
    "\n",
    "file = open(\"imgs/sample_image.png\", \"wb\")\n",
    "file.write(response.content)\n",
    "file.close()"
   ]
  },
  {
   "cell_type": "code",
   "execution_count": null,
   "id": "aa650045",
   "metadata": {},
   "outputs": [],
   "source": [
    "import time\n",
    "from selenium import webdriver\n",
    "from selenium.webdriver.common.keys import Keys\n",
    "from time import sleep\n",
    "import pandas as pd\n",
    "from selenium.common.exceptions import NoSuchElementException\n",
    "import numpy as np\n",
    "import json\n",
    "\n",
    "import re\n",
    "from collections import OrderedDict\n",
    "from time import strptime\n",
    "\n",
    "import sys\n",
    "\n",
    "\n",
    "# list of dictionary\n",
    "main = []\n",
    "\n",
    "# Initializing data Frame\n",
    "df = pd.DataFrame()\n",
    "\n",
    "driver = webdriver.Chrome(executable_path=r\"chromedriver.exe\")\n",
    "driver.get('https://www.ecjobsonline.com/search-results-jobs/?searchId=1639064028.6211&action=search&page=1&listings_per_page=20&view=list')\n",
    "\n",
    "\n",
    "links = []\n",
    "\n",
    "# pages\n",
    "for pg in range(1, 100000):\n",
    "    print(\"\\n GETTING ONLY LINKS from page no: >>>> \\n\", pg)\n",
    "    if '◀' in driver.find_elements_by_class_name('pink_arrows')[-1].text:\n",
    "        break\n",
    "    else:\n",
    "        #visitng each page\n",
    "        driver.get(f'https://www.ecjobsonline.com/search-results-jobs/?searchId=1639064028.6211&action=search&page={pg}&listings_per_page=20&view=list')\n",
    "        \n",
    "        #getting each link from each page\n",
    "        for ep in range(20):\n",
    "            try:\n",
    "                # getting links\n",
    "                link = driver.find_element_by_class_name('job-list').find_elements_by_tag_name('tr')[ep].get_attribute('onclick').split('\"')[1]\n",
    "                print(link)\n",
    "                links.append(link)\n",
    "            except Exception as e:\n",
    "                print(e)\n",
    "                pass\n",
    "\n",
    "print(\"\\n ALL LINKS SCRAPED, NOW VISIT EACH LINKS >>>> \\n\")\n",
    "\n",
    "# for each link from list\n",
    "for el in range(len(links)):\n",
    "    print(\"\\n LINK >>>> \\n\", links[el])\n",
    "    driver.get(links[el])\n",
    "    \n",
    "    # job title and company\n",
    "    try:\n",
    "        job_title_company = driver.find_element_by_xpath('//*[@id=\"listingsResults\"]/div/div[3]/h2/span').text\n",
    "    except:\n",
    "        job_title_company='na'\n",
    "        \n",
    "    try:\n",
    "        job_name = driver.find_element_by_xpath('//*[@id=\"listingsResults\"]/div/div[3]/h3').text\n",
    "    except:\n",
    "        job_name ='na'\n",
    "        \n",
    "    try:\n",
    "        company_pic_url = driver.find_element_by_xpath('//*[@id=\"listingsResults\"]/div/img').get_attribute('src')\n",
    "        response = requests.get(company_pic_url)\n",
    "        \n",
    "        try:\n",
    "            fnme = job_title_company.split(\" \")[0]\n",
    "        except:\n",
    "            fnme = job_title_company\n",
    "            pass\n",
    "        \n",
    "        file = open(f\"imgs/{fnme}'_'{}.png\", \"wb\")\n",
    "        file.write(response.content)\n",
    "        file.close()\n",
    "    except:\n",
    "        company_pic_url = 'na'\n",
    "    \n",
    "    try:\n",
    "        secondary_name = driver.find_element_by_xpath('//*[@id=\"listingsResults\"]/div/div[3]/span[1]/div[1]/h2').text\n",
    "    except:\n",
    "        secondary_name = 'na'\n",
    "\n",
    "    try:\n",
    "        jobdescription = driver.find_element_by_xpath('//*[@id=\"listingsResults\"]/div/div[3]/span[2]').get_attribute('innerHTML')\n",
    "    except:\n",
    "        jobdescription = 'na'\n",
    "\n",
    "    # job info\n",
    "    try:\n",
    "        job_info = driver.find_element_by_xpath('//*[@id=\"displayListing\"]/div[3]/div[5]/div[2]').text.replace('\\n',' ').split(\": \")[-1]\n",
    "    except:\n",
    "        job_info = 'na'\n",
    "\n",
    "    # email\n",
    "    try:\n",
    "        email = driver.find_element_by_xpath('//*[@id=\"displayListing\"]/div[3]/div[7]/div[2]/span[2]').text\n",
    "    except:\n",
    "        email=\"na\"\n",
    "\n",
    "    #contact\n",
    "    try:\n",
    "        contact = driver.find_element_by_xpath('//*[@id=\"displayListing\"]/div[3]/div[7]/div[2]/span[4]').text\n",
    "    except:\n",
    "        contact = 'na'\n",
    "    \n",
    "\n",
    "    # whatsapp\n",
    "    try:\n",
    "        whatsapp = driver.find_element_by_xpath('//*[@id=\"displayListing\"]/div[3]/div[7]/div[2]/span[6]').text\n",
    "    except:\n",
    "        whatsapp = 'na'\n",
    "\n",
    "    #website\n",
    "    try:\n",
    "        website = driver.find_element_by_xpath('//*[@id=\"displayListing\"]/div[3]/div[7]/div[2]/span[8]').text\n",
    "    except:\n",
    "        website = 'na'\n",
    "\n",
    "    # salary\n",
    "    try:\n",
    "        salary = driver.find_element_by_xpath('//*[@id=\"displayListing\"]/div[3]/div[9]/div[2]/span[2]').text\n",
    "    except:\n",
    "        salary = 'na'\n",
    "\n",
    "    #workinglocation\n",
    "    try:\n",
    "        workinglocation = driver.find_element_by_xpath('//*[@id=\"displayListing\"]/div[3]/div[9]/div[2]/span[4]').text\n",
    "    except:\n",
    "        workinglocation = 'na'\n",
    "\n",
    "    # jobfuncion\n",
    "    try:\n",
    "        jobfunction = driver.find_element_by_xpath('//*[@id=\"displayListing\"]/div[3]/div[9]/div[2]/span[6]').text\n",
    "    except:\n",
    "        jobfunction = 'na'\n",
    "\n",
    "    #industry\n",
    "    try:\n",
    "        industry = driver.find_element_by_xpath('//*[@id=\"displayListing\"]/div[3]/div[9]/div[2]/span[8]').text\n",
    "    except:\n",
    "        industry = 'na'\n",
    "\n",
    "    #employmentterm\n",
    "    try:\n",
    "        employmentterm = driver.find_element_by_xpath('//*[@id=\"displayListing\"]/div[3]/div[9]/div[2]/span[10]').text\n",
    "    except:\n",
    "        employmentterm = 'na'\n",
    "\n",
    "\n",
    "    # experience\n",
    "    try:\n",
    "        experience = driver.find_element_by_xpath('//*[@id=\"displayListing\"]/div[3]/div[9]/div[2]/span[12]').text\n",
    "    except:\n",
    "        experience = 'na'\n",
    "\n",
    "\n",
    "    # educationlevel\n",
    "    try:\n",
    "        educationlevel = driver.find_element_by_xpath('//*[@id=\"displayListing\"]/div[3]/div[9]/div[2]/span[14]').text\n",
    "    except:\n",
    "        educationlevel = 'na'\n",
    "\n",
    "\n",
    "    # careerlevel\n",
    "    try:\n",
    "        careerlevel = driver.find_element_by_xpath('//*[@id=\"displayListing\"]/div[3]/div[9]/div[2]/span[16]').text\n",
    "    except:\n",
    "        careerlevel = 'na'\n",
    "\n",
    "\n",
    "    # benefit\n",
    "    try:\n",
    "        benefit = driver.find_element_by_xpath('//*[@id=\"displayListing\"]/div[3]/div[9]/div[2]/span[18]').text.replace('\\n',', ')\n",
    "    except:\n",
    "        benefit = 'na'\n",
    "    \n",
    "    \n",
    "    \n",
    "    #making dictonary\n",
    "    data ={\n",
    "        'job_post_url':driver.current_url,\n",
    "        'company_pic_url':company_pic_url,\n",
    "        'job_title_company':job_title_company,\n",
    "        'first_name':secondary_name,\n",
    "        'jobdescription': jobdescription,\n",
    "        'job_info':job_info,\n",
    "        'email':email,\n",
    "        'whatsapp':whatsapp,\n",
    "        'website':website,\n",
    "        'salary': salary,\n",
    "        'workinglocation':workinglocation,\n",
    "        'employmentterm': employmentterm,\n",
    "        'experience': experience,\n",
    "        'educationlevel':educationlevel,\n",
    "        'careerlevel':careerlevel,\n",
    "        'benefit':benefit,\n",
    "        'jobfunction':jobfunction,\n",
    "        'industry':industry,\n",
    "        'contact':contact,\n",
    "        'jobfunction':jobfunction,\n",
    "        'job_name':job_name\n",
    "        \n",
    "     }\n",
    "\n",
    "\n",
    "    #append it to main data\n",
    "    main.append(data)\n",
    "    print(\"Making JSON\")\n",
    "    #Open and save in json file\n",
    "    with open(\"demo.json\", 'w', encoding=\"utf-8\") as f:\n",
    "              json.dump(main, f,indent=4, ensure_ascii=False)\n",
    "\n",
    "    #creating dataframe\n",
    "    df = df.append({\n",
    "        'job_post_url':driver.current_url,\n",
    "        'company_pic_url':company_pic_url,\n",
    "        'job_title_company':job_title_company,\n",
    "        'first_name':secondary_name,\n",
    "        'jobdescription': jobdescription,\n",
    "        'job_info':job_info,\n",
    "        'email':email,\n",
    "        'whatsapp':whatsapp,\n",
    "        'website':website,\n",
    "        'salary': salary,\n",
    "        'workinglocation':workinglocation,\n",
    "        'employmentterm': employmentterm,\n",
    "        'experience': experience,\n",
    "        'educationlevel':educationlevel,\n",
    "        'careerlevel':careerlevel,\n",
    "        'benefit':benefit,\n",
    "        'jobfunction':jobfunction,\n",
    "        'industry':industry,\n",
    "        'contact':contact,\n",
    "        'jobfunction':jobfunction,\n",
    "        'job_name':job_name\n",
    "        \n",
    "     }, ignore_index=True)\n",
    "\n",
    "    print(\"Making csv\")\n",
    "    df.to_csv('input_dataframe.csv')    "
   ]
  }
 ],
 "metadata": {
  "kernelspec": {
   "display_name": "Python 3",
   "language": "python",
   "name": "python3"
  },
  "language_info": {
   "codemirror_mode": {
    "name": "ipython",
    "version": 3
   },
   "file_extension": ".py",
   "mimetype": "text/x-python",
   "name": "python",
   "nbconvert_exporter": "python",
   "pygments_lexer": "ipython3",
   "version": "3.6.2"
  }
 },
 "nbformat": 4,
 "nbformat_minor": 5
}
