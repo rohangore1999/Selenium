{
 "cells": [
  {
   "cell_type": "code",
   "execution_count": 1,
   "id": "2b318861",
   "metadata": {},
   "outputs": [
    {
     "name": "stderr",
     "output_type": "stream",
     "text": [
      "c:\\users\\gorer\\appdata\\local\\programs\\python\\python36\\lib\\site-packages\\fuzzywuzzy\\fuzz.py:11: UserWarning: Using slow pure-python SequenceMatcher. Install python-Levenshtein to remove this warning\n",
      "  warnings.warn('Using slow pure-python SequenceMatcher. Install python-Levenshtein to remove this warning')\n"
     ]
    }
   ],
   "source": [
    "import time\n",
    "from selenium import webdriver\n",
    "from time import sleep\n",
    "from selenium.common.exceptions import NoSuchElementException\n",
    "import json\n",
    "import sys\n",
    "import pandas as pd\n",
    "import numpy as np\n",
    "from fuzzywuzzy import fuzz"
   ]
  },
  {
   "cell_type": "code",
   "execution_count": 23,
   "id": "93ae5285",
   "metadata": {},
   "outputs": [],
   "source": [
    "driver = webdriver.Chrome(executable_path=r\"chromedriver.exe\")"
   ]
  },
  {
   "cell_type": "code",
   "execution_count": 24,
   "id": "3845f560",
   "metadata": {},
   "outputs": [],
   "source": [
    "driver.get('https://www.foodpanda.hk/zh/restaurant/s3br/oppa-chicken-sai-ying-pun?utm_campaign=google_reserve_place_order_action&utm_medium=organic&utm_source=google')"
   ]
  },
  {
   "cell_type": "code",
   "execution_count": 4,
   "id": "02e3c521",
   "metadata": {},
   "outputs": [
    {
     "data": {
      "text/plain": [
       "'River Sichuan Restaurant'"
      ]
     },
     "execution_count": 4,
     "metadata": {},
     "output_type": "execute_result"
    }
   ],
   "source": [
    "name = driver.find_element_by_class_name('vendor-info-main-details').text\n",
    "name"
   ]
  },
  {
   "cell_type": "code",
   "execution_count": 106,
   "id": "d252b3d1",
   "metadata": {},
   "outputs": [
    {
     "data": {
      "text/plain": [
       "'4.4/5'"
      ]
     },
     "execution_count": 106,
     "metadata": {},
     "output_type": "execute_result"
    }
   ],
   "source": [
    "rating = driver.find_element_by_class_name('rating-label').text\n",
    "rating"
   ]
  },
  {
   "cell_type": "code",
   "execution_count": 108,
   "id": "59c1b705",
   "metadata": {},
   "outputs": [
    {
     "data": {
      "text/plain": [
       "['Sichuan', 'Spicy']"
      ]
     },
     "execution_count": 108,
     "metadata": {},
     "output_type": "execute_result"
    }
   ],
   "source": [
    "len_cusine = len(driver.find_element_by_class_name('vendor-info-main-details-cuisines').find_elements_by_tag_name('li'))\n",
    "\n",
    "cusines = []\n",
    "for cs in range(len_cusine):\n",
    "    cusines.append(driver.find_element_by_class_name('vendor-info-main-details-cuisines').find_elements_by_tag_name('li')[cs].text)\n",
    "cusines.pop(0)\n",
    "cusines"
   ]
  },
  {
   "cell_type": "code",
   "execution_count": 43,
   "id": "8aab1aa0",
   "metadata": {},
   "outputs": [
    {
     "data": {
      "text/plain": [
       "18"
      ]
     },
     "execution_count": 43,
     "metadata": {},
     "output_type": "execute_result"
    }
   ],
   "source": [
    "total_category = len(driver.find_element_by_class_name('menu__items-wrapper').find_elements_by_class_name('dish-category-section'))\n",
    "total_category"
   ]
  },
  {
   "cell_type": "code",
   "execution_count": 110,
   "id": "a26ba690",
   "metadata": {},
   "outputs": [
    {
     "data": {
      "text/plain": [
       "'Beers'"
      ]
     },
     "execution_count": 110,
     "metadata": {},
     "output_type": "execute_result"
    }
   ],
   "source": [
    "category = driver.find_element_by_class_name('menu__items-wrapper').find_elements_by_class_name('dish-category-section')[-1].find_element_by_class_name('dish-category-title').text\n",
    "category"
   ]
  },
  {
   "cell_type": "code",
   "execution_count": 48,
   "id": "7dc13a72",
   "metadata": {},
   "outputs": [
    {
     "data": {
      "text/plain": [
       "6"
      ]
     },
     "execution_count": 48,
     "metadata": {},
     "output_type": "execute_result"
    }
   ],
   "source": [
    "dish_len = len(driver.find_element_by_class_name('menu__items-wrapper').find_elements_by_class_name('dish-category-section')[0].find_element_by_class_name('dish-list').find_elements_by_class_name('dish-card'))\n",
    "dish_len"
   ]
  },
  {
   "cell_type": "code",
   "execution_count": 113,
   "id": "7d018af5",
   "metadata": {},
   "outputs": [
    {
     "data": {
      "text/plain": [
       "'Asahi'"
      ]
     },
     "execution_count": 113,
     "metadata": {},
     "output_type": "execute_result"
    }
   ],
   "source": [
    "dish_name = driver.find_element_by_class_name('menu__items-wrapper').find_elements_by_class_name('dish-category-section')[-1].find_element_by_class_name('dish-list').find_elements_by_class_name('dish-card')[-1].text.split(\"\\n\")[0]\n",
    "dish_name"
   ]
  },
  {
   "cell_type": "code",
   "execution_count": 76,
   "id": "95cd499f",
   "metadata": {},
   "outputs": [
    {
     "data": {
      "text/plain": [
       "'Sichuan Cold Noodles\\nPopular dishes | Vegetarian food\\nHK$ 60'"
      ]
     },
     "execution_count": 76,
     "metadata": {},
     "output_type": "execute_result"
    }
   ],
   "source": [
    "driver.find_element_by_class_name('menu__items-wrapper').find_elements_by_class_name('dish-category-section')[0].find_element_by_class_name('dish-list').find_elements_by_class_name('dish-card')[2].text"
   ]
  },
  {
   "cell_type": "code",
   "execution_count": 115,
   "id": "14a9cd49",
   "metadata": {},
   "outputs": [
    {
     "data": {
      "text/plain": [
       "'HK$ 21'"
      ]
     },
     "execution_count": 115,
     "metadata": {},
     "output_type": "execute_result"
    }
   ],
   "source": [
    "dish_price = driver.find_element_by_class_name('menu__items-wrapper').find_elements_by_class_name('dish-category-section')[-1].find_element_by_class_name('dish-list').find_elements_by_class_name('dish-card')[-1].find_element_by_class_name('price').text\n",
    "dish_price"
   ]
  },
  {
   "cell_type": "code",
   "execution_count": 116,
   "id": "1d18ee65",
   "metadata": {},
   "outputs": [
    {
     "data": {
      "text/plain": [
       "'https://micro-assets.foodora.com/img/logo-simple-fp.svg'"
      ]
     },
     "execution_count": 116,
     "metadata": {},
     "output_type": "execute_result"
    }
   ],
   "source": [
    "dsh_url = driver.find_element_by_class_name('menu__items-wrapper').find_elements_by_class_name('dish-category-section')[0].find_element_by_class_name('dish-list').find_elements_by_class_name('dish-card')[-1].find_element_by_tag_name('picture').get_attribute('style').split('(')[1].split(')')[0].replace('\"','')\n",
    "dsh_url"
   ]
  },
  {
   "cell_type": "code",
   "execution_count": 5,
   "id": "7dcc44f6",
   "metadata": {},
   "outputs": [],
   "source": [
    "total_category = len(driver.find_element_by_class_name('menu__items-wrapper').find_elements_by_class_name('dish-category-section'))\n",
    "\n",
    "category = []\n",
    "dish_names = []\n",
    "dish_prices = []\n",
    "dsh_urls = []\n",
    "\n",
    "for tc in range(total_category):\n",
    "    category.append(driver.find_element_by_class_name('menu__items-wrapper').find_elements_by_class_name('dish-category-section')[tc].find_element_by_class_name('dish-category-title').text)\n",
    "    \n",
    "    dish_len = len(driver.find_element_by_class_name('menu__items-wrapper').find_elements_by_class_name('dish-category-section')[tc].find_element_by_class_name('dish-list').find_elements_by_class_name('dish-card'))\n",
    "    \n",
    "    dish_name = []\n",
    "    dish_price = []\n",
    "    dsh_url = []\n",
    "    \n",
    "    for dish in range(dish_len):\n",
    "        try:\n",
    "            dish_name.append(driver.find_element_by_class_name('menu__items-wrapper').find_elements_by_class_name('dish-category-section')[tc].find_element_by_class_name('dish-list').find_elements_by_class_name('dish-card')[dish].text.split(\"\\n\")[0])\n",
    "        except:\n",
    "            dish_name.append('none')\n",
    "        \n",
    "        try:\n",
    "            dish_price.append(driver.find_element_by_class_name('menu__items-wrapper').find_elements_by_class_name('dish-category-section')[tc].find_element_by_class_name('dish-list').find_elements_by_class_name('dish-card')[dish].find_element_by_class_name('price').text.split('$ ')[1])\n",
    "        except:\n",
    "            dish_price.append('none')\n",
    "        \n",
    "        try:\n",
    "            dsh_url.append(driver.find_element_by_class_name('menu__items-wrapper').find_elements_by_class_name('dish-category-section')[tc].find_element_by_class_name('dish-list').find_elements_by_class_name('dish-card')[dish].find_element_by_tag_name('picture').find_element_by_class_name('photo').get_attribute('style').split('(')[1].split(')')[0].replace('\"','').split(\"?\")[0])\n",
    "        except:\n",
    "            dsh_url.append('none')\n",
    "    \n",
    "    dish_names.append(dish_name)\n",
    "    dish_prices.append(dish_price)\n",
    "    dsh_urls.append(dsh_url)"
   ]
  },
  {
   "cell_type": "code",
   "execution_count": 13,
   "id": "13c0a346",
   "metadata": {},
   "outputs": [
    {
     "data": {
      "text/plain": [
       "'21'"
      ]
     },
     "execution_count": 13,
     "metadata": {},
     "output_type": "execute_result"
    }
   ],
   "source": [
    "driver.find_element_by_class_name('menu__items-wrapper').find_elements_by_class_name('dish-category-section')[tc].find_element_by_class_name('dish-list').find_elements_by_class_name('dish-card')[dish].find_element_by_class_name('price').text.split('$ ')[1]"
   ]
  },
  {
   "cell_type": "code",
   "execution_count": 6,
   "id": "db9ee5d8",
   "metadata": {
    "scrolled": true
   },
   "outputs": [
    {
     "data": {
      "text/plain": [
       "['Popular',\n",
       " 'New Arrival',\n",
       " 'Restaurant Specials',\n",
       " 'Appetizers',\n",
       " 'Deep-fried Dishes',\n",
       " 'Dry-fried Dishes',\n",
       " 'Yu-shiang (Spicy Garlic Sauce)',\n",
       " 'Family Dishes',\n",
       " 'Pickled Peppers',\n",
       " 'Non-spicy',\n",
       " 'Vegetables',\n",
       " 'Main Dishes',\n",
       " 'Special Snacks',\n",
       " 'Soups',\n",
       " 'Desserts',\n",
       " 'Beverages',\n",
       " 'Craft Beers',\n",
       " 'Beers']"
      ]
     },
     "execution_count": 6,
     "metadata": {},
     "output_type": "execute_result"
    }
   ],
   "source": [
    "category"
   ]
  },
  {
   "cell_type": "code",
   "execution_count": 7,
   "id": "24d1aa5f",
   "metadata": {
    "scrolled": true
   },
   "outputs": [
    {
     "data": {
      "text/plain": [
       "[['Poached Sliced Fish in Hot Chili Oil',\n",
       "  'Fish Slices with Pickled Vegetables',\n",
       "  'Sichuan Cold Noodles',\n",
       "  'Dry-fried String Beans',\n",
       "  'Ma-po Tofu',\n",
       "  'Shredded Potato in Spicy and Sour Sauce'],\n",
       " ['Spicy Incense Pot',\n",
       "  'Poached Mandarin Fish Slices in Numb and Spicy Soup',\n",
       "  'Sichuan Style Spicy Clam'],\n",
       " ['Smoked Duck',\n",
       "  'Poached Mandarin Fish Slices in Hot Chili Oil',\n",
       "  'Poached Sliced Fish in Hot Chili Oil',\n",
       "  'Poached Frog in Hot Chili Oil',\n",
       "  'Poached Beef in Hot Chili Oil',\n",
       "  'Poached Pork Slices in Hot Chili Oil',\n",
       "  \"Duck's Blood, Beef Tripe in Hot Chili Oil\",\n",
       "  'Mandarin Fish Slices with Pickled Vegetables',\n",
       "  'Fish Slices with Pickled Vegetables',\n",
       "  'Beef with Pickled Vegetables',\n",
       "  'Frog with Green Pepper and Red Pepper',\n",
       "  'Chongxing Poached Numb Chicken',\n",
       "  'Frog with Ginger in Spicy Soup',\n",
       "  'Mandarin Fish Slices in Tomato Soup',\n",
       "  'Fish Slices in Tomato Soup'],\n",
       " ['Chongxing Marinated Chicken with Chili Sauce',\n",
       "  'Beef Tripe, Shank and Tongue in Chili Sauce',\n",
       "  'Sliced Pork with Garlic Sauce',\n",
       "  'Pig Ears with Spicy Sauce',\n",
       "  'Spicy Roasted Beef with Spicy Sauce',\n",
       "  'Chicken Feet with Pickled Peppers',\n",
       "  'Green Chili Pepper and Preserved Egg',\n",
       "  \"Lady's Finger (Okra) with Garlic Sauce\",\n",
       "  'Sichuan Cold Noodles',\n",
       "  'Clear Noodles in Chili Sauce',\n",
       "  'Cold and Spicy Black Fungus',\n",
       "  'Cucumber in Spicy and Sour Sauce'],\n",
       " ['Chongxing Deep-fried Hot Frog',\n",
       "  'Chongxing Deep-fried Chicken Cartilage',\n",
       "  'Chongxing Deep-fried Hot Pork Intestine',\n",
       "  'Deep-fried One Bite Beef',\n",
       "  'Chongxing Deep-fried Hot Shrimp'],\n",
       " ['Dry-fried Sliced Beef',\n",
       "  'Dry-fried Pork Chitterlings',\n",
       "  'Dry-fried Cauliflower',\n",
       "  'Dry-fried String Beans',\n",
       "  'Dry Fried Shredded Pork'],\n",
       " ['Eggplant in Spicy Garlic Sauce',\n",
       "  'Shredded Pork in Spicy Garlic Sauce',\n",
       "  'Beef in Sweet and Spicy Garlic Sauce',\n",
       "  'Pork in Sweet and Spicy Garlic Sauce'],\n",
       " ['Sichuan Style Twice Cooked Pork',\n",
       "  'Sichuan Style Braised Beef',\n",
       "  'Sichuan Style Kung-po Chicken',\n",
       "  'Shredded Pork Belly with Green Pepper',\n",
       "  'Pickled Beans with Minced Pork',\n",
       "  'Ma-po Tofu',\n",
       "  'Potato Noodle with Spicy Minced Pork'],\n",
       " ['Tender Beef with Pickled Peppers',\n",
       "  'Frog with Pickled Peppers',\n",
       "  'Pork Chitterlings with Pickled Peppers',\n",
       "  'Sliced Pork Tripe with Pickled Peppers'],\n",
       " ['Tofu with Pork Slices and Fungus',\n",
       "  'Sichuan Style Salt and Pepper Shrimp',\n",
       "  'Braised Chicken',\n",
       "  'Sichuan Style Salt and Pepper Pork',\n",
       "  'Sweet and Sour Pork',\n",
       "  'Sweet and Sour Chicken',\n",
       "  'Shredded Pork with Asparagus Lettuce',\n",
       "  'Chinese Cured Meat with Cauliflower',\n",
       "  'Scrambled Eggs with Tomato',\n",
       "  'Scrambled Eggs with Green Capsicum',\n",
       "  'Stir-fried Pork Slices with Tomato',\n",
       "  'Stir-fried Shredded Potato with Minced Pork'],\n",
       " ['Stir-fried Shredded Asparagus Lettuce',\n",
       "  'Shredded Potato in Spicy and Sour Sauce',\n",
       "  'Shredded Potato with Green Capsicum',\n",
       "  'Stir-fried Chinese Lettuce',\n",
       "  'Shredded Cabbage in Spicy and Sour Sauce',\n",
       "  'Shredded Cabbages in Sweet and Sour Sauce'],\n",
       " ['Special Fried Rice', 'Sichuan Spicy Fried Rice', 'Plain Rice (1 bowl)'],\n",
       " ['Homemade Dumpling in Spicy Soup',\n",
       "  'Homemade Dumpling in Broth',\n",
       "  'Homemade Meat Dumpling in Spicy Sauce',\n",
       "  'Homemade Meat Dumpling in Special Broth'],\n",
       " ['Tomato and Egg Soup',\n",
       "  'Chinese Lettuce and Tofu Soup',\n",
       "  'Cucumber and Preserved Egg Soup'],\n",
       " ['Homemade Rice Dumpling',\n",
       "  'Sweet Fermented Rice with Rice Dumpling',\n",
       "  'Osmanthus Jelly'],\n",
       " ['Jia Duo Bao',\n",
       "  'Hong Chef - Sour Plum Juice',\n",
       "  'Tai Ho Soybean Milk',\n",
       "  'Coke',\n",
       "  'Coke Zero',\n",
       "  'Cream Soda',\n",
       "  'Sprite',\n",
       "  'Nestea Lemon Tea',\n",
       "  'Vita Distilled Water'],\n",
       " ['Hong Kong Beer', 'Big Wave Bay (India Pale Ale)'],\n",
       " ['Tsing Tao Beer', 'Asahi']]"
      ]
     },
     "execution_count": 7,
     "metadata": {},
     "output_type": "execute_result"
    }
   ],
   "source": [
    "dish_names"
   ]
  },
  {
   "cell_type": "code",
   "execution_count": 10,
   "id": "96b75a62",
   "metadata": {},
   "outputs": [
    {
     "data": {
      "text/plain": [
       "[]"
      ]
     },
     "execution_count": 10,
     "metadata": {},
     "output_type": "execute_result"
    }
   ],
   "source": [
    "import numbers\n",
    "[x for x in dish_prices if isinstance(x, numbers.Number)]"
   ]
  },
  {
   "cell_type": "code",
   "execution_count": 126,
   "id": "b0b37075",
   "metadata": {},
   "outputs": [
    {
     "data": {
      "text/plain": [
       "['HK$ 208',\n",
       " 'HK$ 208',\n",
       " 'HK$ 60',\n",
       " 'HK$ 97',\n",
       " 'HK$ 95',\n",
       " 'HK$ 75',\n",
       " 'HK$ 308',\n",
       " 'HK$ 316',\n",
       " 'HK$ 118',\n",
       " 'from HK$ 198',\n",
       " 'HK$ 274',\n",
       " 'HK$ 208',\n",
       " 'HK$ 198',\n",
       " 'HK$ 198',\n",
       " 'HK$ 198',\n",
       " 'HK$ 218',\n",
       " 'HK$ 274',\n",
       " 'HK$ 208',\n",
       " 'HK$ 198',\n",
       " 'HK$ 193',\n",
       " 'HK$ 193',\n",
       " 'HK$ 193',\n",
       " 'HK$ 274',\n",
       " 'HK$ 208',\n",
       " 'HK$ 90',\n",
       " 'HK$ 90',\n",
       " 'HK$ 78',\n",
       " 'HK$ 78',\n",
       " 'HK$ 78',\n",
       " 'HK$ 55',\n",
       " 'HK$ 61',\n",
       " 'HK$ 61',\n",
       " 'HK$ 60',\n",
       " 'HK$ 48',\n",
       " 'HK$ 55',\n",
       " 'HK$ 51',\n",
       " 'HK$ 193',\n",
       " 'HK$ 193',\n",
       " 'HK$ 193',\n",
       " 'HK$ 193',\n",
       " 'HK$ 208',\n",
       " 'HK$ 239',\n",
       " 'HK$ 158',\n",
       " 'HK$ 158',\n",
       " 'HK$ 105',\n",
       " 'HK$ 97',\n",
       " 'HK$ 158',\n",
       " 'HK$ 113',\n",
       " 'HK$ 135',\n",
       " 'HK$ 155',\n",
       " 'HK$ 135',\n",
       " 'HK$ 124',\n",
       " 'HK$ 145',\n",
       " 'HK$ 125',\n",
       " 'HK$ 113',\n",
       " 'HK$ 101',\n",
       " 'HK$ 95',\n",
       " 'HK$ 105',\n",
       " 'HK$ 113',\n",
       " 'HK$ 160',\n",
       " 'HK$ 193',\n",
       " 'HK$ 158',\n",
       " 'HK$ 153',\n",
       " 'HK$ 113',\n",
       " 'HK$ 180',\n",
       " 'HK$ 135',\n",
       " 'HK$ 113',\n",
       " 'HK$ 113',\n",
       " 'HK$ 113',\n",
       " 'HK$ 105',\n",
       " 'HK$ 101',\n",
       " 'HK$ 101',\n",
       " 'HK$ 101',\n",
       " 'HK$ 101',\n",
       " 'HK$ 75',\n",
       " 'HK$ 84',\n",
       " 'HK$ 75',\n",
       " 'HK$ 75',\n",
       " 'HK$ 73',\n",
       " 'HK$ 75',\n",
       " 'HK$ 75',\n",
       " 'HK$ 90',\n",
       " 'HK$ 90',\n",
       " 'HK$ 16',\n",
       " 'HK$ 84',\n",
       " 'HK$ 84',\n",
       " 'HK$ 84',\n",
       " 'HK$ 84',\n",
       " 'HK$ 97',\n",
       " 'HK$ 97',\n",
       " 'HK$ 97',\n",
       " 'HK$ 48',\n",
       " 'HK$ 48',\n",
       " 'HK$ 32',\n",
       " 'HK$ 18',\n",
       " 'HK$ 18',\n",
       " 'HK$ 18',\n",
       " 'HK$ 15',\n",
       " 'HK$ 15',\n",
       " 'HK$ 15',\n",
       " 'HK$ 15',\n",
       " 'HK$ 15',\n",
       " 'HK$ 15',\n",
       " 'HK$ 38',\n",
       " 'HK$ 38',\n",
       " 'HK$ 39',\n",
       " 'HK$ 21']"
      ]
     },
     "execution_count": 126,
     "metadata": {},
     "output_type": "execute_result"
    }
   ],
   "source": [
    "dish_prices"
   ]
  },
  {
   "cell_type": "code",
   "execution_count": 127,
   "id": "5e1758b6",
   "metadata": {},
   "outputs": [
    {
     "data": {
      "text/plain": [
       "['https://images.deliveryhero.io/image/fd-hk/Products/1510466.jpg',\n",
       " 'https://images.deliveryhero.io/image/fd-hk/1510471.jpg',\n",
       " 'https://images.deliveryhero.io/image/fd-hk/Products/1510416.jpg',\n",
       " 'https://images.deliveryhero.io/image/fd-hk/1510430.jpg',\n",
       " 'none',\n",
       " 'https://images.deliveryhero.io/image/fd-hk/1510443.jpg',\n",
       " 'https://images.deliveryhero.io/image/fd-hk/Products/25300689.jpg',\n",
       " 'none',\n",
       " 'none',\n",
       " 'none',\n",
       " 'none',\n",
       " 'https://images.deliveryhero.io/image/fd-hk/Products/1510466.jpg',\n",
       " 'none',\n",
       " 'none',\n",
       " 'none',\n",
       " 'none',\n",
       " 'none',\n",
       " 'https://images.deliveryhero.io/image/fd-hk/1510471.jpg',\n",
       " 'none',\n",
       " 'none',\n",
       " 'none',\n",
       " 'none',\n",
       " 'none',\n",
       " 'none',\n",
       " 'https://images.deliveryhero.io/image/fd-hk/Products/14477858.jpg',\n",
       " 'none',\n",
       " 'https://images.deliveryhero.io/image/fd-hk/Products/14530094.jpg',\n",
       " 'none',\n",
       " 'none',\n",
       " 'https://images.deliveryhero.io/image/fd-hk/Products/1510414.jpg',\n",
       " 'none',\n",
       " 'https://images.deliveryhero.io/image/fd-hk/Products/1510415.jpg',\n",
       " 'https://images.deliveryhero.io/image/fd-hk/Products/1510416.jpg',\n",
       " 'https://images.deliveryhero.io/image/fd-hk/Products/1510417.jpg',\n",
       " 'https://images.deliveryhero.io/image/fd-hk/1510418.jpg',\n",
       " 'https://images.deliveryhero.io/image/fd-hk/1510419.jpg',\n",
       " 'none',\n",
       " 'none',\n",
       " 'none',\n",
       " 'https://images.deliveryhero.io/image/fd-hk/1510426.jpg',\n",
       " 'none',\n",
       " 'https://images.deliveryhero.io/image/fd-hk/1510422.jpg',\n",
       " 'none',\n",
       " 'https://images.deliveryhero.io/image/fd-hk/Products/1510428.jpg',\n",
       " 'https://images.deliveryhero.io/image/fd-hk/1510429.jpg',\n",
       " 'https://images.deliveryhero.io/image/fd-hk/1510430.jpg',\n",
       " 'none',\n",
       " 'https://images.deliveryhero.io/image/fd-hk/1510449.jpg',\n",
       " 'none',\n",
       " 'none',\n",
       " 'none',\n",
       " 'none',\n",
       " 'https://images.deliveryhero.io/image/fd-hk/1510454.jpg',\n",
       " 'none',\n",
       " 'https://images.deliveryhero.io/image/fd-hk/1510456.jpg',\n",
       " 'https://images.deliveryhero.io/image/fd-hk/1510458.jpg',\n",
       " 'none',\n",
       " 'https://images.deliveryhero.io/image/fd-hk/2322663.jpg',\n",
       " 'https://images.deliveryhero.io/image/fd-hk/Products/1510439.jpg',\n",
       " 'https://images.deliveryhero.io/image/fd-hk/1510431.jpg',\n",
       " 'none',\n",
       " 'https://images.deliveryhero.io/image/fd-hk/1510433.jpg',\n",
       " 'none',\n",
       " 'https://images.deliveryhero.io/image/fd-hk/Products/1510459.jpg',\n",
       " 'none',\n",
       " 'https://images.deliveryhero.io/image/fd-hk/1510436.jpg',\n",
       " 'none',\n",
       " 'https://images.deliveryhero.io/image/fd-hk/Products/1510437.jpg',\n",
       " 'https://images.deliveryhero.io/image/fd-hk/2323001.jpg',\n",
       " 'none',\n",
       " 'none',\n",
       " 'none',\n",
       " 'none',\n",
       " 'none',\n",
       " 'https://images.deliveryhero.io/image/fd-hk/1510440.jpg',\n",
       " 'none',\n",
       " 'https://images.deliveryhero.io/image/fd-hk/1510443.jpg',\n",
       " 'https://images.deliveryhero.io/image/fd-hk/1510444.jpg',\n",
       " 'none',\n",
       " 'https://images.deliveryhero.io/image/fd-hk/1510446.jpg',\n",
       " 'none',\n",
       " 'https://images.deliveryhero.io/image/fd-hk/1510447.jpg',\n",
       " 'https://images.deliveryhero.io/image/fd-hk/Products/1510448.jpg',\n",
       " 'none',\n",
       " 'https://images.deliveryhero.io/image/fd-hk/1510474.jpg',\n",
       " 'https://images.deliveryhero.io/image/fd-hk/1510475.jpg',\n",
       " 'https://images.deliveryhero.io/image/fd-hk/1510476.jpg',\n",
       " 'https://images.deliveryhero.io/image/fd-hk/1510477.jpg',\n",
       " 'https://images.deliveryhero.io/image/fd-hk/1510461.jpg',\n",
       " 'none',\n",
       " 'none',\n",
       " 'none',\n",
       " 'none',\n",
       " 'none',\n",
       " 'none',\n",
       " 'none',\n",
       " 'none',\n",
       " 'https://images.deliveryhero.io/image/fd-hk/Products/1510481.jpg',\n",
       " 'https://images.deliveryhero.io/image/fd-hk/Products/1510482.jpg',\n",
       " 'https://images.deliveryhero.io/image/fd-hk/Products/1510483.jpg',\n",
       " 'https://images.deliveryhero.io/image/fd-hk/Products/1510484.jpg',\n",
       " 'none',\n",
       " 'none',\n",
       " 'none',\n",
       " 'none',\n",
       " 'https://images.deliveryhero.io/image/fd-hk/Products/2337065.jpg',\n",
       " 'https://images.deliveryhero.io/image/fd-hk/Products/2337066.jpg']"
      ]
     },
     "execution_count": 127,
     "metadata": {},
     "output_type": "execute_result"
    }
   ],
   "source": [
    "dsh_urls"
   ]
  },
  {
   "cell_type": "code",
   "execution_count": 16,
   "id": "fac3818a",
   "metadata": {},
   "outputs": [
    {
     "name": "stdout",
     "output_type": "stream",
     "text": [
      "making dict\n",
      "Making JSON\n"
     ]
    }
   ],
   "source": [
    "main = []\n",
    "\n",
    "driver = webdriver.Chrome(executable_path=r\"chromedriver.exe\")\n",
    "driver.maximize_window()\n",
    "\n",
    "driver.get('https://www.foodpanda.hk/restaurant/new/v3cn/river-sichuan-restaurant?utm_campaign=google_reserve_place_order_action&utm_medium=organic&utm_source=google')\n",
    "\n",
    "sleep(0.5)\n",
    "driver.find_element_by_class_name('p-absolute').click()\n",
    "\n",
    "\n",
    "    \n",
    "try:\n",
    "    name = driver.find_element_by_class_name('vendor-info-main-details').text\n",
    "except:\n",
    "    name = 'none'\n",
    "\n",
    "try:\n",
    "    rating = driver.find_element_by_class_name('rating-label').text\n",
    "except:\n",
    "    rating = 'none'\n",
    "\n",
    "try:\n",
    "    len_cusine = len(driver.find_element_by_class_name('vendor-info-main-details-cuisines').find_elements_by_tag_name('li'))\n",
    "\n",
    "    cusines = []\n",
    "    for cs in range(len_cusine):\n",
    "        cusines.append(driver.find_element_by_class_name('vendor-info-main-details-cuisines').find_elements_by_tag_name('li')[cs].text)\n",
    "    cusines.pop(0)\n",
    "except:\n",
    "    cusines = \"none\"\n",
    "\n",
    "# scroll\n",
    "for _ in np.arange(1,10,0.1):\n",
    "    driver.execute_script(f\"window.scrollTo(0, document.body.scrollHeight/{_});\")\n",
    "    sleep(0.1)\n",
    "\n",
    "try:\n",
    "    total_category = len(driver.find_element_by_class_name('menu__items-wrapper').find_elements_by_class_name('dish-category-section'))\n",
    "\n",
    "    category = []\n",
    "    dish_names = []\n",
    "    dish_prices = []\n",
    "    dsh_urls = []\n",
    "\n",
    "    for tc in range(total_category):\n",
    "        category.append(driver.find_element_by_class_name('menu__items-wrapper').find_elements_by_class_name('dish-category-section')[tc].find_element_by_class_name('dish-category-title').text)\n",
    "\n",
    "        dish_len = len(driver.find_element_by_class_name('menu__items-wrapper').find_elements_by_class_name('dish-category-section')[tc].find_element_by_class_name('dish-list').find_elements_by_class_name('dish-card'))\n",
    "\n",
    "        dish_name = []\n",
    "        dish_price = []\n",
    "        dsh_url = []\n",
    "\n",
    "        for dish in range(dish_len):\n",
    "            try:\n",
    "                dish_name.append(driver.find_element_by_class_name('menu__items-wrapper').find_elements_by_class_name('dish-category-section')[tc].find_element_by_class_name('dish-list').find_elements_by_class_name('dish-card')[dish].text.split(\"\\n\")[0])\n",
    "            except:\n",
    "                dish_name.append('none')\n",
    "\n",
    "            try:\n",
    "                dish_price.append(driver.find_element_by_class_name('menu__items-wrapper').find_elements_by_class_name('dish-category-section')[tc].find_element_by_class_name('dish-list').find_elements_by_class_name('dish-card')[dish].find_element_by_class_name('price').text.split('$ ')[1])\n",
    "            except:\n",
    "                dish_price.append('none')\n",
    "\n",
    "            try:\n",
    "                dsh_url.append(driver.find_element_by_class_name('menu__items-wrapper').find_elements_by_class_name('dish-category-section')[tc].find_element_by_class_name('dish-list').find_elements_by_class_name('dish-card')[dish].find_element_by_tag_name('picture').find_element_by_class_name('photo').get_attribute('style').split('(')[1].split(')')[0].replace('\"','').split(\"?\")[0])\n",
    "            except:\n",
    "                dsh_url.append('none')\n",
    "\n",
    "        dish_names.append(dish_name)\n",
    "        dish_prices.append(dish_price)\n",
    "        dsh_urls.append(dsh_url)\n",
    "except:\n",
    "    pass\n",
    "\n",
    "print(\"making dict\")\n",
    "#making dictonary\n",
    "data = {\n",
    " 'url': driver.current_url,\n",
    " 'name': name,\n",
    " 'rating':rating,\n",
    " 'cusines':cusines,\n",
    " 'category':category,\n",
    " 'dish_name':dish_names,\n",
    " 'dish_price':dish_prices,\n",
    " 'dsh_url':dsh_urls   \n",
    " }\n",
    "\n",
    "\n",
    "#append it to main data\n",
    "main.append(data)\n",
    "print(\"Making JSON\")\n",
    "#Open and save in json file\n",
    "with open(\"foodpanda.json\", 'w', encoding=\"utf-8\") as f:\n",
    "          json.dump(main, f,indent=4, ensure_ascii=False)\n"
   ]
  },
  {
   "cell_type": "code",
   "execution_count": null,
   "id": "cb549119",
   "metadata": {},
   "outputs": [],
   "source": []
  },
  {
   "cell_type": "code",
   "execution_count": 40,
   "id": "bdca7f97",
   "metadata": {},
   "outputs": [],
   "source": [
    "with open('google_sai-ying-pun_en.json', encoding=\"utf8\") as f:\n",
    "    json_data = json.load(f)"
   ]
  },
  {
   "cell_type": "code",
   "execution_count": 42,
   "id": "ccc140e5",
   "metadata": {},
   "outputs": [
    {
     "data": {
      "text/plain": [
       "'地址： 西營盤皇后大道西371-379號樂信大廈'"
      ]
     },
     "execution_count": 42,
     "metadata": {},
     "output_type": "execute_result"
    }
   ],
   "source": [
    "json_data[3]['address']"
   ]
  },
  {
   "cell_type": "code",
   "execution_count": 44,
   "id": "96a6ea29",
   "metadata": {},
   "outputs": [
    {
     "data": {
      "text/plain": [
       "'r448491'"
      ]
     },
     "execution_count": 44,
     "metadata": {},
     "output_type": "execute_result"
    }
   ],
   "source": [
    "json_data[3]['unique_id']"
   ]
  },
  {
   "cell_type": "code",
   "execution_count": 39,
   "id": "e51dcdbe",
   "metadata": {},
   "outputs": [
    {
     "name": "stdout",
     "output_type": "stream",
     "text": [
      "https://www.foodpanda.hk/restaurant/v3cn/river-sichuan-restaurant?utm_campaign=google_reserve_place_order_action&utm_medium=organic&utm_source=google\n",
      "making dict\n",
      "Making JSON\n"
     ]
    }
   ],
   "source": [
    "\n",
    "\n",
    "with open('demo.json', encoding=\"utf8\") as f:\n",
    "    json_data = json.load(f)\n",
    "\n",
    "for ordr in range(len(json_data[3]['order'])):\n",
    "    if 'www.foodpanda.hk' in json_data[3]['order'][ordr]:\n",
    "        print(json_data[3]['order'][ordr])\n",
    "        \n",
    "        main = []\n",
    "\n",
    "        driver = webdriver.Chrome(executable_path=r\"chromedriver.exe\")\n",
    "        driver.maximize_window()\n",
    "\n",
    "        driver.get(json_data[3]['order'][ordr])\n",
    "\n",
    "        sleep(0.5)\n",
    "        driver.find_element_by_class_name('p-absolute').click()\n",
    "\n",
    "\n",
    "\n",
    "        try:\n",
    "            name = driver.find_element_by_class_name('vendor-info-main-details').text\n",
    "        except:\n",
    "            name = 'none'\n",
    "\n",
    "        try:\n",
    "            rating = driver.find_element_by_class_name('rating-label').text\n",
    "        except:\n",
    "            rating = 'none'\n",
    "\n",
    "        try:\n",
    "            len_cusine = len(driver.find_element_by_class_name('vendor-info-main-details-cuisines').find_elements_by_tag_name('li'))\n",
    "\n",
    "            cusines = []\n",
    "            for cs in range(len_cusine):\n",
    "                cusines.append(driver.find_element_by_class_name('vendor-info-main-details-cuisines').find_elements_by_tag_name('li')[cs].text)\n",
    "            cusines.pop(0)\n",
    "        except:\n",
    "            cusines = \"none\"\n",
    "\n",
    "        # scroll\n",
    "        for _ in np.arange(1,10,0.1):\n",
    "            driver.execute_script(f\"window.scrollTo(0, document.body.scrollHeight/{_});\")\n",
    "            sleep(0.1)\n",
    "\n",
    "        try:\n",
    "            total_category = len(driver.find_element_by_class_name('menu__items-wrapper').find_elements_by_class_name('dish-category-section'))\n",
    "\n",
    "            category = []\n",
    "            dish_names = []\n",
    "            dish_prices = []\n",
    "            dsh_urls = []\n",
    "\n",
    "            for tc in range(total_category):\n",
    "                category.append(driver.find_element_by_class_name('menu__items-wrapper').find_elements_by_class_name('dish-category-section')[tc].find_element_by_class_name('dish-category-title').text)\n",
    "\n",
    "                dish_len = len(driver.find_element_by_class_name('menu__items-wrapper').find_elements_by_class_name('dish-category-section')[tc].find_element_by_class_name('dish-list').find_elements_by_class_name('dish-card'))\n",
    "\n",
    "                dish_name = []\n",
    "                dish_price = []\n",
    "                dsh_url = []\n",
    "\n",
    "                for dish in range(dish_len):\n",
    "                    try:\n",
    "                        dish_name.append(driver.find_element_by_class_name('menu__items-wrapper').find_elements_by_class_name('dish-category-section')[tc].find_element_by_class_name('dish-list').find_elements_by_class_name('dish-card')[dish].text.split(\"\\n\")[0])\n",
    "                    except:\n",
    "                        dish_name.append('none')\n",
    "\n",
    "                    try:\n",
    "                        dish_price.append(driver.find_element_by_class_name('menu__items-wrapper').find_elements_by_class_name('dish-category-section')[tc].find_element_by_class_name('dish-list').find_elements_by_class_name('dish-card')[dish].find_element_by_class_name('price').text.split('$ ')[1])\n",
    "                    except:\n",
    "                        dish_price.append('none')\n",
    "\n",
    "                    try:\n",
    "                        dsh_url.append(driver.find_element_by_class_name('menu__items-wrapper').find_elements_by_class_name('dish-category-section')[tc].find_element_by_class_name('dish-list').find_elements_by_class_name('dish-card')[dish].find_element_by_tag_name('picture').find_element_by_class_name('photo').get_attribute('style').split('(')[1].split(')')[0].replace('\"','').split(\"?\")[0])\n",
    "                    except:\n",
    "                        dsh_url.append('none')\n",
    "\n",
    "                dish_names.append(dish_name)\n",
    "                dish_prices.append(dish_price)\n",
    "                dsh_urls.append(dsh_url)\n",
    "        except:\n",
    "            pass\n",
    "\n",
    "        print(\"making dict\")\n",
    "        #making dictonary\n",
    "        data = {\n",
    "         'url': driver.current_url,\n",
    "         'name': name,\n",
    "         'rating':rating,\n",
    "         'cusines':cusines,\n",
    "         'category':category,\n",
    "         'dish_name':dish_names,\n",
    "         'dish_price':dish_prices,\n",
    "         'dsh_url':dsh_urls\n",
    "         }\n",
    "\n",
    "\n",
    "        #append it to main data\n",
    "        main.append(data)\n",
    "        print(\"Making JSON\")\n",
    "        #Open and save in json file\n",
    "        with open(\"foodpanda.json\", 'w', encoding=\"utf-8\") as f:\n",
    "                  json.dump(main, f,indent=4, ensure_ascii=False)\n",
    "        \n",
    "        break"
   ]
  },
  {
   "cell_type": "code",
   "execution_count": 12,
   "id": "85334e1b",
   "metadata": {},
   "outputs": [
    {
     "data": {
      "text/plain": [
       "'https://www.foodpanda.hk/zh/restaurant/v7hl/tuckshop-by-social-club?utm_campaign=google_reserve_place_order_action&utm_medium=organic&utm_source=google'"
      ]
     },
     "execution_count": 12,
     "metadata": {},
     "output_type": "execute_result"
    }
   ],
   "source": [
    "link = \"https://www.foodpanda.hk/zh/restaurant/v7hl/tuckshop-by-social-club?utm_campaign=google_reserve_place_order_action&utm_medium=organic&utm_source=google\"\n",
    "link"
   ]
  },
  {
   "cell_type": "code",
   "execution_count": 13,
   "id": "a3f15b93",
   "metadata": {},
   "outputs": [
    {
     "data": {
      "text/plain": [
       "'openrice_western-district_en.json'"
      ]
     },
     "execution_count": 13,
     "metadata": {},
     "output_type": "execute_result"
    }
   ],
   "source": [
    "filename = \"openrice_western-district_en.json\"\n",
    "filename"
   ]
  },
  {
   "cell_type": "code",
   "execution_count": 14,
   "id": "0c92f329",
   "metadata": {},
   "outputs": [
    {
     "name": "stdout",
     "output_type": "stream",
     "text": [
      "yes\n"
     ]
    }
   ],
   "source": [
    "if 'en' in filename:\n",
    "    print(\"yes\")\n",
    "    \n",
    "    if 'zh' in link:\n",
    "        link = link.replace('zh','en')"
   ]
  },
  {
   "cell_type": "code",
   "execution_count": 15,
   "id": "c837a0d0",
   "metadata": {},
   "outputs": [
    {
     "data": {
      "text/plain": [
       "'https://www.foodpanda.hk/en/restaurant/v7hl/tuckshop-by-social-club?utm_campaign=google_reserve_place_order_action&utm_medium=organic&utm_source=google'"
      ]
     },
     "execution_count": 15,
     "metadata": {},
     "output_type": "execute_result"
    }
   ],
   "source": [
    "link"
   ]
  },
  {
   "cell_type": "code",
   "execution_count": 25,
   "id": "3f6bcf39",
   "metadata": {},
   "outputs": [],
   "source": [
    "driver.find_element_by_xpath('//*[@id=\"global-header\"]/header/div[2]/div/a[2]').click()"
   ]
  },
  {
   "cell_type": "code",
   "execution_count": 26,
   "id": "7654b3df",
   "metadata": {},
   "outputs": [],
   "source": [
    "driver.find_element_by_class_name('p-absolute').click()"
   ]
  },
  {
   "cell_type": "code",
   "execution_count": null,
   "id": "74b40cf8",
   "metadata": {},
   "outputs": [],
   "source": []
  }
 ],
 "metadata": {
  "kernelspec": {
   "display_name": "Python 3",
   "language": "python",
   "name": "python3"
  },
  "language_info": {
   "codemirror_mode": {
    "name": "ipython",
    "version": 3
   },
   "file_extension": ".py",
   "mimetype": "text/x-python",
   "name": "python",
   "nbconvert_exporter": "python",
   "pygments_lexer": "ipython3",
   "version": "3.6.2"
  }
 },
 "nbformat": 4,
 "nbformat_minor": 5
}
