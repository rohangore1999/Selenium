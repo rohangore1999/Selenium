{
 "cells": [
  {
   "cell_type": "code",
   "execution_count": 1,
   "id": "24bac747",
   "metadata": {},
   "outputs": [
    {
     "name": "stderr",
     "output_type": "stream",
     "text": [
      "c:\\users\\gorer\\appdata\\local\\programs\\python\\python36\\lib\\site-packages\\fuzzywuzzy\\fuzz.py:11: UserWarning: Using slow pure-python SequenceMatcher. Install python-Levenshtein to remove this warning\n",
      "  warnings.warn('Using slow pure-python SequenceMatcher. Install python-Levenshtein to remove this warning')\n"
     ]
    }
   ],
   "source": [
    "import time\n",
    "from selenium import webdriver\n",
    "from time import sleep\n",
    "from selenium.common.exceptions import NoSuchElementException\n",
    "import json\n",
    "import sys\n",
    "import pandas as pd\n",
    "import numpy as np\n",
    "from fuzzywuzzy import fuzz"
   ]
  },
  {
   "cell_type": "code",
   "execution_count": 2,
   "id": "24c93fda",
   "metadata": {},
   "outputs": [],
   "source": [
    "driver = webdriver.Chrome(executable_path=r\"chromedriver.exe\")"
   ]
  },
  {
   "cell_type": "code",
   "execution_count": 5,
   "id": "f23cdccd",
   "metadata": {},
   "outputs": [],
   "source": [
    "driver.get('https://www.bazaraki.com/real-estate/houses-and-villas-sale/')"
   ]
  },
  {
   "cell_type": "code",
   "execution_count": 11,
   "id": "138267dc",
   "metadata": {},
   "outputs": [
    {
     "data": {
      "text/plain": [
       "[<selenium.webdriver.remote.webelement.WebElement (session=\"d4a7547ea2e1a47df2e06ff0b7c6bc43\", element=\"3ebf0df8-df55-45c7-bfdf-fa8ba5b84bd0\")>,\n",
       " <selenium.webdriver.remote.webelement.WebElement (session=\"d4a7547ea2e1a47df2e06ff0b7c6bc43\", element=\"de13ac33-6622-4ccb-a653-7b4543debc56\")>,\n",
       " <selenium.webdriver.remote.webelement.WebElement (session=\"d4a7547ea2e1a47df2e06ff0b7c6bc43\", element=\"608c1c41-1bdb-4ce4-9891-b08213ca86d1\")>,\n",
       " <selenium.webdriver.remote.webelement.WebElement (session=\"d4a7547ea2e1a47df2e06ff0b7c6bc43\", element=\"e6def90e-4b52-4fbc-89cf-9a71cd468ba6\")>]"
      ]
     },
     "execution_count": 11,
     "metadata": {},
     "output_type": "execute_result"
    }
   ],
   "source": [
    "driver.find_element_by_class_name('list-title__top-container').find_elements_by_class_name('mask')"
   ]
  },
  {
   "cell_type": "code",
   "execution_count": null,
   "id": "747ac380",
   "metadata": {},
   "outputs": [],
   "source": []
  }
 ],
 "metadata": {
  "kernelspec": {
   "display_name": "Python 3",
   "language": "python",
   "name": "python3"
  },
  "language_info": {
   "codemirror_mode": {
    "name": "ipython",
    "version": 3
   },
   "file_extension": ".py",
   "mimetype": "text/x-python",
   "name": "python",
   "nbconvert_exporter": "python",
   "pygments_lexer": "ipython3",
   "version": "3.6.2"
  }
 },
 "nbformat": 4,
 "nbformat_minor": 5
}
