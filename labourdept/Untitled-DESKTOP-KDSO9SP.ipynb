{
 "cells": [
  {
   "cell_type": "code",
   "execution_count": 1,
   "id": "a8a0312d",
   "metadata": {},
   "outputs": [],
   "source": [
    "import time\n",
    "from selenium import webdriver\n",
    "from selenium.webdriver.common.keys import Keys\n",
    "from time import sleep\n",
    "import pandas as pd\n",
    "from selenium.webdriver.common.keys import Keys\n",
    "from selenium.common.exceptions import NoSuchElementException\n",
    "import pickle\n",
    "import numpy as np\n",
    "import json\n",
    "\n",
    "import re\n",
    "from collections import OrderedDict\n",
    "from time import strptime\n",
    "\n",
    "import sys"
   ]
  },
  {
   "cell_type": "code",
   "execution_count": 2,
   "id": "69ee57f2",
   "metadata": {},
   "outputs": [],
   "source": [
    "driver = webdriver.Chrome(executable_path=r\"chromedriver.exe\")"
   ]
  },
  {
   "cell_type": "code",
   "execution_count": 3,
   "id": "52d5fd0e",
   "metadata": {},
   "outputs": [],
   "source": [
    "driver.get(\"https://www.eaa.labour.gov.hk/en/result.html?page-no=1&row-per-page=30&list_all_agencies=all&sort-by=TC_NAME_ASC&types=\")"
   ]
  },
  {
   "cell_type": "code",
   "execution_count": 4,
   "id": "d20e4c88",
   "metadata": {},
   "outputs": [],
   "source": [
    "driver.find_element_by_xpath('//*[@id=\"button-i-accept\"]').click()"
   ]
  },
  {
   "cell_type": "code",
   "execution_count": 5,
   "id": "a29f7267",
   "metadata": {
    "scrolled": true
   },
   "outputs": [],
   "source": [
    "driver.find_element_by_xpath('//*[@id=\"button-i-accept\"]').click()"
   ]
  },
  {
   "cell_type": "code",
   "execution_count": 6,
   "id": "75164a2b",
   "metadata": {},
   "outputs": [],
   "source": [
    "driver.get(\"https://www.eaa.labour.gov.hk/en/result.html?page-no=1&row-per-page=30&list_all_agencies=all&sort-by=TC_NAME_ASC&types=\")"
   ]
  },
  {
   "cell_type": "code",
   "execution_count": 15,
   "id": "6b9f472f",
   "metadata": {},
   "outputs": [
    {
     "data": {
      "text/plain": [
       "'https://www.eaa.labour.gov.hk/en/record.html?page-no=1&row-per-page=30&list_all_agencies=all&sort-by=TC_NAME_ASC&agency_id=1220'"
      ]
     },
     "execution_count": 15,
     "metadata": {},
     "output_type": "execute_result"
    }
   ],
   "source": [
    "link = driver.find_elements_by_class_name('result')[8].find_element_by_class_name('right').find_element_by_tag_name('a').get_attribute('href')\n",
    "link"
   ]
  },
  {
   "cell_type": "code",
   "execution_count": 16,
   "id": "a7fb7df9",
   "metadata": {},
   "outputs": [
    {
     "data": {
      "text/plain": [
       "'1220'"
      ]
     },
     "execution_count": 16,
     "metadata": {},
     "output_type": "execute_result"
    }
   ],
   "source": [
    "agency_id = link.split('&')[-1].split('=')[-1]"
   ]
  },
  {
   "cell_type": "code",
   "execution_count": 31,
   "id": "6a1930d1",
   "metadata": {},
   "outputs": [],
   "source": [
    "driver.get(link)"
   ]
  },
  {
   "cell_type": "code",
   "execution_count": 62,
   "id": "b61b0b93",
   "metadata": {},
   "outputs": [
    {
     "data": {
      "text/plain": [
       "'Suryapacific Jaya Limited'"
      ]
     },
     "execution_count": 62,
     "metadata": {},
     "output_type": "execute_result"
    }
   ],
   "source": [
    "company_name = driver.find_element_by_class_name('main-content').find_element_by_class_name('en-name').text\n",
    "company_name"
   ]
  },
  {
   "cell_type": "code",
   "execution_count": 63,
   "id": "c316209a",
   "metadata": {},
   "outputs": [
    {
     "data": {
      "text/plain": [
       "'蘇莉雅勞務有限公司'"
      ]
     },
     "execution_count": 63,
     "metadata": {},
     "output_type": "execute_result"
    }
   ],
   "source": [
    "chinese_company_name = driver.find_element_by_class_name('main-content').find_element_by_class_name('chi-name').text\n",
    "chinese_company_name"
   ]
  },
  {
   "cell_type": "code",
   "execution_count": 42,
   "id": "620991f2",
   "metadata": {},
   "outputs": [
    {
     "data": {
      "text/plain": [
       "'2019'"
      ]
     },
     "execution_count": 42,
     "metadata": {},
     "output_type": "execute_result"
    }
   ],
   "source": [
    "valid_license = driver.find_element_by_class_name('main-content').find_elements_by_tag_name('p')[1].text\n",
    "valid_license"
   ]
  },
  {
   "cell_type": "code",
   "execution_count": 43,
   "id": "8bc985f8",
   "metadata": {},
   "outputs": [
    {
     "data": {
      "text/plain": [
       "'Yuen Long District'"
      ]
     },
     "execution_count": 43,
     "metadata": {},
     "output_type": "execute_result"
    }
   ],
   "source": [
    "district = driver.find_element_by_class_name('main-content').find_elements_by_tag_name('p')[3].text\n",
    "district"
   ]
  },
  {
   "cell_type": "code",
   "execution_count": 44,
   "id": "6c3116de",
   "metadata": {},
   "outputs": [
    {
     "data": {
      "text/plain": [
       "'Room 9, 2nd floor, Hop Yick Commercial Centre, 33 Hop Choi Street, Yuen Long, New Territories'"
      ]
     },
     "execution_count": 44,
     "metadata": {},
     "output_type": "execute_result"
    }
   ],
   "source": [
    "address = driver.find_element_by_class_name('main-content').find_elements_by_tag_name('p')[5].text\n",
    "address"
   ]
  },
  {
   "cell_type": "code",
   "execution_count": 45,
   "id": "461b6cc8",
   "metadata": {},
   "outputs": [
    {
     "data": {
      "text/plain": [
       "'60939562'"
      ]
     },
     "execution_count": 45,
     "metadata": {},
     "output_type": "execute_result"
    }
   ],
   "source": [
    "telephone = driver.find_element_by_class_name('main-content').find_elements_by_tag_name('p')[7].text\n",
    "telephone"
   ]
  },
  {
   "cell_type": "code",
   "execution_count": 46,
   "id": "7bde9aa5",
   "metadata": {},
   "outputs": [
    {
     "data": {
      "text/plain": [
       "' '"
      ]
     },
     "execution_count": 46,
     "metadata": {},
     "output_type": "execute_result"
    }
   ],
   "source": [
    "fax = driver.find_element_by_class_name('main-content').find_elements_by_tag_name('p')[9].text\n",
    "fax"
   ]
  },
  {
   "cell_type": "code",
   "execution_count": 47,
   "id": "8d1c438b",
   "metadata": {},
   "outputs": [
    {
     "data": {
      "text/plain": [
       "'thelimaconsultancy@gmail.com'"
      ]
     },
     "execution_count": 47,
     "metadata": {},
     "output_type": "execute_result"
    }
   ],
   "source": [
    "email = driver.find_element_by_class_name('main-content').find_elements_by_tag_name('p')[11].text\n",
    "email"
   ]
  },
  {
   "cell_type": "code",
   "execution_count": 48,
   "id": "1e3c5735",
   "metadata": {},
   "outputs": [
    {
     "data": {
      "text/plain": [
       "'Foreign Domestic Helpers'"
      ]
     },
     "execution_count": 48,
     "metadata": {},
     "output_type": "execute_result"
    }
   ],
   "source": [
    "placement_type = driver.find_element_by_class_name('main-content').find_elements_by_tag_name('p')[13].text\n",
    "placement_type"
   ]
  },
  {
   "cell_type": "code",
   "execution_count": 49,
   "id": "b319d26a",
   "metadata": {},
   "outputs": [],
   "source": [
    "driver.back()"
   ]
  },
  {
   "cell_type": "code",
   "execution_count": null,
   "id": "7ce5d2d8",
   "metadata": {},
   "outputs": [],
   "source": []
  },
  {
   "cell_type": "code",
   "execution_count": 54,
   "id": "b9b324c1",
   "metadata": {},
   "outputs": [
    {
     "name": "stdout",
     "output_type": "stream",
     "text": [
      "making dict\n",
      "Making JSON\n",
      "Making csv\n",
      "making dict\n",
      "Making JSON\n",
      "Making csv\n",
      "making dict\n",
      "Making JSON\n",
      "Making csv\n",
      "making dict\n",
      "Making JSON\n",
      "Making csv\n",
      "making dict\n",
      "Making JSON\n",
      "Making csv\n",
      "making dict\n",
      "Making JSON\n",
      "Making csv\n",
      "making dict\n",
      "Making JSON\n",
      "Making csv\n",
      "making dict\n",
      "Making JSON\n",
      "Making csv\n",
      "making dict\n",
      "Making JSON\n",
      "Making csv\n",
      "making dict\n",
      "Making JSON\n",
      "Making csv\n",
      "making dict\n",
      "Making JSON\n",
      "Making csv\n",
      "making dict\n",
      "Making JSON\n",
      "Making csv\n",
      "making dict\n",
      "Making JSON\n",
      "Making csv\n",
      "making dict\n",
      "Making JSON\n",
      "Making csv\n",
      "making dict\n",
      "Making JSON\n",
      "Making csv\n",
      "making dict\n",
      "Making JSON\n",
      "Making csv\n",
      "making dict\n",
      "Making JSON\n",
      "Making csv\n",
      "making dict\n",
      "Making JSON\n",
      "Making csv\n",
      "making dict\n",
      "Making JSON\n",
      "Making csv\n",
      "making dict\n",
      "Making JSON\n",
      "Making csv\n",
      "making dict\n",
      "Making JSON\n",
      "Making csv\n",
      "making dict\n",
      "Making JSON\n",
      "Making csv\n",
      "making dict\n",
      "Making JSON\n",
      "Making csv\n",
      "making dict\n",
      "Making JSON\n",
      "Making csv\n",
      "making dict\n",
      "Making JSON\n",
      "Making csv\n",
      "making dict\n",
      "Making JSON\n",
      "Making csv\n",
      "making dict\n",
      "Making JSON\n",
      "Making csv\n",
      "making dict\n",
      "Making JSON\n",
      "Making csv\n",
      "making dict\n",
      "Making JSON\n",
      "Making csv\n",
      "making dict\n",
      "Making JSON\n",
      "Making csv\n",
      "making dict\n",
      "Making JSON\n",
      "Making csv\n",
      "making dict\n",
      "Making JSON\n",
      "Making csv\n",
      "making dict\n",
      "Making JSON\n",
      "Making csv\n",
      "making dict\n",
      "Making JSON\n",
      "Making csv\n",
      "making dict\n",
      "Making JSON\n",
      "Making csv\n",
      "making dict\n",
      "Making JSON\n",
      "Making csv\n",
      "making dict\n",
      "Making JSON\n",
      "Making csv\n",
      "making dict\n",
      "Making JSON\n",
      "Making csv\n",
      "making dict\n",
      "Making JSON\n",
      "Making csv\n",
      "making dict\n",
      "Making JSON\n",
      "Making csv\n",
      "making dict\n",
      "Making JSON\n",
      "Making csv\n",
      "making dict\n",
      "Making JSON\n",
      "Making csv\n",
      "making dict\n",
      "Making JSON\n",
      "Making csv\n",
      "making dict\n",
      "Making JSON\n",
      "Making csv\n",
      "making dict\n",
      "Making JSON\n",
      "Making csv\n",
      "making dict\n",
      "Making JSON\n",
      "Making csv\n",
      "making dict\n",
      "Making JSON\n",
      "Making csv\n",
      "making dict\n",
      "Making JSON\n",
      "Making csv\n",
      "making dict\n",
      "Making JSON\n",
      "Making csv\n",
      "making dict\n",
      "Making JSON\n",
      "Making csv\n",
      "making dict\n",
      "Making JSON\n",
      "Making csv\n",
      "Message: no such window: target window already closed\n",
      "from unknown error: web view not found\n",
      "  (Session info: chrome=90.0.4430.93)\n",
      "\n",
      "Message: no such window: target window already closed\n",
      "from unknown error: web view not found\n",
      "  (Session info: chrome=90.0.4430.93)\n",
      "\n",
      "Message: no such window: target window already closed\n",
      "from unknown error: web view not found\n",
      "  (Session info: chrome=90.0.4430.93)\n",
      "\n",
      "Message: no such window: target window already closed\n",
      "from unknown error: web view not found\n",
      "  (Session info: chrome=90.0.4430.93)\n",
      "\n",
      "Message: no such window: target window already closed\n",
      "from unknown error: web view not found\n",
      "  (Session info: chrome=90.0.4430.93)\n",
      "\n",
      "Message: no such window: target window already closed\n",
      "from unknown error: web view not found\n",
      "  (Session info: chrome=90.0.4430.93)\n",
      "\n",
      "Message: no such window: target window already closed\n",
      "from unknown error: web view not found\n",
      "  (Session info: chrome=90.0.4430.93)\n",
      "\n"
     ]
    },
    {
     "ename": "NoSuchWindowException",
     "evalue": "Message: no such window: target window already closed\nfrom unknown error: web view not found\n  (Session info: chrome=90.0.4430.93)\n",
     "output_type": "error",
     "traceback": [
      "\u001b[1;31m---------------------------------------------------------------------------\u001b[0m",
      "\u001b[1;31mNoSuchWindowException\u001b[0m                     Traceback (most recent call last)",
      "\u001b[1;32m<ipython-input-54-30270ea089d2>\u001b[0m in \u001b[0;36m<module>\u001b[1;34m\u001b[0m\n\u001b[0;32m     19\u001b[0m \u001b[1;31m# pg no(1 to 111)\u001b[0m\u001b[1;33m\u001b[0m\u001b[1;33m\u001b[0m\u001b[0m\n\u001b[0;32m     20\u001b[0m \u001b[1;32mfor\u001b[0m \u001b[0mpg\u001b[0m \u001b[1;32min\u001b[0m \u001b[0mrange\u001b[0m\u001b[1;33m(\u001b[0m\u001b[1;36m1\u001b[0m\u001b[1;33m,\u001b[0m\u001b[1;36m112\u001b[0m\u001b[1;33m)\u001b[0m\u001b[1;33m:\u001b[0m\u001b[1;33m\u001b[0m\u001b[0m\n\u001b[1;32m---> 21\u001b[1;33m     \u001b[0mdriver\u001b[0m\u001b[1;33m.\u001b[0m\u001b[0mget\u001b[0m\u001b[1;33m(\u001b[0m\u001b[1;34m\"https://www.eaa.labour.gov.hk/en/result.html?page-no=\"\u001b[0m\u001b[1;33m+\u001b[0m\u001b[0mstr\u001b[0m\u001b[1;33m(\u001b[0m\u001b[0mpg\u001b[0m\u001b[1;33m)\u001b[0m\u001b[1;33m+\u001b[0m\u001b[1;34m\"&row-per-page=30&list_all_agencies=all&sort-by=TC_NAME_ASC&types=\"\u001b[0m\u001b[1;33m)\u001b[0m\u001b[1;33m\u001b[0m\u001b[0m\n\u001b[0m\u001b[0;32m     22\u001b[0m \u001b[1;33m\u001b[0m\u001b[0m\n\u001b[0;32m     23\u001b[0m     \u001b[1;31m# companies(per pg 30)\u001b[0m\u001b[1;33m\u001b[0m\u001b[1;33m\u001b[0m\u001b[0m\n",
      "\u001b[1;32mc:\\users\\gorer\\appdata\\local\\programs\\python\\python36\\lib\\site-packages\\selenium\\webdriver\\remote\\webdriver.py\u001b[0m in \u001b[0;36mget\u001b[1;34m(self, url)\u001b[0m\n\u001b[0;32m    331\u001b[0m         \u001b[0mLoads\u001b[0m \u001b[0ma\u001b[0m \u001b[0mweb\u001b[0m \u001b[0mpage\u001b[0m \u001b[1;32min\u001b[0m \u001b[0mthe\u001b[0m \u001b[0mcurrent\u001b[0m \u001b[0mbrowser\u001b[0m \u001b[0msession\u001b[0m\u001b[1;33m.\u001b[0m\u001b[1;33m\u001b[0m\u001b[0m\n\u001b[0;32m    332\u001b[0m         \"\"\"\n\u001b[1;32m--> 333\u001b[1;33m         \u001b[0mself\u001b[0m\u001b[1;33m.\u001b[0m\u001b[0mexecute\u001b[0m\u001b[1;33m(\u001b[0m\u001b[0mCommand\u001b[0m\u001b[1;33m.\u001b[0m\u001b[0mGET\u001b[0m\u001b[1;33m,\u001b[0m \u001b[1;33m{\u001b[0m\u001b[1;34m'url'\u001b[0m\u001b[1;33m:\u001b[0m \u001b[0murl\u001b[0m\u001b[1;33m}\u001b[0m\u001b[1;33m)\u001b[0m\u001b[1;33m\u001b[0m\u001b[0m\n\u001b[0m\u001b[0;32m    334\u001b[0m \u001b[1;33m\u001b[0m\u001b[0m\n\u001b[0;32m    335\u001b[0m     \u001b[1;33m@\u001b[0m\u001b[0mproperty\u001b[0m\u001b[1;33m\u001b[0m\u001b[0m\n",
      "\u001b[1;32mc:\\users\\gorer\\appdata\\local\\programs\\python\\python36\\lib\\site-packages\\selenium\\webdriver\\remote\\webdriver.py\u001b[0m in \u001b[0;36mexecute\u001b[1;34m(self, driver_command, params)\u001b[0m\n\u001b[0;32m    319\u001b[0m         \u001b[0mresponse\u001b[0m \u001b[1;33m=\u001b[0m \u001b[0mself\u001b[0m\u001b[1;33m.\u001b[0m\u001b[0mcommand_executor\u001b[0m\u001b[1;33m.\u001b[0m\u001b[0mexecute\u001b[0m\u001b[1;33m(\u001b[0m\u001b[0mdriver_command\u001b[0m\u001b[1;33m,\u001b[0m \u001b[0mparams\u001b[0m\u001b[1;33m)\u001b[0m\u001b[1;33m\u001b[0m\u001b[0m\n\u001b[0;32m    320\u001b[0m         \u001b[1;32mif\u001b[0m \u001b[0mresponse\u001b[0m\u001b[1;33m:\u001b[0m\u001b[1;33m\u001b[0m\u001b[0m\n\u001b[1;32m--> 321\u001b[1;33m             \u001b[0mself\u001b[0m\u001b[1;33m.\u001b[0m\u001b[0merror_handler\u001b[0m\u001b[1;33m.\u001b[0m\u001b[0mcheck_response\u001b[0m\u001b[1;33m(\u001b[0m\u001b[0mresponse\u001b[0m\u001b[1;33m)\u001b[0m\u001b[1;33m\u001b[0m\u001b[0m\n\u001b[0m\u001b[0;32m    322\u001b[0m             response['value'] = self._unwrap_value(\n\u001b[0;32m    323\u001b[0m                 response.get('value', None))\n",
      "\u001b[1;32mc:\\users\\gorer\\appdata\\local\\programs\\python\\python36\\lib\\site-packages\\selenium\\webdriver\\remote\\errorhandler.py\u001b[0m in \u001b[0;36mcheck_response\u001b[1;34m(self, response)\u001b[0m\n\u001b[0;32m    240\u001b[0m                 \u001b[0malert_text\u001b[0m \u001b[1;33m=\u001b[0m \u001b[0mvalue\u001b[0m\u001b[1;33m[\u001b[0m\u001b[1;34m'alert'\u001b[0m\u001b[1;33m]\u001b[0m\u001b[1;33m.\u001b[0m\u001b[0mget\u001b[0m\u001b[1;33m(\u001b[0m\u001b[1;34m'text'\u001b[0m\u001b[1;33m)\u001b[0m\u001b[1;33m\u001b[0m\u001b[0m\n\u001b[0;32m    241\u001b[0m             \u001b[1;32mraise\u001b[0m \u001b[0mexception_class\u001b[0m\u001b[1;33m(\u001b[0m\u001b[0mmessage\u001b[0m\u001b[1;33m,\u001b[0m \u001b[0mscreen\u001b[0m\u001b[1;33m,\u001b[0m \u001b[0mstacktrace\u001b[0m\u001b[1;33m,\u001b[0m \u001b[0malert_text\u001b[0m\u001b[1;33m)\u001b[0m\u001b[1;33m\u001b[0m\u001b[0m\n\u001b[1;32m--> 242\u001b[1;33m         \u001b[1;32mraise\u001b[0m \u001b[0mexception_class\u001b[0m\u001b[1;33m(\u001b[0m\u001b[0mmessage\u001b[0m\u001b[1;33m,\u001b[0m \u001b[0mscreen\u001b[0m\u001b[1;33m,\u001b[0m \u001b[0mstacktrace\u001b[0m\u001b[1;33m)\u001b[0m\u001b[1;33m\u001b[0m\u001b[0m\n\u001b[0m\u001b[0;32m    243\u001b[0m \u001b[1;33m\u001b[0m\u001b[0m\n\u001b[0;32m    244\u001b[0m     \u001b[1;32mdef\u001b[0m \u001b[0m_value_or_default\u001b[0m\u001b[1;33m(\u001b[0m\u001b[0mself\u001b[0m\u001b[1;33m,\u001b[0m \u001b[0mobj\u001b[0m\u001b[1;33m,\u001b[0m \u001b[0mkey\u001b[0m\u001b[1;33m,\u001b[0m \u001b[0mdefault\u001b[0m\u001b[1;33m)\u001b[0m\u001b[1;33m:\u001b[0m\u001b[1;33m\u001b[0m\u001b[0m\n",
      "\u001b[1;31mNoSuchWindowException\u001b[0m: Message: no such window: target window already closed\nfrom unknown error: web view not found\n  (Session info: chrome=90.0.4430.93)\n"
     ]
    }
   ],
   "source": [
    "# list of dictionary\n",
    "main = []\n",
    "\n",
    "# Initializing data Frame\n",
    "df = pd.DataFrame()\n",
    "\n",
    "\n",
    "driver = webdriver.Chrome(executable_path=r\"chromedriver.exe\")\n",
    "\n",
    "\n",
    "driver.get(\"https://www.eaa.labour.gov.hk/en/result.html?page-no=1&row-per-page=30&list_all_agencies=all&sort-by=TC_NAME_ASC&types=\")\n",
    "\n",
    "# terms and conditions\n",
    "sleep(1)\n",
    "driver.find_element_by_xpath('//*[@id=\"button-i-accept\"]').click()\n",
    "sleep(1)\n",
    "driver.find_element_by_xpath('//*[@id=\"button-i-accept\"]').click()\n",
    "    \n",
    "# pg no(1 to 111)\n",
    "for pg in range(1,112):\n",
    "    print(\"****** Page 1 ongoing******\")\n",
    "    driver.get(\"https://www.eaa.labour.gov.hk/en/result.html?page-no=\"+str(pg)+\"&row-per-page=30&list_all_agencies=all&sort-by=TC_NAME_ASC&types=\")\n",
    "    \n",
    "    # companies(per pg 30)\n",
    "    for c in range(0, 29):\n",
    "        try:\n",
    "            link = driver.find_elements_by_class_name('result')[c].find_element_by_class_name('right').find_element_by_tag_name('a').get_attribute('href')\n",
    "\n",
    "            driver.get(link)\n",
    "\n",
    "            company_name = driver.find_element_by_class_name('main-content').find_element_by_tag_name('h2').text     \n",
    "            if company_name == \" \":\n",
    "                company_name = \"None\"\n",
    "\n",
    "            valid_license = driver.find_element_by_class_name('main-content').find_elements_by_tag_name('p')[1].text   \n",
    "            if valid_license == \" \":\n",
    "                valid_license = \"None\"\n",
    "\n",
    "            district = driver.find_element_by_class_name('main-content').find_elements_by_tag_name('p')[3].text\n",
    "            if district == \" \":\n",
    "                district = \"None\"\n",
    "\n",
    "                \n",
    "            address = driver.find_element_by_class_name('main-content').find_elements_by_tag_name('p')[5].text  \n",
    "            if address == \" \":\n",
    "                address = \"None\"\n",
    "\n",
    "                \n",
    "            telephone = driver.find_element_by_class_name('main-content').find_elements_by_tag_name('p')[7].text    \n",
    "            if telephone == \" \":\n",
    "                telephone = \"None\"\n",
    "\n",
    "                \n",
    "            fax = driver.find_element_by_class_name('main-content').find_elements_by_tag_name('p')[9].text     \n",
    "            if fax == \" \":\n",
    "                fax = \"None\"\n",
    "\n",
    "                \n",
    "            email = driver.find_element_by_class_name('main-content').find_elements_by_tag_name('p')[11].text    \n",
    "            if email == \" \":\n",
    "                email = \"None\"\n",
    "\n",
    "                \n",
    "            placement_type = driver.find_element_by_class_name('main-content').find_elements_by_tag_name('p')[13].text     \n",
    "            if placement_type == \" \":\n",
    "                placement_type = \"None\"\n",
    "\n",
    "            # go back\n",
    "            driver.back()\n",
    "\n",
    "            print(\"making dict\")\n",
    "            #making dictonary\n",
    "            data ={\n",
    "             'company_name': company_name,\n",
    "             'valid_license':valid_license,\n",
    "             'district':district,\n",
    "             'address':address,\n",
    "             'telephone':telephone,\n",
    "             'fax': fax,\n",
    "             'email':email,\n",
    "             'placement_type': placement_type\n",
    "             }\n",
    "    #                     print(data)\n",
    "\n",
    "            #append it to main data\n",
    "            main.append(data)\n",
    "            print(\"Making JSON\")\n",
    "            #Open and save in json file\n",
    "            with open(\"demo.json\", 'w', encoding=\"utf-8\") as f:\n",
    "                      json.dump(main, f,indent=4, ensure_ascii=False)\n",
    "\n",
    "            #creating dataframe\n",
    "            df = df.append({\n",
    "             'company_name': company_name,\n",
    "             'valid_license':valid_license,\n",
    "             'district':district,\n",
    "             'address':address,\n",
    "             'telephone':telephone,\n",
    "             'fax': fax,\n",
    "             'email':email,\n",
    "             'placement_type': placement_type\n",
    "             }, ignore_index=True)\n",
    "\n",
    "            print(\"Making csv\")\n",
    "            df.to_csv('demo.csv')\n",
    "            \n",
    "        except Exception as e:\n",
    "            print(e)\n",
    "            "
   ]
  },
  {
   "cell_type": "code",
   "execution_count": null,
   "id": "a522e483",
   "metadata": {},
   "outputs": [],
   "source": [
    "import time\n",
    "from selenium import webdriver\n",
    "from selenium.webdriver.common.keys import Keys\n",
    "from time import sleep\n",
    "import pandas as pd\n",
    "from selenium.webdriver.common.keys import Keys\n",
    "from selenium.common.exceptions import NoSuchElementException\n",
    "import pickle\n",
    "import numpy as np\n",
    "import json\n",
    "\n",
    "import re\n",
    "from collections import OrderedDict\n",
    "from time import strptime\n",
    "\n",
    "import sys\n",
    "\n",
    "# list of dictionary\n",
    "main = []\n",
    "\n",
    "# Initializing data Frame\n",
    "df = pd.DataFrame()\n",
    "\n",
    "\n",
    "driver = webdriver.Chrome(executable_path=r\"chromedriver.exe\")\n",
    "\n",
    "\n",
    "driver.get(\"https://www.eaa.labour.gov.hk/en/result.html?page-no=1&row-per-page=30&list_all_agencies=all&sort-by=TC_NAME_ASC&types=\")\n",
    "\n",
    "# terms and conditions\n",
    "sleep(1)\n",
    "driver.find_element_by_xpath('//*[@id=\"button-i-accept\"]').click()\n",
    "sleep(1)\n",
    "driver.find_element_by_xpath('//*[@id=\"button-i-accept\"]').click()\n",
    "    \n",
    "# pg no(1 to 111)\n",
    "for pg in range(1,112):\n",
    "    print(\"\\n****** Page \"+str(pg)+\" ongoing******\\n\")\n",
    "    driver.get(\"https://www.eaa.labour.gov.hk/en/result.html?page-no=\"+str(pg)+\"&row-per-page=30&list_all_agencies=all&sort-by=TC_NAME_ASC&types=\")\n",
    "    \n",
    "    # companies(per pg 30)\n",
    "    for c in range(0, 29):\n",
    "        try:\n",
    "            link = driver.find_elements_by_class_name('result')[c].find_element_by_class_name('right').find_element_by_tag_name('a').get_attribute('href')\n",
    "\n",
    "            driver.get(link)\n",
    "\n",
    "            company_name = driver.find_element_by_class_name('main-content').find_element_by_tag_name('h2').text\n",
    "            print(company_name)\n",
    "            print(\" \")\n",
    "            if company_name == \" \":\n",
    "                company_name = \"None\"\n",
    "\n",
    "            try:\n",
    "                chinese_company_name = driver.find_element_by_class_name('main-content').find_element_by_class_name('chi-name').text\n",
    "            except:\n",
    "                chinese_company_name = \"None\"\n",
    "\n",
    "            print(chinese_company_name)\n",
    "            print(\" \")\n",
    "            if chinese_company_name == \" \":\n",
    "                chinese_company_name = \"None\"\n",
    "\n",
    "            valid_license = driver.find_element_by_class_name('main-content').find_elements_by_tag_name('p')[1].text   \n",
    "            if valid_license == \" \":\n",
    "                valid_license = \"None\"\n",
    "\n",
    "            district = driver.find_element_by_class_name('main-content').find_elements_by_tag_name('p')[3].text\n",
    "            if district == \" \":\n",
    "                district = \"None\"\n",
    "\n",
    "                \n",
    "            address = driver.find_element_by_class_name('main-content').find_elements_by_tag_name('p')[5].text  \n",
    "            if address == \" \":\n",
    "                address = \"None\"\n",
    "\n",
    "                \n",
    "            telephone = driver.find_element_by_class_name('main-content').find_elements_by_tag_name('p')[7].text    \n",
    "            if telephone == \" \":\n",
    "                telephone = \"None\"\n",
    "\n",
    "                \n",
    "            fax = driver.find_element_by_class_name('main-content').find_elements_by_tag_name('p')[9].text     \n",
    "            if fax == \" \":\n",
    "                fax = \"None\"\n",
    "\n",
    "                \n",
    "            email = driver.find_element_by_class_name('main-content').find_elements_by_tag_name('p')[11].text    \n",
    "            if email == \" \":\n",
    "                email = \"None\"\n",
    "\n",
    "                \n",
    "            placement_type = driver.find_element_by_class_name('main-content').find_elements_by_tag_name('p')[13].text     \n",
    "            if placement_type == \" \":\n",
    "                placement_type = \"None\"\n",
    "\n",
    "            # go back\n",
    "            driver.back()\n",
    "\n",
    "            # print(\"making dict\")\n",
    "            #making dictonary\n",
    "            data ={\n",
    "             'company_name': company_name,\n",
    "             'chinese_company_name': chinese_company_name,\n",
    "             'valid_license':valid_license,\n",
    "             'district':district,\n",
    "             'address':address,\n",
    "             'telephone':telephone,\n",
    "             'fax': fax,\n",
    "             'email':email,\n",
    "             'placement_type': placement_type\n",
    "             }\n",
    "    #                     print(data)\n",
    "\n",
    "            #append it to main data\n",
    "            main.append(data)\n",
    "            # print(\"Making JSON\")\n",
    "            #Open and save in json file\n",
    "            with open(\"demo.json\", 'w', encoding=\"utf-8\") as f:\n",
    "                      json.dump(main, f,indent=4, ensure_ascii=False)\n",
    "\n",
    "            #creating dataframe\n",
    "            df = df.append({\n",
    "             'company_name': company_name,\n",
    "             'chinese_company_name': chinese_company_name,\n",
    "             'valid_license':valid_license,\n",
    "             'district':district,\n",
    "             'address':address,\n",
    "             'telephone':telephone,\n",
    "             'fax': fax,\n",
    "             'email':email,\n",
    "             'placement_type': placement_type\n",
    "             }, ignore_index=True)\n",
    "\n",
    "            # print(\"Making csv\")\n",
    "            df.to_csv('demo.csv')\n",
    "            \n",
    "        except Exception as e:\n",
    "            print(e)\n"
   ]
  },
  {
   "cell_type": "code",
   "execution_count": 1,
   "id": "4d6a3cd9",
   "metadata": {},
   "outputs": [],
   "source": [
    "import pandas as pd"
   ]
  },
  {
   "cell_type": "code",
   "execution_count": 2,
   "id": "8f53ebb2",
   "metadata": {},
   "outputs": [],
   "source": [
    "df = pd.read_csv('../demo.csv')"
   ]
  },
  {
   "cell_type": "code",
   "execution_count": 5,
   "id": "64afbd16",
   "metadata": {},
   "outputs": [
    {
     "data": {
      "text/html": [
       "<div>\n",
       "<style scoped>\n",
       "    .dataframe tbody tr th:only-of-type {\n",
       "        vertical-align: middle;\n",
       "    }\n",
       "\n",
       "    .dataframe tbody tr th {\n",
       "        vertical-align: top;\n",
       "    }\n",
       "\n",
       "    .dataframe thead th {\n",
       "        text-align: right;\n",
       "    }\n",
       "</style>\n",
       "<table border=\"1\" class=\"dataframe\">\n",
       "  <thead>\n",
       "    <tr style=\"text-align: right;\">\n",
       "      <th></th>\n",
       "      <th>Unnamed: 0</th>\n",
       "      <th>address</th>\n",
       "      <th>chinese_company_name</th>\n",
       "      <th>company_name</th>\n",
       "      <th>district</th>\n",
       "      <th>email</th>\n",
       "      <th>fax</th>\n",
       "      <th>placement_type</th>\n",
       "      <th>telephone</th>\n",
       "      <th>valid_license</th>\n",
       "    </tr>\n",
       "  </thead>\n",
       "  <tbody>\n",
       "    <tr>\n",
       "      <th>1279</th>\n",
       "      <td>1279</td>\n",
       "      <td>Room 1602, 16th floor, Fairmont House, 8 Cotto...</td>\n",
       "      <td>None</td>\n",
       "      <td>WELLESLEY ASSOCIATES LIMITED</td>\n",
       "      <td>Central and Western District</td>\n",
       "      <td>wainfo@wellesleys.com</td>\n",
       "      <td>25219828</td>\n",
       "      <td>Office Staff / Executive Search</td>\n",
       "      <td>28479999</td>\n",
       "      <td>2015</td>\n",
       "    </tr>\n",
       "    <tr>\n",
       "      <th>1280</th>\n",
       "      <td>1280</td>\n",
       "      <td>Unit 17, 19th floor, West Exchange Tower, 322 ...</td>\n",
       "      <td>None</td>\n",
       "      <td>WESLEY KANE LIMITED</td>\n",
       "      <td>Central and Western District</td>\n",
       "      <td>german.cham@gmail.com</td>\n",
       "      <td>None</td>\n",
       "      <td>Office Staff / Executive Search</td>\n",
       "      <td>66804333</td>\n",
       "      <td>2019</td>\n",
       "    </tr>\n",
       "    <tr>\n",
       "      <th>1281</th>\n",
       "      <td>1281</td>\n",
       "      <td>12th, 15th &amp; 18th floor, Soundwill Plaza II - ...</td>\n",
       "      <td>None</td>\n",
       "      <td>WHITECROW RESEARCH PTE. LTD.</td>\n",
       "      <td>Wan Chai District</td>\n",
       "      <td>cecilia.chan@whitecrowresearch.com</td>\n",
       "      <td>None</td>\n",
       "      <td>Office Staff / Executive Search, Other Non-off...</td>\n",
       "      <td>38961133</td>\n",
       "      <td>2018</td>\n",
       "    </tr>\n",
       "    <tr>\n",
       "      <th>1282</th>\n",
       "      <td>1282</td>\n",
       "      <td>Room 12, 3rd floor, Decca Industrial Centre, 1...</td>\n",
       "      <td>None</td>\n",
       "      <td>WINCESS GROUP LIMITED</td>\n",
       "      <td>Eastern District</td>\n",
       "      <td>edwardwong@wincess.com.hk</td>\n",
       "      <td>None</td>\n",
       "      <td>Office Staff / Executive Search</td>\n",
       "      <td>96852410</td>\n",
       "      <td>2017</td>\n",
       "    </tr>\n",
       "    <tr>\n",
       "      <th>1283</th>\n",
       "      <td>1283</td>\n",
       "      <td>Unit 2605, 26th floor, Prosperity Tower, 39 Qu...</td>\n",
       "      <td>None</td>\n",
       "      <td>WINWARD GLOBAL LIMITED</td>\n",
       "      <td>Central and Western District</td>\n",
       "      <td>dwong@winwardglobal.com</td>\n",
       "      <td>None</td>\n",
       "      <td>Office Staff / Executive Search</td>\n",
       "      <td>25883457</td>\n",
       "      <td>2013</td>\n",
       "    </tr>\n",
       "  </tbody>\n",
       "</table>\n",
       "</div>"
      ],
      "text/plain": [
       "      Unnamed: 0                                            address  \\\n",
       "1279        1279  Room 1602, 16th floor, Fairmont House, 8 Cotto...   \n",
       "1280        1280  Unit 17, 19th floor, West Exchange Tower, 322 ...   \n",
       "1281        1281  12th, 15th & 18th floor, Soundwill Plaza II - ...   \n",
       "1282        1282  Room 12, 3rd floor, Decca Industrial Centre, 1...   \n",
       "1283        1283  Unit 2605, 26th floor, Prosperity Tower, 39 Qu...   \n",
       "\n",
       "     chinese_company_name                  company_name  \\\n",
       "1279                 None  WELLESLEY ASSOCIATES LIMITED   \n",
       "1280                 None           WESLEY KANE LIMITED   \n",
       "1281                 None  WHITECROW RESEARCH PTE. LTD.   \n",
       "1282                 None         WINCESS GROUP LIMITED   \n",
       "1283                 None        WINWARD GLOBAL LIMITED   \n",
       "\n",
       "                          district                               email  \\\n",
       "1279  Central and Western District               wainfo@wellesleys.com   \n",
       "1280  Central and Western District               german.cham@gmail.com   \n",
       "1281             Wan Chai District  cecilia.chan@whitecrowresearch.com   \n",
       "1282              Eastern District           edwardwong@wincess.com.hk   \n",
       "1283  Central and Western District             dwong@winwardglobal.com   \n",
       "\n",
       "           fax                                     placement_type telephone  \\\n",
       "1279  25219828                    Office Staff / Executive Search  28479999   \n",
       "1280      None                    Office Staff / Executive Search  66804333   \n",
       "1281      None  Office Staff / Executive Search, Other Non-off...  38961133   \n",
       "1282      None                    Office Staff / Executive Search  96852410   \n",
       "1283      None                    Office Staff / Executive Search  25883457   \n",
       "\n",
       "      valid_license  \n",
       "1279           2015  \n",
       "1280           2019  \n",
       "1281           2018  \n",
       "1282           2017  \n",
       "1283           2013  "
      ]
     },
     "execution_count": 5,
     "metadata": {},
     "output_type": "execute_result"
    }
   ],
   "source": [
    "df.tail()"
   ]
  },
  {
   "cell_type": "code",
   "execution_count": 7,
   "id": "8b501d1b",
   "metadata": {},
   "outputs": [],
   "source": [
    "df.to_csv('demoencod.csv', encoding='utf-8-sig')"
   ]
  },
  {
   "cell_type": "code",
   "execution_count": null,
   "id": "b73827a3",
   "metadata": {},
   "outputs": [],
   "source": []
  }
 ],
 "metadata": {
  "kernelspec": {
   "display_name": "Python 3",
   "language": "python",
   "name": "python3"
  },
  "language_info": {
   "codemirror_mode": {
    "name": "ipython",
    "version": 3
   },
   "file_extension": ".py",
   "mimetype": "text/x-python",
   "name": "python",
   "nbconvert_exporter": "python",
   "pygments_lexer": "ipython3",
   "version": "3.6.2"
  }
 },
 "nbformat": 4,
 "nbformat_minor": 5
}
